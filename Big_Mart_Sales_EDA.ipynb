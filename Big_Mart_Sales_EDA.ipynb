{
  "nbformat": 4,
  "nbformat_minor": 0,
  "metadata": {
    "colab": {
      "name": "Big_Mart_Sales_EDA",
      "provenance": [],
      "collapsed_sections": [],
      "include_colab_link": true
    },
    "kernelspec": {
      "name": "python3",
      "display_name": "Python 3"
    },
    "accelerator": "GPU"
  },
  "cells": [
    {
      "cell_type": "markdown",
      "metadata": {
        "id": "view-in-github",
        "colab_type": "text"
      },
      "source": [
        "<a href=\"https://colab.research.google.com/github/Rahullnitp/Big_Mart_Sales_EDA/blob/master/Big_Mart_Sales_EDA.ipynb\" target=\"_parent\"><img src=\"https://colab.research.google.com/assets/colab-badge.svg\" alt=\"Open In Colab\"/></a>"
      ]
    },
    {
      "cell_type": "code",
      "metadata": {
        "id": "i8vygIcQWAEv",
        "colab_type": "code",
        "colab": {}
      },
      "source": [
        "import numpy as np\n",
        "import matplotlib.pyplot as plt\n",
        "import matplotlib.gridspec as gridspec\n",
        "from PIL import  Image    #Python image ibrary\n",
        "%matplotlib inline\n",
        "import pandas as pd\n",
        "import seaborn as sns\n",
        "from scipy.stats import norm\n",
        "import sklearn\n",
        "from scipy import stats\n",
        "import itertools\n",
        "# from module import *\n",
        "import warnings\n",
        "warnings.filterwarnings(\"ignore\")\n",
        "from sklearn.ensemble import RandomForestRegressor,  GradientBoostingRegressor\n",
        "from sklearn.model_selection import train_test_split,KFold,cross_val_score # for splitting the dataset into train and test set.\n",
        "from sklearn.preprocessing import StandardScaler      # for standardisation of dataset .from sklearn.metrics import recall_score, roc_auc_score, f1_score , accuracy_score, classification_report, confusion_matrix\n",
        "from sklearn import preprocessing\n",
        "from xgboost.sklearn import XGBRegressor\n",
        "from sklearn.metrics import mean_squared_error\n",
        "from sklearn.model_selection import cross_val_score\n",
        "from sklearn.tree import DecisionTreeRegressor\n",
        "from sklearn.pipeline import make_pipeline\n",
        "from sklearn.preprocessing import RobustScaler\n",
        "from sklearn.linear_model import ElasticNet, Lasso,  BayesianRidge, LassoLarsIC\n",
        "from sklearn.kernel_ridge import KernelRidge\n",
        "import xgboost as xgb\n",
        "import lightgbm as lgb\n",
        "from sklearn.base import BaseEstimator, TransformerMixin, RegressorMixin, clone\n",
        "from sklearn.metrics import mean_absolute_error\n",
        "from sklearn.model_selection import learning_curve, GridSearchCV\n",
        "from sklearn.metrics import mean_squared_error"
      ],
      "execution_count": 0,
      "outputs": []
    },
    {
      "cell_type": "markdown",
      "metadata": {
        "id": "qjCY_gqHemFt",
        "colab_type": "text"
      },
      "source": [
        "# 1.Data upload and preprocessing"
      ]
    },
    {
      "cell_type": "code",
      "metadata": {
        "id": "tQUfEkEt0HuC",
        "colab_type": "code",
        "colab": {}
      },
      "source": [
        "\n"
      ],
      "execution_count": 0,
      "outputs": []
    },
    {
      "cell_type": "code",
      "metadata": {
        "id": "QSu6xORBeUPb",
        "colab_type": "code",
        "outputId": "0961b879-ea57-4590-b39a-b37281bc5da2",
        "colab": {
          "resources": {
            "http://localhost:8080/nbextensions/google.colab/files.js": {
              "data": "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",
              "ok": true,
              "headers": [
                [
                  "content-type",
                  "application/javascript"
                ]
              ],
              "status": 200,
              "status_text": ""
            }
          },
          "base_uri": "https://localhost:8080/",
          "height": 142
        }
      },
      "source": [
        "from google.colab import files\n",
        "uploaded=files.upload()"
      ],
      "execution_count": 0,
      "outputs": [
        {
          "output_type": "display_data",
          "data": {
            "text/html": [
              "\n",
              "     <input type=\"file\" id=\"files-a875d8f8-8819-42bb-b299-4dc79480673e\" name=\"files[]\" multiple disabled />\n",
              "     <output id=\"result-a875d8f8-8819-42bb-b299-4dc79480673e\">\n",
              "      Upload widget is only available when the cell has been executed in the\n",
              "      current browser session. Please rerun this cell to enable.\n",
              "      </output>\n",
              "      <script src=\"/nbextensions/google.colab/files.js\"></script> "
            ],
            "text/plain": [
              "<IPython.core.display.HTML object>"
            ]
          },
          "metadata": {
            "tags": []
          }
        },
        {
          "output_type": "stream",
          "text": [
            "Saving Submission.csv to Submission.csv\n",
            "Saving Test.csv to Test.csv\n",
            "Saving Train.csv to Train.csv\n"
          ],
          "name": "stdout"
        }
      ]
    },
    {
      "cell_type": "code",
      "metadata": {
        "id": "u9s0yFwdekf3",
        "colab_type": "code",
        "colab": {}
      },
      "source": [
        "Data_train=pd.read_csv(\"Train.csv\")\n",
        "Data_test=pd.read_csv(\"Test.csv\")\n",
        "Data_submission=pd.read_csv(\"Submission.csv\")"
      ],
      "execution_count": 0,
      "outputs": []
    },
    {
      "cell_type": "code",
      "metadata": {
        "id": "TzXRY4e23Run",
        "colab_type": "code",
        "colab": {}
      },
      "source": [
        "data_total = pd.concat([Data_train,Data_test], ignore_index = True)"
      ],
      "execution_count": 0,
      "outputs": []
    },
    {
      "cell_type": "code",
      "metadata": {
        "id": "IQxjcCpG6D9b",
        "colab_type": "code",
        "outputId": "71b5518c-a4c0-43f1-a820-8e4931c81bc3",
        "colab": {
          "base_uri": "https://localhost:8080/",
          "height": 34
        }
      },
      "source": [
        "print(Data_train.shape, Data_test.shape, data_total.shape)"
      ],
      "execution_count": 0,
      "outputs": [
        {
          "output_type": "stream",
          "text": [
            "(8523, 12) (5681, 11) (14204, 12)\n"
          ],
          "name": "stdout"
        }
      ]
    },
    {
      "cell_type": "code",
      "metadata": {
        "id": "7LwO2hSPeeB3",
        "colab_type": "code",
        "outputId": "7e79c1cd-a9d7-45f0-eed9-d1f27e7b1ff5",
        "colab": {
          "base_uri": "https://localhost:8080/",
          "height": 309
        }
      },
      "source": [
        "data_total.head()"
      ],
      "execution_count": 0,
      "outputs": [
        {
          "output_type": "execute_result",
          "data": {
            "text/html": [
              "<div>\n",
              "<style scoped>\n",
              "    .dataframe tbody tr th:only-of-type {\n",
              "        vertical-align: middle;\n",
              "    }\n",
              "\n",
              "    .dataframe tbody tr th {\n",
              "        vertical-align: top;\n",
              "    }\n",
              "\n",
              "    .dataframe thead th {\n",
              "        text-align: right;\n",
              "    }\n",
              "</style>\n",
              "<table border=\"1\" class=\"dataframe\">\n",
              "  <thead>\n",
              "    <tr style=\"text-align: right;\">\n",
              "      <th></th>\n",
              "      <th>Item_Fat_Content</th>\n",
              "      <th>Item_Identifier</th>\n",
              "      <th>Item_MRP</th>\n",
              "      <th>Item_Outlet_Sales</th>\n",
              "      <th>Item_Type</th>\n",
              "      <th>Item_Visibility</th>\n",
              "      <th>Item_Weight</th>\n",
              "      <th>Outlet_Establishment_Year</th>\n",
              "      <th>Outlet_Identifier</th>\n",
              "      <th>Outlet_Location_Type</th>\n",
              "      <th>Outlet_Size</th>\n",
              "      <th>Outlet_Type</th>\n",
              "    </tr>\n",
              "  </thead>\n",
              "  <tbody>\n",
              "    <tr>\n",
              "      <th>0</th>\n",
              "      <td>Low Fat</td>\n",
              "      <td>FDA15</td>\n",
              "      <td>249.8092</td>\n",
              "      <td>3735.1380</td>\n",
              "      <td>Dairy</td>\n",
              "      <td>0.016047</td>\n",
              "      <td>9.30</td>\n",
              "      <td>1999</td>\n",
              "      <td>OUT049</td>\n",
              "      <td>Tier 1</td>\n",
              "      <td>Medium</td>\n",
              "      <td>Supermarket Type1</td>\n",
              "    </tr>\n",
              "    <tr>\n",
              "      <th>1</th>\n",
              "      <td>Regular</td>\n",
              "      <td>DRC01</td>\n",
              "      <td>48.2692</td>\n",
              "      <td>443.4228</td>\n",
              "      <td>Soft Drinks</td>\n",
              "      <td>0.019278</td>\n",
              "      <td>5.92</td>\n",
              "      <td>2009</td>\n",
              "      <td>OUT018</td>\n",
              "      <td>Tier 3</td>\n",
              "      <td>Medium</td>\n",
              "      <td>Supermarket Type2</td>\n",
              "    </tr>\n",
              "    <tr>\n",
              "      <th>2</th>\n",
              "      <td>Low Fat</td>\n",
              "      <td>FDN15</td>\n",
              "      <td>141.6180</td>\n",
              "      <td>2097.2700</td>\n",
              "      <td>Meat</td>\n",
              "      <td>0.016760</td>\n",
              "      <td>17.50</td>\n",
              "      <td>1999</td>\n",
              "      <td>OUT049</td>\n",
              "      <td>Tier 1</td>\n",
              "      <td>Medium</td>\n",
              "      <td>Supermarket Type1</td>\n",
              "    </tr>\n",
              "    <tr>\n",
              "      <th>3</th>\n",
              "      <td>Regular</td>\n",
              "      <td>FDX07</td>\n",
              "      <td>182.0950</td>\n",
              "      <td>732.3800</td>\n",
              "      <td>Fruits and Vegetables</td>\n",
              "      <td>0.000000</td>\n",
              "      <td>19.20</td>\n",
              "      <td>1998</td>\n",
              "      <td>OUT010</td>\n",
              "      <td>Tier 3</td>\n",
              "      <td>NaN</td>\n",
              "      <td>Grocery Store</td>\n",
              "    </tr>\n",
              "    <tr>\n",
              "      <th>4</th>\n",
              "      <td>Low Fat</td>\n",
              "      <td>NCD19</td>\n",
              "      <td>53.8614</td>\n",
              "      <td>994.7052</td>\n",
              "      <td>Household</td>\n",
              "      <td>0.000000</td>\n",
              "      <td>8.93</td>\n",
              "      <td>1987</td>\n",
              "      <td>OUT013</td>\n",
              "      <td>Tier 3</td>\n",
              "      <td>High</td>\n",
              "      <td>Supermarket Type1</td>\n",
              "    </tr>\n",
              "  </tbody>\n",
              "</table>\n",
              "</div>"
            ],
            "text/plain": [
              "  Item_Fat_Content Item_Identifier  ...  Outlet_Size        Outlet_Type\n",
              "0          Low Fat           FDA15  ...       Medium  Supermarket Type1\n",
              "1          Regular           DRC01  ...       Medium  Supermarket Type2\n",
              "2          Low Fat           FDN15  ...       Medium  Supermarket Type1\n",
              "3          Regular           FDX07  ...          NaN      Grocery Store\n",
              "4          Low Fat           NCD19  ...         High  Supermarket Type1\n",
              "\n",
              "[5 rows x 12 columns]"
            ]
          },
          "metadata": {
            "tags": []
          },
          "execution_count": 6
        }
      ]
    },
    {
      "cell_type": "code",
      "metadata": {
        "id": "CjD3ifyPOn-s",
        "colab_type": "code",
        "colab": {}
      },
      "source": [
        "# data_total[\"Qty_Sold\"] = (data_total[\"Item_Outlet_Sales\"]/data_total[\"Item_MRP\"])\n",
        "# data_total.head()"
      ],
      "execution_count": 0,
      "outputs": []
    },
    {
      "cell_type": "markdown",
      "metadata": {
        "id": "BxxdvCNde0uf",
        "colab_type": "text"
      },
      "source": [
        "# 2.Data cleaning and Feature analysis"
      ]
    },
    {
      "cell_type": "code",
      "metadata": {
        "id": "gX4bb98IjoV-",
        "colab_type": "code",
        "outputId": "20c7c54c-a3d4-4a4d-ce38-93eefeb650bc",
        "colab": {
          "base_uri": "https://localhost:8080/",
          "height": 366
        }
      },
      "source": [
        "# Null value in total data.\n",
        "Missing_Data = data_total.isnull().sum()                        # plotting the count  of missing values\n",
        "Missing_Data = Missing_Data[Missing_Data > 0]             # in each feature.\n",
        "Missing_Data.sort_values(inplace=True)\n",
        "Missing_Data.plot.bar()"
      ],
      "execution_count": 0,
      "outputs": [
        {
          "output_type": "execute_result",
          "data": {
            "text/plain": [
              "<matplotlib.axes._subplots.AxesSubplot at 0x7f5888841d68>"
            ]
          },
          "metadata": {
            "tags": []
          },
          "execution_count": 8
        },
        {
          "output_type": "display_data",
          "data": {
            "image/png": "[encoded data removed]",
            "text/plain": [
              "<Figure size 432x288 with 1 Axes>"
            ]
          },
          "metadata": {
            "tags": []
          }
        }
      ]
    },
    {
      "cell_type": "code",
      "metadata": {
        "id": "rWwi0ZtK4ueZ",
        "colab_type": "code",
        "outputId": "9e3981d7-e6af-4df8-80e2-dd97a2b6c1a8",
        "colab": {
          "base_uri": "https://localhost:8080/",
          "height": 339
        }
      },
      "source": [
        "# Null value in the Data i.e. in training set\n",
        "Missing_Data = Data_train.isnull().sum()                        # plotting the count  of missing values\n",
        "Missing_Data = Missing_Data[Missing_Data > 0]             # in each feature.\n",
        "Missing_Data.sort_values(inplace=True)\n",
        "Missing_Data.plot.bar()"
      ],
      "execution_count": 0,
      "outputs": [
        {
          "output_type": "execute_result",
          "data": {
            "text/plain": [
              "<matplotlib.axes._subplots.AxesSubplot at 0x7f588876cc18>"
            ]
          },
          "metadata": {
            "tags": []
          },
          "execution_count": 9
        },
        {
          "output_type": "display_data",
          "data": {
            "image/png": "[encoded data removed]",
            "text/plain": [
              "<Figure size 432x288 with 1 Axes>"
            ]
          },
          "metadata": {
            "tags": []
          }
        }
      ]
    },
    {
      "cell_type": "markdown",
      "metadata": {
        "id": "kztHBpAbf6e6",
        "colab_type": "text"
      },
      "source": [
        "In the data_total the target feature as expected have missing values only in the Data_test . So, i have to impute the missing values in Item_Weight and Outlet_Size only."
      ]
    },
    {
      "cell_type": "code",
      "metadata": {
        "id": "fytAYKNFjt0o",
        "colab_type": "code",
        "outputId": "d89bb60e-34a7-4a07-c157-06f42d039dd0",
        "colab": {
          "base_uri": "https://localhost:8080/",
          "height": 575
        }
      },
      "source": [
        "#percentage of missing data\n",
        "plt.figure(figsize=(30,20))                        #calculating the % of missing Data for each column.\n",
        "plt.subplot(234)\n",
        "sns.heatmap(pd.DataFrame((data_total.isnull().sum()*100)/data_total.shape[0]),annot=True,cmap=sns.color_palette(\"dark\"),linewidths=1,linecolor=\"white\")\n",
        "plt.title(\"%_Missing_Data\")"
      ],
      "execution_count": 0,
      "outputs": [
        {
          "output_type": "execute_result",
          "data": {
            "text/plain": [
              "Text(0.5, 1.0, '%_Missing_Data')"
            ]
          },
          "metadata": {
            "tags": []
          },
          "execution_count": 10
        },
        {
          "output_type": "display_data",
          "data": {
            "image/png": "[encoded data removed]",
            "text/plain": [
              "<Figure size 2160x1440 with 2 Axes>"
            ]
          },
          "metadata": {
            "tags": []
          }
        }
      ]
    },
    {
      "cell_type": "markdown",
      "metadata": {
        "id": "AjPLAhlLgrpX",
        "colab_type": "text"
      },
      "source": [
        "Amount of missing data for ' Outlet_Size ' and ' Item_Weight' are 28% and 17% respectively,\n",
        "which is very large amnt of missing data for a dataset having only 8523 data.\n",
        "\n",
        "But on going through the dataset we can easily note that 'Item_Weight' and 'Outlet_Size'  for same 'Item_Identifier' are same. So, due to repetition of 'Item_Identifier' some of the null value can be filled."
      ]
    },
    {
      "cell_type": "code",
      "metadata": {
        "id": "KX0i390eN0z6",
        "colab_type": "code",
        "colab": {}
      },
      "source": [
        ""
      ],
      "execution_count": 0,
      "outputs": []
    },
    {
      "cell_type": "code",
      "metadata": {
        "id": "zkrs-9uhjxpa",
        "colab_type": "code",
        "colab": {}
      },
      "source": [
        "data_total['Item_Weight']=data_total.sort_values(['Item_Identifier','Item_Weight']).groupby('Item_Identifier')['Item_Weight'].ffill()  # filling the null value in 'Item_Weight'\n",
        "data_total['Outlet_Size']=data_total.groupby('Outlet_Type').Outlet_Size.transform(lambda x: x.fillna(x.mode()[0]))\n",
        "# data_total['Outlet_Size']=data_total.sort_values(['Outlet_Identifier','Outlet_Size']).groupby('Outlet_Identifier')['Outlet_Size'].ffill()  # filling the null value in 'Outlet_Size'."
      ],
      "execution_count": 0,
      "outputs": []
    },
    {
      "cell_type": "code",
      "metadata": {
        "id": "oFH40Hh0kyJ3",
        "colab_type": "code",
        "outputId": "cb1f0daa-8b1d-4006-9b2e-cdcf6a2a6078",
        "colab": {
          "base_uri": "https://localhost:8080/",
          "height": 238
        }
      },
      "source": [
        "data_total.isnull().sum()"
      ],
      "execution_count": 0,
      "outputs": [
        {
          "output_type": "execute_result",
          "data": {
            "text/plain": [
              "Item_Fat_Content                0\n",
              "Item_Identifier                 0\n",
              "Item_MRP                        0\n",
              "Item_Outlet_Sales            5681\n",
              "Item_Type                       0\n",
              "Item_Visibility                 0\n",
              "Item_Weight                     0\n",
              "Outlet_Establishment_Year       0\n",
              "Outlet_Identifier               0\n",
              "Outlet_Location_Type            0\n",
              "Outlet_Size                     0\n",
              "Outlet_Type                     0\n",
              "dtype: int64"
            ]
          },
          "metadata": {
            "tags": []
          },
          "execution_count": 12
        }
      ]
    },
    {
      "cell_type": "code",
      "metadata": {
        "id": "TBWT6YSpg2P7",
        "colab_type": "code",
        "colab": {}
      },
      "source": [
        "#DROP THE DUPLICATE ROWS i.e. repetition of same example"
      ],
      "execution_count": 0,
      "outputs": []
    },
    {
      "cell_type": "code",
      "metadata": {
        "id": "JqFsBT6kg6a-",
        "colab_type": "code",
        "colab": {}
      },
      "source": [
        "data_total.drop_duplicates(inplace=True)"
      ],
      "execution_count": 0,
      "outputs": []
    },
    {
      "cell_type": "code",
      "metadata": {
        "id": "BKB-VQ_H5YRN",
        "colab_type": "code",
        "outputId": "b6622b93-2abd-4ec1-eef2-d6dd9ad72451",
        "colab": {
          "base_uri": "https://localhost:8080/",
          "height": 238
        }
      },
      "source": [
        "data_total.dtypes"
      ],
      "execution_count": 0,
      "outputs": [
        {
          "output_type": "execute_result",
          "data": {
            "text/plain": [
              "Item_Fat_Content              object\n",
              "Item_Identifier               object\n",
              "Item_MRP                     float64\n",
              "Item_Outlet_Sales            float64\n",
              "Item_Type                     object\n",
              "Item_Visibility              float64\n",
              "Item_Weight                  float64\n",
              "Outlet_Establishment_Year      int64\n",
              "Outlet_Identifier             object\n",
              "Outlet_Location_Type          object\n",
              "Outlet_Size                   object\n",
              "Outlet_Type                   object\n",
              "dtype: object"
            ]
          },
          "metadata": {
            "tags": []
          },
          "execution_count": 15
        }
      ]
    },
    {
      "cell_type": "code",
      "metadata": {
        "id": "W_0tS4MA4yPS",
        "colab_type": "code",
        "colab": {}
      },
      "source": [
        ""
      ],
      "execution_count": 0,
      "outputs": []
    },
    {
      "cell_type": "code",
      "metadata": {
        "id": "rXUhahJKfeWI",
        "colab_type": "code",
        "colab": {}
      },
      "source": [
        "# Remove the column with unique values . \n",
        "data_total = data_total[[col for col in data_total if not len(set(data_total[col]))==1]]"
      ],
      "execution_count": 0,
      "outputs": []
    },
    {
      "cell_type": "code",
      "metadata": {
        "id": "tZzC7VZAg_te",
        "colab_type": "code",
        "outputId": "9b6e3d57-45a0-43fb-8965-83cb573b7e12",
        "colab": {
          "base_uri": "https://localhost:8080/",
          "height": 34
        }
      },
      "source": [
        "data_total.shape"
      ],
      "execution_count": 0,
      "outputs": [
        {
          "output_type": "execute_result",
          "data": {
            "text/plain": [
              "(14204, 12)"
            ]
          },
          "metadata": {
            "tags": []
          },
          "execution_count": 17
        }
      ]
    },
    {
      "cell_type": "code",
      "metadata": {
        "id": "n9jWaHEatULE",
        "colab_type": "code",
        "colab": {}
      },
      "source": [
        "column_list=data_total.columns"
      ],
      "execution_count": 0,
      "outputs": []
    },
    {
      "cell_type": "code",
      "metadata": {
        "id": "yD2rty34tmFX",
        "colab_type": "code",
        "outputId": "c5ae4b67-9135-44c4-fafb-f0163daac78d",
        "colab": {
          "base_uri": "https://localhost:8080/",
          "height": 34
        }
      },
      "source": [
        "len(column_list)"
      ],
      "execution_count": 0,
      "outputs": [
        {
          "output_type": "execute_result",
          "data": {
            "text/plain": [
              "12"
            ]
          },
          "metadata": {
            "tags": []
          },
          "execution_count": 19
        }
      ]
    },
    {
      "cell_type": "code",
      "metadata": {
        "id": "ZtuAhEUVvqkA",
        "colab_type": "code",
        "outputId": "eab70c5c-5a67-41a3-a24d-2a6d4eed31b3",
        "colab": {
          "base_uri": "https://localhost:8080/",
          "height": 297
        }
      },
      "source": [
        "data_total.describe()"
      ],
      "execution_count": 0,
      "outputs": [
        {
          "output_type": "execute_result",
          "data": {
            "text/html": [
              "<div>\n",
              "<style scoped>\n",
              "    .dataframe tbody tr th:only-of-type {\n",
              "        vertical-align: middle;\n",
              "    }\n",
              "\n",
              "    .dataframe tbody tr th {\n",
              "        vertical-align: top;\n",
              "    }\n",
              "\n",
              "    .dataframe thead th {\n",
              "        text-align: right;\n",
              "    }\n",
              "</style>\n",
              "<table border=\"1\" class=\"dataframe\">\n",
              "  <thead>\n",
              "    <tr style=\"text-align: right;\">\n",
              "      <th></th>\n",
              "      <th>Item_MRP</th>\n",
              "      <th>Item_Outlet_Sales</th>\n",
              "      <th>Item_Visibility</th>\n",
              "      <th>Item_Weight</th>\n",
              "      <th>Outlet_Establishment_Year</th>\n",
              "    </tr>\n",
              "  </thead>\n",
              "  <tbody>\n",
              "    <tr>\n",
              "      <th>count</th>\n",
              "      <td>14204.000000</td>\n",
              "      <td>8523.000000</td>\n",
              "      <td>14204.000000</td>\n",
              "      <td>14204.000000</td>\n",
              "      <td>14204.000000</td>\n",
              "    </tr>\n",
              "    <tr>\n",
              "      <th>mean</th>\n",
              "      <td>141.004977</td>\n",
              "      <td>2181.288914</td>\n",
              "      <td>0.065953</td>\n",
              "      <td>12.793380</td>\n",
              "      <td>1997.830681</td>\n",
              "    </tr>\n",
              "    <tr>\n",
              "      <th>std</th>\n",
              "      <td>62.086938</td>\n",
              "      <td>1706.499616</td>\n",
              "      <td>0.051459</td>\n",
              "      <td>4.651716</td>\n",
              "      <td>8.371664</td>\n",
              "    </tr>\n",
              "    <tr>\n",
              "      <th>min</th>\n",
              "      <td>31.290000</td>\n",
              "      <td>33.290000</td>\n",
              "      <td>0.000000</td>\n",
              "      <td>4.555000</td>\n",
              "      <td>1985.000000</td>\n",
              "    </tr>\n",
              "    <tr>\n",
              "      <th>25%</th>\n",
              "      <td>94.012000</td>\n",
              "      <td>834.247400</td>\n",
              "      <td>0.027036</td>\n",
              "      <td>8.710000</td>\n",
              "      <td>1987.000000</td>\n",
              "    </tr>\n",
              "    <tr>\n",
              "      <th>50%</th>\n",
              "      <td>142.247000</td>\n",
              "      <td>1794.331000</td>\n",
              "      <td>0.054021</td>\n",
              "      <td>12.600000</td>\n",
              "      <td>1999.000000</td>\n",
              "    </tr>\n",
              "    <tr>\n",
              "      <th>75%</th>\n",
              "      <td>185.855600</td>\n",
              "      <td>3101.296400</td>\n",
              "      <td>0.094037</td>\n",
              "      <td>16.750000</td>\n",
              "      <td>2004.000000</td>\n",
              "    </tr>\n",
              "    <tr>\n",
              "      <th>max</th>\n",
              "      <td>266.888400</td>\n",
              "      <td>13086.964800</td>\n",
              "      <td>0.328391</td>\n",
              "      <td>21.350000</td>\n",
              "      <td>2009.000000</td>\n",
              "    </tr>\n",
              "  </tbody>\n",
              "</table>\n",
              "</div>"
            ],
            "text/plain": [
              "           Item_MRP  Item_Outlet_Sales  ...   Item_Weight  Outlet_Establishment_Year\n",
              "count  14204.000000        8523.000000  ...  14204.000000               14204.000000\n",
              "mean     141.004977        2181.288914  ...     12.793380                1997.830681\n",
              "std       62.086938        1706.499616  ...      4.651716                   8.371664\n",
              "min       31.290000          33.290000  ...      4.555000                1985.000000\n",
              "25%       94.012000         834.247400  ...      8.710000                1987.000000\n",
              "50%      142.247000        1794.331000  ...     12.600000                1999.000000\n",
              "75%      185.855600        3101.296400  ...     16.750000                2004.000000\n",
              "max      266.888400       13086.964800  ...     21.350000                2009.000000\n",
              "\n",
              "[8 rows x 5 columns]"
            ]
          },
          "metadata": {
            "tags": []
          },
          "execution_count": 20
        }
      ]
    },
    {
      "cell_type": "code",
      "metadata": {
        "id": "Q84NMYJdhLqQ",
        "colab_type": "code",
        "outputId": "d95ea965-b052-4d74-e2bf-cba4166accc1",
        "colab": {
          "base_uri": "https://localhost:8080/",
          "height": 221
        }
      },
      "source": [
        "for i in range(12):\n",
        "  print(column_list[i] ,':' , len(data_total.iloc[:,i].value_counts()))"
      ],
      "execution_count": 0,
      "outputs": [
        {
          "output_type": "stream",
          "text": [
            "Item_Fat_Content : 5\n",
            "Item_Identifier : 1559\n",
            "Item_MRP : 8052\n",
            "Item_Outlet_Sales : 3493\n",
            "Item_Type : 16\n",
            "Item_Visibility : 13006\n",
            "Item_Weight : 415\n",
            "Outlet_Establishment_Year : 9\n",
            "Outlet_Identifier : 10\n",
            "Outlet_Location_Type : 3\n",
            "Outlet_Size : 3\n",
            "Outlet_Type : 4\n"
          ],
          "name": "stdout"
        }
      ]
    },
    {
      "cell_type": "code",
      "metadata": {
        "id": "I5MXETlO48Yt",
        "colab_type": "code",
        "outputId": "3cc2fb62-f150-4d0b-a51c-450f683287ec",
        "colab": {
          "base_uri": "https://localhost:8080/",
          "height": 625
        }
      },
      "source": [
        "sns.distplot(Data_train['Item_Outlet_Sales'] , fit = norm);\n",
        "\n",
        "# Get the fitted parameters used by the function\n",
        "(mu, sigma) = norm.fit(Data_train['Item_Outlet_Sales'])\n",
        "print( '\\n mu = {:.2f} and sigma = {:.2f}\\n'.format(mu, sigma))\n",
        "\n",
        "#Now plot the distribution\n",
        "plt.legend(['Normal dist. ($\\mu=$ {:.2f} and $\\sigma=$ {:.2f} )'.format(mu, sigma)],\n",
        "            loc='best')\n",
        "plt.ylabel('Frequency')\n",
        "plt.title('Item_Outlet_Sales distribution')\n",
        "\n",
        "#Get also the QQ-plot\n",
        "fig = plt.figure()\n",
        "res = stats.probplot(Data_train['Item_Outlet_Sales'], plot=plt)\n",
        "plt.show()"
      ],
      "execution_count": 0,
      "outputs": [
        {
          "output_type": "stream",
          "text": [
            "\n",
            " mu = 2181.29 and sigma = 1706.40\n",
            "\n"
          ],
          "name": "stdout"
        },
        {
          "output_type": "display_data",
          "data": {
            "image/png": "[encoded data removed]",
            "text/plain": [
              "<Figure size 432x288 with 1 Axes>"
            ]
          },
          "metadata": {
            "tags": []
          }
        },
        {
          "output_type": "display_data",
          "data": {
            "image/png": "[encoded data removed]",
            "text/plain": [
              "<Figure size 432x288 with 1 Axes>"
            ]
          },
          "metadata": {
            "tags": []
          }
        }
      ]
    },
    {
      "cell_type": "code",
      "metadata": {
        "id": "jhTujoKV8j_2",
        "colab_type": "code",
        "outputId": "6dfd59cf-ed7d-4a80-8be5-a75fa976200f",
        "colab": {
          "base_uri": "https://localhost:8080/",
          "height": 625
        }
      },
      "source": [
        "#We use the numpy fuction log1p which  applies log(1+x) to all elements of the column\n",
        "Data_train[\"Item_Outlet_Sales\"] = np.log1p(Data_train[\"Item_Outlet_Sales\"])\n",
        "\n",
        "#Check the new distribution \n",
        "sns.distplot(Data_train['Item_Outlet_Sales'] , fit=norm);\n",
        "\n",
        "# Get the fitted parameters used by the function\n",
        "(mu, sigma) = norm.fit(Data_train['Item_Outlet_Sales'])\n",
        "print( '\\n mu = {:.2f} and sigma = {:.2f}\\n'.format(mu, sigma))\n",
        "\n",
        "#Now plot the distribution\n",
        "plt.legend(['Normal dist. ($\\mu=$ {:.2f} and $\\sigma=$ {:.2f} )'.format(mu, sigma)],\n",
        "            loc='best')\n",
        "plt.ylabel('Frequency')\n",
        "plt.title('Item_Outlet_Sales distribution')\n",
        "\n",
        "#Get also the QQ-plot\n",
        "fig = plt.figure()\n",
        "res = stats.probplot(Data_train['Item_Outlet_Sales'], plot=plt)\n",
        "plt.show()"
      ],
      "execution_count": 0,
      "outputs": [
        {
          "output_type": "stream",
          "text": [
            "\n",
            " mu = 7.30 and sigma = 1.02\n",
            "\n"
          ],
          "name": "stdout"
        },
        {
          "output_type": "display_data",
          "data": {
            "image/png": "[encoded data removed]",
            "text/plain": [
              "<Figure size 432x288 with 1 Axes>"
            ]
          },
          "metadata": {
            "tags": []
          }
        },
        {
          "output_type": "display_data",
          "data": {
            "image/png": "[encoded data removed]",
            "text/plain": [
              "<Figure size 432x288 with 1 Axes>"
            ]
          },
          "metadata": {
            "tags": []
          }
        }
      ]
    },
    {
      "cell_type": "code",
      "metadata": {
        "id": "uFq4rN5xTpFF",
        "colab_type": "code",
        "outputId": "542307a7-b07a-499e-a178-c81f5547fd66",
        "colab": {
          "base_uri": "https://localhost:8080/",
          "height": 34
        }
      },
      "source": [
        "len(data_total)"
      ],
      "execution_count": 0,
      "outputs": [
        {
          "output_type": "execute_result",
          "data": {
            "text/plain": [
              "14204"
            ]
          },
          "metadata": {
            "tags": []
          },
          "execution_count": 24
        }
      ]
    },
    {
      "cell_type": "code",
      "metadata": {
        "id": "x5Va1ViAVmzh",
        "colab_type": "code",
        "colab": {}
      },
      "source": [
        "continuous = [f for f in data_total.columns if data_total.dtypes[f] != 'object']\n",
        "categorical =[f for f in data_total.columns if data_total.dtypes[f] == 'object']"
      ],
      "execution_count": 0,
      "outputs": []
    },
    {
      "cell_type": "code",
      "metadata": {
        "id": "fBgO_PkTXX8E",
        "colab_type": "code",
        "outputId": "84b0a63b-b2fa-42c4-dc4f-09f88b2b1885",
        "colab": {
          "base_uri": "https://localhost:8080/",
          "height": 102
        }
      },
      "source": [
        "continuous"
      ],
      "execution_count": 0,
      "outputs": [
        {
          "output_type": "execute_result",
          "data": {
            "text/plain": [
              "['Item_MRP',\n",
              " 'Item_Outlet_Sales',\n",
              " 'Item_Visibility',\n",
              " 'Item_Weight',\n",
              " 'Outlet_Establishment_Year']"
            ]
          },
          "metadata": {
            "tags": []
          },
          "execution_count": 26
        }
      ]
    },
    {
      "cell_type": "markdown",
      "metadata": {
        "id": "qFpiJtqCLoA5",
        "colab_type": "text"
      },
      "source": [
        "##this slides were created for outlier removal"
      ]
    },
    {
      "cell_type": "code",
      "metadata": {
        "id": "rXXi5_OuLnUz",
        "colab_type": "code",
        "colab": {}
      },
      "source": [
        ""
      ],
      "execution_count": 0,
      "outputs": []
    },
    {
      "cell_type": "code",
      "metadata": {
        "id": "bvCLUDq-hFqc",
        "colab_type": "code",
        "colab": {}
      },
      "source": [
        "# data_total1=data_total[:8523]\n",
        "# data_total2=data_total[8523:]\n"
      ],
      "execution_count": 0,
      "outputs": []
    },
    {
      "cell_type": "code",
      "metadata": {
        "id": "3smFTvDy7U4U",
        "colab_type": "code",
        "colab": {}
      },
      "source": [
        "# data_total2"
      ],
      "execution_count": 0,
      "outputs": []
    },
    {
      "cell_type": "code",
      "metadata": {
        "id": "zyvRTA-sTYut",
        "colab_type": "code",
        "colab": {}
      },
      "source": [
        "# from scipy import stats\n",
        "# data_total1=data_total1[data_total1[['Item_Outlet_Sales','Item_MRP','Item_Visibility','Item_Weight','Outlet_Establishment_Year']].apply(lambda x: np.abs(x - x.mean()) / x.std() < 3).all(axis=1)]"
      ],
      "execution_count": 0,
      "outputs": []
    },
    {
      "cell_type": "code",
      "metadata": {
        "id": "PcVOtcdXkAh9",
        "colab_type": "code",
        "colab": {}
      },
      "source": [
        "# data_total = pd.concat([data_total1,data_total2], ignore_index = True)"
      ],
      "execution_count": 0,
      "outputs": []
    },
    {
      "cell_type": "code",
      "metadata": {
        "id": "veic20BN5DDz",
        "colab_type": "code",
        "colab": {}
      },
      "source": [
        "# data_total.head()"
      ],
      "execution_count": 0,
      "outputs": []
    },
    {
      "cell_type": "code",
      "metadata": {
        "id": "00hC0-koT90d",
        "colab_type": "code",
        "colab": {}
      },
      "source": [
        "# len(data_total)"
      ],
      "execution_count": 0,
      "outputs": []
    },
    {
      "cell_type": "markdown",
      "metadata": {
        "id": "8cSKUm0GL3Qp",
        "colab_type": "text"
      },
      "source": [
        "##outlier removal slides ends here...."
      ]
    },
    {
      "cell_type": "code",
      "metadata": {
        "id": "DyCAxxUJHUTr",
        "colab_type": "code",
        "colab": {}
      },
      "source": [
        "def feature_plot(X,Y,continuous):\n",
        "  \n",
        "  Data=data_total[:8523]\n",
        "    \n",
        "  x = Data[X]\n",
        "  y = Data[Y]\n",
        "  \n",
        "  \n",
        "  if continuous:    # if the data in the given feature is continuous\n",
        "    \n",
        "    fig = plt.figure(constrained_layout=True,figsize=(17,6))\n",
        "\n",
        "    # ----- assigning grid to for plotting \n",
        "    \n",
        "    gs = gridspec.GridSpec(8, 8, figure=fig)\n",
        "    ax1 = fig.add_subplot(gs[0:2, 5:7])\n",
        "    ax2 = fig.add_subplot(gs[0:, 0:3])\n",
        "    ax4 = fig.add_subplot(gs[2:,5:7])\n",
        "    ax3 = fig.add_subplot(gs[2:,7:8])\n",
        "    \n",
        "  # # #------plot-----\n",
        "    \n",
        "     #-----PLOT WITHOUT \"Item_Outlet_Sales\"-----\n",
        "    \n",
        "    sns.distplot(x, kde=False, ax=ax2)\n",
        "    \n",
        "     #  -----PLOT WITH \"Item_Outlet_Sales\"------\n",
        "    \n",
        "    ax4.scatter(x,y)\n",
        "    ax1.hist(x,bins=70)\n",
        "    ax3.hist(y,bins=70,orientation=\"horizontal\")\n",
        "    \n",
        "    #   fig.suptitle(\"GridSpec\")\n",
        "\n",
        "# Turn off tick labels on marginals\n",
        "    plt.setp(ax1.get_xticklabels(), visible=False)\n",
        "    plt.setp(ax3.get_yticklabels(), visible=False)\n",
        "\n",
        "# Set labels on joint\n",
        "    ax4.set_xlabel(X)\n",
        "    ax4.set_ylabel(Y)\n",
        "\n",
        "# Set labels on marginals\n",
        "    ax3.set_xlabel(Y+' count')\n",
        "    ax1.set_ylabel(X+' count')\n",
        "    \n",
        "  else:     # if the data in the given feature is not continuous .\n",
        "    \n",
        "    fig,(ax5,ax6)=plt.subplots(nrows=1,ncols=2, figsize=(16,5),dpi=90)\n",
        "    \n",
        "    #-----PLOT WITHOUT \"Item_Outlet_Sales\"-----\n",
        "    \n",
        "    #Show the counts of observations in each categorical bin using bars.\n",
        "    count=sns.countplot(x, order=sorted(x.unique()), color='#597500', saturation=1, ax=ax5)                                                                                                 \n",
        "    count.set_xticklabels(count.get_xticklabels(), rotation=80)\n",
        "    ax5.set_title(X+' count')\n",
        "                                                                                                       \n",
        "    \n",
        "    #  -----PLOT WITH \"Item_Outlet_Sales\"------\n",
        "    \n",
        "    sns.boxplot(x=x, y=y, data=Data)\n",
        "#                                                         cat_df_flights = df_flights.select_dtypes(include=['object']).copy()              #sns.catplot(x=\"Outlet_Type\", y=\"Item_Outlet_Sales\", kind=\"boxen\",data=Data);\n",
        "    ax6.set_ylabel('Item_Outlet_Sales')\n",
        "    ax6.set_title('Item_Outlet_Sales by '+X)\n",
        "    plt.xticks(rotation = 80)\n",
        "  plt.show()\n"
      ],
      "execution_count": 0,
      "outputs": []
    },
    {
      "cell_type": "code",
      "metadata": {
        "id": "lX7E8qhtkTa4",
        "colab_type": "code",
        "colab": {}
      },
      "source": [
        ""
      ],
      "execution_count": 0,
      "outputs": []
    },
    {
      "cell_type": "code",
      "metadata": {
        "id": "ixWUNbmjTWk0",
        "colab_type": "code",
        "colab": {}
      },
      "source": [
        ""
      ],
      "execution_count": 0,
      "outputs": []
    },
    {
      "cell_type": "code",
      "metadata": {
        "id": "7c9I-z6mnMtW",
        "colab_type": "code",
        "colab": {}
      },
      "source": [
        "# con_data_total_train = data_total[:8523].select_dtypes(exclude=['object']).copy()"
      ],
      "execution_count": 0,
      "outputs": []
    },
    {
      "cell_type": "code",
      "metadata": {
        "id": "rzTxZZxQ0Cv_",
        "colab_type": "code",
        "colab": {}
      },
      "source": [
        "# con_data_total_test = data_total[8523:].select_dtypes(exclude=['object']).copy()\n",
        "# con_data_total_test=con_data_total_test.drop(['Item_Outlet_Sales'],axis=1)"
      ],
      "execution_count": 0,
      "outputs": []
    },
    {
      "cell_type": "code",
      "metadata": {
        "id": "EW6yk_rinXlF",
        "colab_type": "code",
        "colab": {}
      },
      "source": [
        "# cat_data_total = data_total.select_dtypes(include=['object']).copy()"
      ],
      "execution_count": 0,
      "outputs": []
    },
    {
      "cell_type": "code",
      "metadata": {
        "id": "hGNgaXrJ0KPz",
        "colab_type": "code",
        "colab": {}
      },
      "source": [
        "# cat_data_total_test = data_total[8523:].select_dtypes(include=['object']).copy()"
      ],
      "execution_count": 0,
      "outputs": []
    },
    {
      "cell_type": "code",
      "metadata": {
        "id": "JS6Gqn8O48Nn",
        "colab_type": "code",
        "colab": {}
      },
      "source": [
        ""
      ],
      "execution_count": 0,
      "outputs": []
    },
    {
      "cell_type": "code",
      "metadata": {
        "id": "yzMl0SpfyrC9",
        "colab_type": "code",
        "colab": {}
      },
      "source": [
        "# con_data_total_train=con_data_total_train[con_data_total_train.apply(lambda x: np.abs(x - x.mean()) / x.std() < 3).all(axis=1)]\n",
        "# con_data_total_test=con_data_total_test[con_data_total_test.apply(lambda x: np.abs(x - x.mean()) / x.std() < 3).all(axis=1)]"
      ],
      "execution_count": 0,
      "outputs": []
    },
    {
      "cell_type": "code",
      "metadata": {
        "id": "v1vvwNXuZt2U",
        "colab_type": "code",
        "colab": {}
      },
      "source": [
        "# from scipy import stats\n",
        "# con_data_total=con_data_total[(np.abs(stats.zscore(con_data_total)) < 3).all(axis=1)]"
      ],
      "execution_count": 0,
      "outputs": []
    },
    {
      "cell_type": "code",
      "metadata": {
        "id": "7xSAQwdJwYBH",
        "colab_type": "code",
        "colab": {}
      },
      "source": [
        "# len(con_data_total_train)"
      ],
      "execution_count": 0,
      "outputs": []
    },
    {
      "cell_type": "code",
      "metadata": {
        "id": "MRLOKMtzyTmM",
        "colab_type": "code",
        "colab": {}
      },
      "source": [
        "# cat_data_total = cat_data_total[cat_data_total.between(cat_data_total.quantile(.25), cat_data_total.quantile(.75))]"
      ],
      "execution_count": 0,
      "outputs": []
    },
    {
      "cell_type": "code",
      "metadata": {
        "id": "BEn_Mr4_nfoh",
        "colab_type": "code",
        "colab": {}
      },
      "source": [
        "# len(cat_data_total)"
      ],
      "execution_count": 0,
      "outputs": []
    },
    {
      "cell_type": "markdown",
      "metadata": {
        "id": "bCHQkReL0ehY",
        "colab_type": "text"
      },
      "source": [
        "##    Feature Visualisation"
      ]
    },
    {
      "cell_type": "code",
      "metadata": {
        "id": "2PWy0JhcQkEk",
        "colab_type": "code",
        "outputId": "36d6e0bb-5feb-4362-98b9-2cd90398879c",
        "colab": {
          "base_uri": "https://localhost:8080/",
          "height": 102
        }
      },
      "source": [
        "continuous"
      ],
      "execution_count": 0,
      "outputs": [
        {
          "output_type": "execute_result",
          "data": {
            "text/plain": [
              "['Item_MRP',\n",
              " 'Item_Outlet_Sales',\n",
              " 'Item_Visibility',\n",
              " 'Item_Weight',\n",
              " 'Outlet_Establishment_Year']"
            ]
          },
          "metadata": {
            "tags": []
          },
          "execution_count": 42
        }
      ]
    },
    {
      "cell_type": "markdown",
      "metadata": {
        "id": "3VNu1yIogSbq",
        "colab_type": "text"
      },
      "source": [
        "1. Feature : 'Item_Weight'"
      ]
    },
    {
      "cell_type": "code",
      "metadata": {
        "id": "anISyIqQkkGt",
        "colab_type": "code",
        "outputId": "c452208d-b94d-42bd-9d0e-b3d34e37d6e3",
        "colab": {
          "base_uri": "https://localhost:8080/",
          "height": 398
        }
      },
      "source": [
        "feature_plot('Item_Weight','Item_Outlet_Sales',True)"
      ],
      "execution_count": 0,
      "outputs": [
        {
          "output_type": "display_data",
          "data": {
            "image/png": "[encoded data removed]",
            "text/plain": [
              "<Figure size 1224x432 with 4 Axes>"
            ]
          },
          "metadata": {
            "tags": []
          }
        }
      ]
    },
    {
      "cell_type": "markdown",
      "metadata": {
        "id": "JFYJRuJnfkt2",
        "colab_type": "text"
      },
      "source": [
        "From the above plot , it seems like Item_Weight have a low correlation with Item_Outlet_Sales.It will more clear when we find the correlation matrix later."
      ]
    },
    {
      "cell_type": "markdown",
      "metadata": {
        "id": "RKHJE9XOgahx",
        "colab_type": "text"
      },
      "source": [
        "2. Feature : \"Item_Visibility\""
      ]
    },
    {
      "cell_type": "code",
      "metadata": {
        "id": "8Nwr9mRxh_9S",
        "colab_type": "code",
        "outputId": "1d7296be-03ce-4b53-ac7f-35def15b4418",
        "colab": {
          "base_uri": "https://localhost:8080/",
          "height": 401
        }
      },
      "source": [
        "feature_plot('Item_Visibility','Item_Outlet_Sales',True)"
      ],
      "execution_count": 0,
      "outputs": [
        {
          "output_type": "display_data",
          "data": {
            "image/png": "[encoded data removed]",
            "text/plain": [
              "<Figure size 1224x432 with 4 Axes>"
            ]
          },
          "metadata": {
            "tags": []
          }
        }
      ]
    },
    {
      "cell_type": "markdown",
      "metadata": {
        "id": "KRvLCMA5gRKU",
        "colab_type": "text"
      },
      "source": [
        "\n",
        "\n",
        "* Item with higher visibility are lesser in number.\n",
        "* From the above graph , we can observe that        'Item_Visibility' is inversely proportional to 'Item_Outlet_Sales' .  \n",
        "But from the graph some of the product have 'Item_Visibility' is 0 which is ambiguous since every product must be visible to all customers. \n",
        "Hence i will consider it as a missing value and impute it with the mean visibility of that product."
      ]
    },
    {
      "cell_type": "code",
      "metadata": {
        "id": "X9lKpcXNPCqD",
        "colab_type": "code",
        "outputId": "205d26e8-a5b0-4eb3-e053-c00dceb50797",
        "colab": {
          "base_uri": "https://localhost:8080/",
          "height": 34
        }
      },
      "source": [
        "sum(data_total['Item_Visibility']==0)"
      ],
      "execution_count": 0,
      "outputs": [
        {
          "output_type": "execute_result",
          "data": {
            "text/plain": [
              "879"
            ]
          },
          "metadata": {
            "tags": []
          },
          "execution_count": 45
        }
      ]
    },
    {
      "cell_type": "code",
      "metadata": {
        "id": "WAtJex0bOp_l",
        "colab_type": "code",
        "colab": {}
      },
      "source": [
        "# Imputing the missing values in 'Item_Visibiity' column.\n",
        "# Data['Item_Visibility']=Data['Item_Visibility'].fillna(Data.groupby('Item_Identifier')['Item_Visibility'].transform(\"mean\"), inplace=True)\n",
        "data_total['Item_Visibility'].replace(0,np.nan,inplace=True)\n",
        "data_total['Item_Visibility'] = data_total.groupby('Item_Identifier')['Item_Visibility'].transform(lambda x: x.fillna(x.mean()))"
      ],
      "execution_count": 0,
      "outputs": []
    },
    {
      "cell_type": "code",
      "metadata": {
        "id": "hlvKH46kiiYh",
        "colab_type": "code",
        "outputId": "47c0e841-3eb9-4667-96ea-6108d5bf5933",
        "colab": {
          "base_uri": "https://localhost:8080/",
          "height": 34
        }
      },
      "source": [
        "sum(data_total['Item_Visibility']==0)"
      ],
      "execution_count": 0,
      "outputs": [
        {
          "output_type": "execute_result",
          "data": {
            "text/plain": [
              "0"
            ]
          },
          "metadata": {
            "tags": []
          },
          "execution_count": 47
        }
      ]
    },
    {
      "cell_type": "markdown",
      "metadata": {
        "id": "P9udT2o1jElL",
        "colab_type": "text"
      },
      "source": [
        "3.Feature : 'Item_MRP'"
      ]
    },
    {
      "cell_type": "code",
      "metadata": {
        "id": "Vf0ryjd2QyiH",
        "colab_type": "code",
        "outputId": "8455c424-8ee7-4615-de08-e536c7f0fd52",
        "colab": {
          "base_uri": "https://localhost:8080/",
          "height": 392
        }
      },
      "source": [
        "feature_plot('Item_MRP','Item_Outlet_Sales',True)"
      ],
      "execution_count": 0,
      "outputs": [
        {
          "output_type": "display_data",
          "data": {
            "image/png": "[encoded data removed]",
            "text/plain": [
              "<Figure size 1224x432 with 4 Axes>"
            ]
          },
          "metadata": {
            "tags": []
          }
        }
      ]
    },
    {
      "cell_type": "markdown",
      "metadata": {
        "id": "aPosiFunmGPV",
        "colab_type": "text"
      },
      "source": [
        "As the MRP of the item increases Item_Outlet_Sales also increase , i.e. 'MRP' has the positive correlation with the 'Item_Outlet_Sales'."
      ]
    },
    {
      "cell_type": "code",
      "metadata": {
        "id": "xTEkj0Pxgx4v",
        "colab_type": "code",
        "colab": {}
      },
      "source": [
        "# data_total['avg_mrp']=0"
      ],
      "execution_count": 0,
      "outputs": []
    },
    {
      "cell_type": "code",
      "metadata": {
        "id": "al_zczg-5Zvd",
        "colab_type": "code",
        "colab": {}
      },
      "source": [
        "# for i in range(len(data_total)):\n",
        "#   if data_total['Item_MRP'][i]<=70 :\n",
        "#     data_total['avg_mrp'][i]=50 \n",
        "#   elif data_total['Item_MRP'][i]>70 and  data_total['Item_MRP'][i]<=140 :\n",
        "#     data_total['avg_mrp'][i]=105\n",
        "#   elif  data_total['Item_MRP'][i]>140 and  data_total['Item_MRP'][i]<=205 :\n",
        "#     data_total['avg_mrp'][i]=170\n",
        "#   else :\n",
        "#     data_total['avg_mrp'][i]=240\n"
      ],
      "execution_count": 0,
      "outputs": []
    },
    {
      "cell_type": "code",
      "metadata": {
        "id": "3YW-h1AacUV1",
        "colab_type": "code",
        "colab": {}
      },
      "source": [
        "# data_total['avg_mrp']"
      ],
      "execution_count": 0,
      "outputs": []
    },
    {
      "cell_type": "code",
      "metadata": {
        "id": "rbz3Ysz4wgZm",
        "colab_type": "code",
        "colab": {}
      },
      "source": [
        "# data_total['mrp_sales']=0"
      ],
      "execution_count": 0,
      "outputs": []
    },
    {
      "cell_type": "code",
      "metadata": {
        "id": "mj5R8qveo4ER",
        "colab_type": "code",
        "colab": {}
      },
      "source": [
        "# for i in range(len(data_total)):\n",
        "#   if data_total['Item_MRP'][i]<=70 :\n",
        "#     data_total['mrp_sales'][i]=900\n",
        "#   elif data_total['Item_MRP'][i]>70 and  data_total['Item_MRP'][i]<=140 :\n",
        "#     data_total['mrp_sales'][i]=2000\n",
        "#   elif  data_total['Item_MRP'][i]>140 and  data_total['Item_MRP'][i]<=205 :\n",
        "#     data_total['mrp_sales'][i]=3000\n",
        "#   else :\n",
        "#     data_total['mrp_sales'][i]=4000"
      ],
      "execution_count": 0,
      "outputs": []
    },
    {
      "cell_type": "code",
      "metadata": {
        "id": "vQgJGiChxcgv",
        "colab_type": "code",
        "colab": {}
      },
      "source": [
        "# data_total['mrp_sales']"
      ],
      "execution_count": 0,
      "outputs": []
    },
    {
      "cell_type": "markdown",
      "metadata": {
        "id": "D8jAaEKLmrIs",
        "colab_type": "text"
      },
      "source": [
        "4. Feature : 'Outlet_Establishment_Year'"
      ]
    },
    {
      "cell_type": "code",
      "metadata": {
        "id": "y4iEDlI6RLrz",
        "colab_type": "code",
        "outputId": "2e7346d9-710a-436c-be84-7043914396a1",
        "colab": {
          "base_uri": "https://localhost:8080/",
          "height": 454
        }
      },
      "source": [
        "feature_plot('Outlet_Establishment_Year','Item_Outlet_Sales',False)"
      ],
      "execution_count": 0,
      "outputs": [
        {
          "output_type": "display_data",
          "data": {
            "image/png": "[encoded data removed]",
            "text/plain": [
              "<Figure size 1440x450 with 2 Axes>"
            ]
          },
          "metadata": {
            "tags": []
          }
        }
      ]
    },
    {
      "cell_type": "markdown",
      "metadata": {
        "id": "TzVuSEyo0Ltk",
        "colab_type": "text"
      },
      "source": [
        "From the plot it can be easily concluded that Establishment year of a store and the sales have no significant relation bn them.\n",
        "But we can make this feature usefull by extracting some important inormation like depicting the years of operation of store.\n",
        "As the data is from 2013 ,so we will calculate outlet year w.r.t. 2013."
      ]
    },
    {
      "cell_type": "code",
      "metadata": {
        "id": "TLv1-lsd3Upc",
        "colab_type": "code",
        "outputId": "8e2f95fa-d794-4a88-9be2-d70944b6da69",
        "colab": {
          "base_uri": "https://localhost:8080/",
          "height": 170
        }
      },
      "source": [
        "# new Feature : Outlet_Years\n",
        "data_total['Outlet_Years'] = 2013 - data_total['Outlet_Establishment_Year']\n",
        "data_total['Outlet_Years'].describe()"
      ],
      "execution_count": 0,
      "outputs": [
        {
          "output_type": "execute_result",
          "data": {
            "text/plain": [
              "count    14204.000000\n",
              "mean        15.169319\n",
              "std          8.371664\n",
              "min          4.000000\n",
              "25%          9.000000\n",
              "50%         14.000000\n",
              "75%         26.000000\n",
              "max         28.000000\n",
              "Name: Outlet_Years, dtype: float64"
            ]
          },
          "metadata": {
            "tags": []
          },
          "execution_count": 55
        }
      ]
    },
    {
      "cell_type": "code",
      "metadata": {
        "id": "brwAzlQbSe4q",
        "colab_type": "code",
        "outputId": "fe1d8375-4cfc-4273-b20c-1f902af689cb",
        "colab": {
          "base_uri": "https://localhost:8080/",
          "height": 136
        }
      },
      "source": [
        "categorical"
      ],
      "execution_count": 0,
      "outputs": [
        {
          "output_type": "execute_result",
          "data": {
            "text/plain": [
              "['Item_Fat_Content',\n",
              " 'Item_Identifier',\n",
              " 'Item_Type',\n",
              " 'Outlet_Identifier',\n",
              " 'Outlet_Location_Type',\n",
              " 'Outlet_Size',\n",
              " 'Outlet_Type']"
            ]
          },
          "metadata": {
            "tags": []
          },
          "execution_count": 56
        }
      ]
    },
    {
      "cell_type": "markdown",
      "metadata": {
        "id": "nk7a35nAnNXD",
        "colab_type": "text"
      },
      "source": [
        "5 . Feature : 'Item_Type'"
      ]
    },
    {
      "cell_type": "code",
      "metadata": {
        "id": "plL6KjqSSzGV",
        "colab_type": "code",
        "outputId": "fae9b9b9-e330-48cc-9702-bf7ca2da48b9",
        "colab": {
          "base_uri": "https://localhost:8080/",
          "height": 558
        }
      },
      "source": [
        "feature_plot('Item_Type','Item_Outlet_Sales',False)"
      ],
      "execution_count": 0,
      "outputs": [
        {
          "output_type": "display_data",
          "data": {
            "image/png": "[encoded data removed]",
            "text/plain": [
              "<Figure size 1440x450 with 2 Axes>"
            ]
          },
          "metadata": {
            "tags": []
          }
        }
      ]
    },
    {
      "cell_type": "markdown",
      "metadata": {
        "id": "MoPrHzmB_CQ0",
        "colab_type": "text"
      },
      "source": [
        "\n",
        "*  Item type , as from the above plot have 16 different categories and it's very difficult to gather information from large no. of category.  \n",
        "*  With the variation in the item_type , Item_Outlet_Sales have very little variation which shows that this feature is not usefull for our model.\n",
        "*   For making this feature discriminatory i.e. usefull for our feature , first we will try to narrow this variation such as to gather some information.  \n",
        "As in Item_Identifier of each item  the  first two letter represent a category  which distribute the item type  in three categories like  :  \n",
        "'FD' = 'Food'    \n",
        "'NC' = 'Non-Consumable'  \n",
        "'DR' = 'Drinks'\n"
      ]
    },
    {
      "cell_type": "code",
      "metadata": {
        "id": "nuS98bBQCvy0",
        "colab_type": "code",
        "outputId": "1b434533-a4dd-4c8a-9a3e-574fb33b258f",
        "colab": {
          "base_uri": "https://localhost:8080/",
          "height": 85
        }
      },
      "source": [
        "# make a new feature\n",
        "# Feature : 'Combined_Item_Type'\n",
        "data_total['Combined_Item_Type'] = data_total['Item_Identifier'].apply(lambda x: x[0:2])\n",
        "data_total['Combined_Item_Type'] = data_total['Combined_Item_Type'].map({'FD':'Food','NC':'Non-Consumable','DR':'Drinks'})\n",
        "data_total['Combined_Item_Type'].value_counts()"
      ],
      "execution_count": 0,
      "outputs": [
        {
          "output_type": "execute_result",
          "data": {
            "text/plain": [
              "Food              10201\n",
              "Non-Consumable     2686\n",
              "Drinks             1317\n",
              "Name: Combined_Item_Type, dtype: int64"
            ]
          },
          "metadata": {
            "tags": []
          },
          "execution_count": 58
        }
      ]
    },
    {
      "cell_type": "markdown",
      "metadata": {
        "id": "ZbKMnXPLm_Ir",
        "colab_type": "text"
      },
      "source": [
        "6 . Feature : 'Item_Fat_Content'"
      ]
    },
    {
      "cell_type": "code",
      "metadata": {
        "id": "6rrIw5hnSBXt",
        "colab_type": "code",
        "outputId": "4b740aac-2f8e-40d1-83e9-0eb31a4e828c",
        "colab": {
          "base_uri": "https://localhost:8080/",
          "height": 471
        }
      },
      "source": [
        "# Feature : 'Item_Fat_Content'\n",
        "feature_plot('Item_Fat_Content','Item_Outlet_Sales',False)"
      ],
      "execution_count": 0,
      "outputs": [
        {
          "output_type": "display_data",
          "data": {
            "image/png": "[encoded data removed]",
            "text/plain": [
              "<Figure size 1440x450 with 2 Axes>"
            ]
          },
          "metadata": {
            "tags": []
          }
        }
      ]
    },
    {
      "cell_type": "markdown",
      "metadata": {
        "id": "8zOVLpXggwn8",
        "colab_type": "text"
      },
      "source": [
        "In the feature column 'Item_Fat_content' ,the fat content  Low Fat , low fat and LF are the label for the\n",
        "same amount of fat content i.e. for Low Fat and similarly for Regular and reg are for Regular fat content .      \n",
        "So, i will make a new feature column of Item fat content with label Low fat and Regular."
      ]
    },
    {
      "cell_type": "code",
      "metadata": {
        "id": "y8E5JVo-jfjU",
        "colab_type": "code",
        "outputId": "a29c763f-422c-4679-d28b-8c6b7d3c42d2",
        "colab": {
          "base_uri": "https://localhost:8080/",
          "height": 68
        }
      },
      "source": [
        "data_total['Item_Fat_Content'] = data_total['Item_Fat_Content'].replace({'LF':'Low Fat','low fat':'Low Fat','reg':'Regular'})\n",
        "print(data_total['Item_Fat_Content'].value_counts())"
      ],
      "execution_count": 0,
      "outputs": [
        {
          "output_type": "stream",
          "text": [
            "Low Fat    9185\n",
            "Regular    5019\n",
            "Name: Item_Fat_Content, dtype: int64\n"
          ],
          "name": "stdout"
        }
      ]
    },
    {
      "cell_type": "markdown",
      "metadata": {
        "id": "Kc3T8dCsRFmq",
        "colab_type": "text"
      },
      "source": [
        "But from the 6th feature, some of the products are non-consumable . So, we can calssify the fat content in three parts :\n",
        "\n",
        "*   Low Fat\n",
        "*   Regular\n",
        "*   Non-Edible\n",
        "\n",
        "\n",
        "\n"
      ]
    },
    {
      "cell_type": "code",
      "metadata": {
        "id": "b8YYjSFLTN0a",
        "colab_type": "code",
        "colab": {}
      },
      "source": [
        "data_total.loc[data_total['Combined_Item_Type']==\"Non-Consumable\",'Item_Fat_Content'] = \"Non-Edible\""
      ],
      "execution_count": 0,
      "outputs": []
    },
    {
      "cell_type": "code",
      "metadata": {
        "id": "6zZ5G18mU0IB",
        "colab_type": "code",
        "outputId": "bd21c7f4-4c90-4be0-e94f-d96516470a6b",
        "colab": {
          "base_uri": "https://localhost:8080/",
          "height": 85
        }
      },
      "source": [
        "print(data_total['Item_Fat_Content'].value_counts())"
      ],
      "execution_count": 0,
      "outputs": [
        {
          "output_type": "stream",
          "text": [
            "Low Fat       6499\n",
            "Regular       5019\n",
            "Non-Edible    2686\n",
            "Name: Item_Fat_Content, dtype: int64\n"
          ],
          "name": "stdout"
        }
      ]
    },
    {
      "cell_type": "markdown",
      "metadata": {
        "id": "s2PqhRa6nlH3",
        "colab_type": "text"
      },
      "source": [
        "7 . Feature : 'Outlet_Identifier'"
      ]
    },
    {
      "cell_type": "code",
      "metadata": {
        "id": "8K_5W8EUSvA8",
        "colab_type": "code",
        "outputId": "a31dff09-dc43-4841-f559-23a393fa992b",
        "colab": {
          "base_uri": "https://localhost:8080/",
          "height": 473
        }
      },
      "source": [
        "feature_plot('Outlet_Identifier','Item_Outlet_Sales',False)"
      ],
      "execution_count": 0,
      "outputs": [
        {
          "output_type": "display_data",
          "data": {
            "image/png": "[encoded data removed]",
            "text/plain": [
              "<Figure size 1440x450 with 2 Axes>"
            ]
          },
          "metadata": {
            "tags": []
          }
        }
      ]
    },
    {
      "cell_type": "code",
      "metadata": {
        "id": "BZYEQtb_ueal",
        "colab_type": "code",
        "outputId": "8de055a3-2627-49ff-f7da-4c41e08577c9",
        "colab": {
          "base_uri": "https://localhost:8080/",
          "height": 359
        }
      },
      "source": [
        "data_total.groupby('Outlet_Identifier')['Outlet_Size','Outlet_Type'].first().reset_index()"
      ],
      "execution_count": 0,
      "outputs": [
        {
          "output_type": "execute_result",
          "data": {
            "text/html": [
              "<div>\n",
              "<style scoped>\n",
              "    .dataframe tbody tr th:only-of-type {\n",
              "        vertical-align: middle;\n",
              "    }\n",
              "\n",
              "    .dataframe tbody tr th {\n",
              "        vertical-align: top;\n",
              "    }\n",
              "\n",
              "    .dataframe thead th {\n",
              "        text-align: right;\n",
              "    }\n",
              "</style>\n",
              "<table border=\"1\" class=\"dataframe\">\n",
              "  <thead>\n",
              "    <tr style=\"text-align: right;\">\n",
              "      <th></th>\n",
              "      <th>Outlet_Identifier</th>\n",
              "      <th>Outlet_Size</th>\n",
              "      <th>Outlet_Type</th>\n",
              "    </tr>\n",
              "  </thead>\n",
              "  <tbody>\n",
              "    <tr>\n",
              "      <th>0</th>\n",
              "      <td>OUT010</td>\n",
              "      <td>Small</td>\n",
              "      <td>Grocery Store</td>\n",
              "    </tr>\n",
              "    <tr>\n",
              "      <th>1</th>\n",
              "      <td>OUT013</td>\n",
              "      <td>High</td>\n",
              "      <td>Supermarket Type1</td>\n",
              "    </tr>\n",
              "    <tr>\n",
              "      <th>2</th>\n",
              "      <td>OUT017</td>\n",
              "      <td>Small</td>\n",
              "      <td>Supermarket Type1</td>\n",
              "    </tr>\n",
              "    <tr>\n",
              "      <th>3</th>\n",
              "      <td>OUT018</td>\n",
              "      <td>Medium</td>\n",
              "      <td>Supermarket Type2</td>\n",
              "    </tr>\n",
              "    <tr>\n",
              "      <th>4</th>\n",
              "      <td>OUT019</td>\n",
              "      <td>Small</td>\n",
              "      <td>Grocery Store</td>\n",
              "    </tr>\n",
              "    <tr>\n",
              "      <th>5</th>\n",
              "      <td>OUT027</td>\n",
              "      <td>Medium</td>\n",
              "      <td>Supermarket Type3</td>\n",
              "    </tr>\n",
              "    <tr>\n",
              "      <th>6</th>\n",
              "      <td>OUT035</td>\n",
              "      <td>Small</td>\n",
              "      <td>Supermarket Type1</td>\n",
              "    </tr>\n",
              "    <tr>\n",
              "      <th>7</th>\n",
              "      <td>OUT045</td>\n",
              "      <td>Small</td>\n",
              "      <td>Supermarket Type1</td>\n",
              "    </tr>\n",
              "    <tr>\n",
              "      <th>8</th>\n",
              "      <td>OUT046</td>\n",
              "      <td>Small</td>\n",
              "      <td>Supermarket Type1</td>\n",
              "    </tr>\n",
              "    <tr>\n",
              "      <th>9</th>\n",
              "      <td>OUT049</td>\n",
              "      <td>Medium</td>\n",
              "      <td>Supermarket Type1</td>\n",
              "    </tr>\n",
              "  </tbody>\n",
              "</table>\n",
              "</div>"
            ],
            "text/plain": [
              "  Outlet_Identifier Outlet_Size        Outlet_Type\n",
              "0            OUT010       Small      Grocery Store\n",
              "1            OUT013        High  Supermarket Type1\n",
              "2            OUT017       Small  Supermarket Type1\n",
              "3            OUT018      Medium  Supermarket Type2\n",
              "4            OUT019       Small      Grocery Store\n",
              "5            OUT027      Medium  Supermarket Type3\n",
              "6            OUT035       Small  Supermarket Type1\n",
              "7            OUT045       Small  Supermarket Type1\n",
              "8            OUT046       Small  Supermarket Type1\n",
              "9            OUT049      Medium  Supermarket Type1"
            ]
          },
          "metadata": {
            "tags": []
          },
          "execution_count": 64
        }
      ]
    },
    {
      "cell_type": "markdown",
      "metadata": {
        "id": "i6BVFBaqWpPd",
        "colab_type": "text"
      },
      "source": [
        "From the above  plot and the graph , the grocery stores (“OUT010” and  “OUT019”) as expected have lowest sales followed by supermarket type 2 (“OUT018”) and the 'Out027' have the highest sales which i can't expect as it is supermarket type 3 with medium size while supermarket type 1 with size high have lower sales."
      ]
    },
    {
      "cell_type": "markdown",
      "metadata": {
        "id": "-JZK9qFpy6ss",
        "colab_type": "text"
      },
      "source": [
        "8 . Feature : 'Outlet_Size'"
      ]
    },
    {
      "cell_type": "code",
      "metadata": {
        "id": "wQrhUJpYS8jV",
        "colab_type": "code",
        "outputId": "276f0d3d-5581-4351-bed4-5c7064ee958f",
        "colab": {
          "base_uri": "https://localhost:8080/",
          "height": 472
        }
      },
      "source": [
        "feature_plot('Outlet_Size','Item_Outlet_Sales',False)"
      ],
      "execution_count": 0,
      "outputs": [
        {
          "output_type": "display_data",
          "data": {
            "image/png": "[encoded data removed]",
            "text/plain": [
              "<Figure size 1440x450 with 2 Axes>"
            ]
          },
          "metadata": {
            "tags": []
          }
        }
      ]
    },
    {
      "cell_type": "markdown",
      "metadata": {
        "id": "lg_1CzY5E6Sa",
        "colab_type": "text"
      },
      "source": [
        "From this plot ,  the Outlet type with size medium have higher sales than others as also in previous plot 'OUT027' with medium size have the highest sale .\n",
        "it means consumers prefer medium size store instead of big size."
      ]
    },
    {
      "cell_type": "markdown",
      "metadata": {
        "id": "exXSDElLzHgk",
        "colab_type": "text"
      },
      "source": [
        "9. Feature : 'Outlet_Location_Type'"
      ]
    },
    {
      "cell_type": "code",
      "metadata": {
        "id": "rq8Yr5olS-eH",
        "colab_type": "code",
        "outputId": "448fd124-cdd3-4080-98dd-02d375ac1bd9",
        "colab": {
          "base_uri": "https://localhost:8080/",
          "height": 458
        }
      },
      "source": [
        "feature_plot('Outlet_Location_Type','Item_Outlet_Sales',False)"
      ],
      "execution_count": 0,
      "outputs": [
        {
          "output_type": "display_data",
          "data": {
            "image/png": "[encoded data removed]",
            "text/plain": [
              "<Figure size 1440x450 with 2 Axes>"
            ]
          },
          "metadata": {
            "tags": []
          }
        }
      ]
    },
    {
      "cell_type": "markdown",
      "metadata": {
        "id": "Nt6KmxnvpUcq",
        "colab_type": "text"
      },
      "source": [
        "from the above plot also we got an unexpected result as the Tier 1 cities have the lowest sales while Tier 2 with the highest sale."
      ]
    },
    {
      "cell_type": "markdown",
      "metadata": {
        "id": "T2NbwbfSzV44",
        "colab_type": "text"
      },
      "source": [
        "10. Feature : 'Outlet_Type'"
      ]
    },
    {
      "cell_type": "code",
      "metadata": {
        "id": "qarXyVW1S_Ka",
        "colab_type": "code",
        "outputId": "51a661c5-97f9-4f8e-a6fd-ec04022b5128",
        "colab": {
          "base_uri": "https://localhost:8080/",
          "height": 545
        }
      },
      "source": [
        "feature_plot('Outlet_Type','Item_Outlet_Sales',False)"
      ],
      "execution_count": 0,
      "outputs": [
        {
          "output_type": "display_data",
          "data": {
            "image/png": "[encoded data removed]",
            "text/plain": [
              "<Figure size 1440x450 with 2 Axes>"
            ]
          },
          "metadata": {
            "tags": []
          }
        }
      ]
    },
    {
      "cell_type": "markdown",
      "metadata": {
        "id": "vaF4cHG2pvf-",
        "colab_type": "text"
      },
      "source": [
        "From the count plot supermarket type 1 are highest in number while others three all approximately equal in count.\n",
        "As expected Grocery store have the lowest sales but supermarket type 3 have the highest sales.\n",
        "\n"
      ]
    },
    {
      "cell_type": "code",
      "metadata": {
        "id": "kekzJyjgvwav",
        "colab_type": "code",
        "colab": {}
      },
      "source": [
        "# le = preprocessing.LabelEncoder()\n",
        "# Data.Item_Identifier = Data.Item_Identifier.astype(\"category\", categories=np.unique(Data.Item_Identifier)).cat.codes\n",
        "# Data.Item_Fat_Content = Data.Item_Fat_Content.astype(\"category\", categories=np.unique(Data.Item_Fat_Content)).cat.codes\n",
        "# Data.Item_Type = Data.Item_Type.astype(\"category\", categories=np.unique(Data.Item_Type)).cat.codes\n",
        "# Data.Outlet_Identifier = Data.Outlet_Identifier.astype(\"category\", categories=np.unique(Data.Outlet_Identifier)).cat.codes\n",
        "# Data['Outlet_Size'] = le.fit_transform(Data['Outlet_Size'].astype(str))\n",
        "# Data.Outlet_Size = Data.Outlet_Size.astype(\"category\", categories=np.unique(Data.Outlet_Size)).cat.codes\n",
        "# Data.Outlet_Location_Type = Data.Outlet_Location_Type.astype(\"category\", categories=np.unique(Data.Outlet_Location_Type)).cat.codes\n",
        "# Data.Outlet_Type = Data.Outlet_Type.astype(\"category\", categories=np.unique(Data.Outlet_Type)).cat.codes"
      ],
      "execution_count": 0,
      "outputs": []
    },
    {
      "cell_type": "code",
      "metadata": {
        "id": "YHp8lmf8T-3m",
        "colab_type": "code",
        "colab": {}
      },
      "source": [
        "# Data['Item_Weight'] = Data['Item_Weight'].astype(float)\n",
        "# Data['Item_Visibility'] = Data['Item_Visibility'].astype(float)\n",
        "# Data['Item_MRP'] = Data['Item_MRP'].astype(float)\n",
        "# Data['Outlet_Establishment_Year'] = Data['Outlet_Establishment_Year'].astype(float)\n",
        "# Data['Item_Outlet_Sales'] = Data['Item_Outlet_Sales'].astype(float)"
      ],
      "execution_count": 0,
      "outputs": []
    },
    {
      "cell_type": "markdown",
      "metadata": {
        "id": "EAQpSgySeX7n",
        "colab_type": "text"
      },
      "source": [
        "## EXPLORATORY ANALYSIS OF FEATURES"
      ]
    },
    {
      "cell_type": "code",
      "metadata": {
        "id": "fO9zDDRxVk0l",
        "colab_type": "code",
        "outputId": "c645a0d9-53ba-489a-c036-7bf917de9608",
        "colab": {
          "base_uri": "https://localhost:8080/",
          "height": 549
        }
      },
      "source": [
        "data_total.head(10)"
      ],
      "execution_count": 0,
      "outputs": [
        {
          "output_type": "execute_result",
          "data": {
            "text/html": [
              "<div>\n",
              "<style scoped>\n",
              "    .dataframe tbody tr th:only-of-type {\n",
              "        vertical-align: middle;\n",
              "    }\n",
              "\n",
              "    .dataframe tbody tr th {\n",
              "        vertical-align: top;\n",
              "    }\n",
              "\n",
              "    .dataframe thead th {\n",
              "        text-align: right;\n",
              "    }\n",
              "</style>\n",
              "<table border=\"1\" class=\"dataframe\">\n",
              "  <thead>\n",
              "    <tr style=\"text-align: right;\">\n",
              "      <th></th>\n",
              "      <th>Item_Fat_Content</th>\n",
              "      <th>Item_Identifier</th>\n",
              "      <th>Item_MRP</th>\n",
              "      <th>Item_Outlet_Sales</th>\n",
              "      <th>Item_Type</th>\n",
              "      <th>Item_Visibility</th>\n",
              "      <th>Item_Weight</th>\n",
              "      <th>Outlet_Establishment_Year</th>\n",
              "      <th>Outlet_Identifier</th>\n",
              "      <th>Outlet_Location_Type</th>\n",
              "      <th>Outlet_Size</th>\n",
              "      <th>Outlet_Type</th>\n",
              "      <th>Outlet_Years</th>\n",
              "      <th>Combined_Item_Type</th>\n",
              "    </tr>\n",
              "  </thead>\n",
              "  <tbody>\n",
              "    <tr>\n",
              "      <th>0</th>\n",
              "      <td>Low Fat</td>\n",
              "      <td>FDA15</td>\n",
              "      <td>249.8092</td>\n",
              "      <td>3735.1380</td>\n",
              "      <td>Dairy</td>\n",
              "      <td>0.016047</td>\n",
              "      <td>9.300</td>\n",
              "      <td>1999</td>\n",
              "      <td>OUT049</td>\n",
              "      <td>Tier 1</td>\n",
              "      <td>Medium</td>\n",
              "      <td>Supermarket Type1</td>\n",
              "      <td>14</td>\n",
              "      <td>Food</td>\n",
              "    </tr>\n",
              "    <tr>\n",
              "      <th>1</th>\n",
              "      <td>Regular</td>\n",
              "      <td>DRC01</td>\n",
              "      <td>48.2692</td>\n",
              "      <td>443.4228</td>\n",
              "      <td>Soft Drinks</td>\n",
              "      <td>0.019278</td>\n",
              "      <td>5.920</td>\n",
              "      <td>2009</td>\n",
              "      <td>OUT018</td>\n",
              "      <td>Tier 3</td>\n",
              "      <td>Medium</td>\n",
              "      <td>Supermarket Type2</td>\n",
              "      <td>4</td>\n",
              "      <td>Drinks</td>\n",
              "    </tr>\n",
              "    <tr>\n",
              "      <th>2</th>\n",
              "      <td>Low Fat</td>\n",
              "      <td>FDN15</td>\n",
              "      <td>141.6180</td>\n",
              "      <td>2097.2700</td>\n",
              "      <td>Meat</td>\n",
              "      <td>0.016760</td>\n",
              "      <td>17.500</td>\n",
              "      <td>1999</td>\n",
              "      <td>OUT049</td>\n",
              "      <td>Tier 1</td>\n",
              "      <td>Medium</td>\n",
              "      <td>Supermarket Type1</td>\n",
              "      <td>14</td>\n",
              "      <td>Food</td>\n",
              "    </tr>\n",
              "    <tr>\n",
              "      <th>3</th>\n",
              "      <td>Regular</td>\n",
              "      <td>FDX07</td>\n",
              "      <td>182.0950</td>\n",
              "      <td>732.3800</td>\n",
              "      <td>Fruits and Vegetables</td>\n",
              "      <td>0.022930</td>\n",
              "      <td>19.200</td>\n",
              "      <td>1998</td>\n",
              "      <td>OUT010</td>\n",
              "      <td>Tier 3</td>\n",
              "      <td>Small</td>\n",
              "      <td>Grocery Store</td>\n",
              "      <td>15</td>\n",
              "      <td>Food</td>\n",
              "    </tr>\n",
              "    <tr>\n",
              "      <th>4</th>\n",
              "      <td>Non-Edible</td>\n",
              "      <td>NCD19</td>\n",
              "      <td>53.8614</td>\n",
              "      <td>994.7052</td>\n",
              "      <td>Household</td>\n",
              "      <td>0.014670</td>\n",
              "      <td>8.930</td>\n",
              "      <td>1987</td>\n",
              "      <td>OUT013</td>\n",
              "      <td>Tier 3</td>\n",
              "      <td>High</td>\n",
              "      <td>Supermarket Type1</td>\n",
              "      <td>26</td>\n",
              "      <td>Non-Consumable</td>\n",
              "    </tr>\n",
              "    <tr>\n",
              "      <th>5</th>\n",
              "      <td>Regular</td>\n",
              "      <td>FDP36</td>\n",
              "      <td>51.4008</td>\n",
              "      <td>556.6088</td>\n",
              "      <td>Baking Goods</td>\n",
              "      <td>0.091294</td>\n",
              "      <td>10.395</td>\n",
              "      <td>2009</td>\n",
              "      <td>OUT018</td>\n",
              "      <td>Tier 3</td>\n",
              "      <td>Medium</td>\n",
              "      <td>Supermarket Type2</td>\n",
              "      <td>4</td>\n",
              "      <td>Food</td>\n",
              "    </tr>\n",
              "    <tr>\n",
              "      <th>6</th>\n",
              "      <td>Regular</td>\n",
              "      <td>FDO10</td>\n",
              "      <td>57.6588</td>\n",
              "      <td>343.5528</td>\n",
              "      <td>Snack Foods</td>\n",
              "      <td>0.012741</td>\n",
              "      <td>13.650</td>\n",
              "      <td>1987</td>\n",
              "      <td>OUT013</td>\n",
              "      <td>Tier 3</td>\n",
              "      <td>High</td>\n",
              "      <td>Supermarket Type1</td>\n",
              "      <td>26</td>\n",
              "      <td>Food</td>\n",
              "    </tr>\n",
              "    <tr>\n",
              "      <th>7</th>\n",
              "      <td>Low Fat</td>\n",
              "      <td>FDP10</td>\n",
              "      <td>107.7622</td>\n",
              "      <td>4022.7636</td>\n",
              "      <td>Snack Foods</td>\n",
              "      <td>0.127470</td>\n",
              "      <td>19.000</td>\n",
              "      <td>1985</td>\n",
              "      <td>OUT027</td>\n",
              "      <td>Tier 3</td>\n",
              "      <td>Medium</td>\n",
              "      <td>Supermarket Type3</td>\n",
              "      <td>28</td>\n",
              "      <td>Food</td>\n",
              "    </tr>\n",
              "    <tr>\n",
              "      <th>8</th>\n",
              "      <td>Regular</td>\n",
              "      <td>FDH17</td>\n",
              "      <td>96.9726</td>\n",
              "      <td>1076.5986</td>\n",
              "      <td>Frozen Foods</td>\n",
              "      <td>0.016687</td>\n",
              "      <td>16.200</td>\n",
              "      <td>2002</td>\n",
              "      <td>OUT045</td>\n",
              "      <td>Tier 2</td>\n",
              "      <td>Small</td>\n",
              "      <td>Supermarket Type1</td>\n",
              "      <td>11</td>\n",
              "      <td>Food</td>\n",
              "    </tr>\n",
              "    <tr>\n",
              "      <th>9</th>\n",
              "      <td>Regular</td>\n",
              "      <td>FDU28</td>\n",
              "      <td>187.8214</td>\n",
              "      <td>4710.5350</td>\n",
              "      <td>Frozen Foods</td>\n",
              "      <td>0.094450</td>\n",
              "      <td>19.200</td>\n",
              "      <td>2007</td>\n",
              "      <td>OUT017</td>\n",
              "      <td>Tier 2</td>\n",
              "      <td>Small</td>\n",
              "      <td>Supermarket Type1</td>\n",
              "      <td>6</td>\n",
              "      <td>Food</td>\n",
              "    </tr>\n",
              "  </tbody>\n",
              "</table>\n",
              "</div>"
            ],
            "text/plain": [
              "  Item_Fat_Content Item_Identifier  ...  Outlet_Years  Combined_Item_Type\n",
              "0          Low Fat           FDA15  ...            14                Food\n",
              "1          Regular           DRC01  ...             4              Drinks\n",
              "2          Low Fat           FDN15  ...            14                Food\n",
              "3          Regular           FDX07  ...            15                Food\n",
              "4       Non-Edible           NCD19  ...            26      Non-Consumable\n",
              "5          Regular           FDP36  ...             4                Food\n",
              "6          Regular           FDO10  ...            26                Food\n",
              "7          Low Fat           FDP10  ...            28                Food\n",
              "8          Regular           FDH17  ...            11                Food\n",
              "9          Regular           FDU28  ...             6                Food\n",
              "\n",
              "[10 rows x 14 columns]"
            ]
          },
          "metadata": {
            "tags": []
          },
          "execution_count": 70
        }
      ]
    },
    {
      "cell_type": "markdown",
      "metadata": {
        "id": "ZQLPWOOefGSH",
        "colab_type": "text"
      },
      "source": [
        "now we have to encode the categorical feature having string values to float so that we can use that numerical value in predictive models."
      ]
    },
    {
      "cell_type": "code",
      "metadata": {
        "id": "xRAWoU8ecdjw",
        "colab_type": "code",
        "colab": {}
      },
      "source": [
        "# replace_Outlet_Identifier = {'Outlet_Identifier': {'OUT010': 1, 'OUT019': 2, 'OUT049': 3, 'OUT046': 5,\n",
        "#                                   'OUT045': 4, 'OUT017': 6, 'OUT018': 7 , 'OUT013': 8 , 'OUT035': 9,'OUT027': 10}}\n",
        "# data_total.replace(replace_Outlet_Identifier, inplace=True)"
      ],
      "execution_count": 0,
      "outputs": []
    },
    {
      "cell_type": "code",
      "metadata": {
        "id": "tBvpq8QJjySr",
        "colab_type": "code",
        "colab": {}
      },
      "source": [
        ""
      ],
      "execution_count": 0,
      "outputs": []
    },
    {
      "cell_type": "code",
      "metadata": {
        "id": "A5gEEmt3s18T",
        "colab_type": "code",
        "colab": {}
      },
      "source": [
        "# replace_Outlet_Location_Type = {'Outlet_Location_Type': {\"Tier 2\":3,\"Tier 1\":1,\"Tier 3\":2}}\n",
        "# data_total.replace(replace_Outlet_Location_Type, inplace=True)"
      ],
      "execution_count": 0,
      "outputs": []
    },
    {
      "cell_type": "code",
      "metadata": {
        "id": "2xWlya44t_k-",
        "colab_type": "code",
        "colab": {}
      },
      "source": [
        "# replace_Outlet_Size = {'Outlet_Size': {\"Medium\":3,\"Small\":1,\"High\":2}}\n",
        "# data_total.replace(replace_Outlet_Size, inplace=True)"
      ],
      "execution_count": 0,
      "outputs": []
    },
    {
      "cell_type": "code",
      "metadata": {
        "id": "cXpsGd08ueSd",
        "colab_type": "code",
        "colab": {}
      },
      "source": [
        "# replace_Outlet_Type = {'Outlet_Type': {\"Supermarket Type3\":4,\"Supermarket Type1\":3,\"Supermarket Type2\":2,\"Grocery Store\":1}}\n",
        "# data_total.replace(replace_Outlet_Type, inplace=True)"
      ],
      "execution_count": 0,
      "outputs": []
    },
    {
      "cell_type": "code",
      "metadata": {
        "id": "8uAtEN7gUhP-",
        "colab_type": "code",
        "colab": {}
      },
      "source": [
        "\n",
        "data_total.Item_Fat_Content = data_total.Item_Fat_Content.astype(\"category\", categories=np.unique(data_total.Item_Fat_Content)).cat.codes\n",
        "#data_total.Outlet_Identifier = data_total.Outlet_Identifier.astype(\"category\", categories=np.unique(data_total.Outlet_Identifier)).cat.codes\n",
        "data_total.Outlet_Size = data_total.Outlet_Size.astype(\"category\", categories=np.unique(data_total.Outlet_Size)).cat.codes\n",
        "data_total.\tCombined_Item_Type = data_total.\tCombined_Item_Type.astype(\"category\", categories=np.unique(data_total.\tCombined_Item_Type)).cat.codes\n",
        "data_total.Outlet_Location_Type = data_total.Outlet_Location_Type.astype(\"category\", categories=np.unique(data_total.Outlet_Location_Type)).cat.codes\n",
        "data_total.Outlet_Type = data_total.Outlet_Type.astype(\"category\", categories=np.unique(data_total.Outlet_Type)).cat.codes"
      ],
      "execution_count": 0,
      "outputs": []
    },
    {
      "cell_type": "code",
      "metadata": {
        "id": "nANRnBPzH3Jx",
        "colab_type": "code",
        "colab": {}
      },
      "source": [
        "# from sklearn.preprocessing import LabelEncoder\n",
        "# le = LabelEncoder()\n",
        "# #New variable for outlet\n",
        "# # data_total['Outlet'] = le.fit_transform(data_total['Outlet_Identifier'])\n",
        "# var_mod = ['Item_Fat_Content','Outlet_Location_Type','Outlet_Identifier','Outlet_Size','Combined_Item_Type','Outlet_Type']\n",
        "# for i in var_mod:\n",
        "#     data_total[i] = le.fit_transform(data_total[i])"
      ],
      "execution_count": 0,
      "outputs": []
    },
    {
      "cell_type": "code",
      "metadata": {
        "id": "O-k4O1iLJFix",
        "colab_type": "code",
        "outputId": "6f9e0192-5afc-4e86-8203-820f8568416a",
        "colab": {
          "base_uri": "https://localhost:8080/",
          "height": 425
        }
      },
      "source": [
        "data_total = pd.get_dummies(data_total, columns =['Outlet_Identifier'])\n",
        "data_total.dtypes"
      ],
      "execution_count": 0,
      "outputs": [
        {
          "output_type": "execute_result",
          "data": {
            "text/plain": [
              "Item_Fat_Content                int8\n",
              "Item_Identifier               object\n",
              "Item_MRP                     float64\n",
              "Item_Outlet_Sales            float64\n",
              "Item_Type                     object\n",
              "Item_Visibility              float64\n",
              "Item_Weight                  float64\n",
              "Outlet_Establishment_Year      int64\n",
              "Outlet_Location_Type            int8\n",
              "Outlet_Size                     int8\n",
              "Outlet_Type                     int8\n",
              "Outlet_Years                   int64\n",
              "Combined_Item_Type              int8\n",
              "Outlet_Identifier_OUT010       uint8\n",
              "Outlet_Identifier_OUT013       uint8\n",
              "Outlet_Identifier_OUT017       uint8\n",
              "Outlet_Identifier_OUT018       uint8\n",
              "Outlet_Identifier_OUT019       uint8\n",
              "Outlet_Identifier_OUT027       uint8\n",
              "Outlet_Identifier_OUT035       uint8\n",
              "Outlet_Identifier_OUT045       uint8\n",
              "Outlet_Identifier_OUT046       uint8\n",
              "Outlet_Identifier_OUT049       uint8\n",
              "dtype: object"
            ]
          },
          "metadata": {
            "tags": []
          },
          "execution_count": 77
        }
      ]
    },
    {
      "cell_type": "code",
      "metadata": {
        "id": "xpH7AaJlYyyW",
        "colab_type": "code",
        "outputId": "bbf9bbdb-9832-4143-86bc-d0e63a539736",
        "colab": {
          "base_uri": "https://localhost:8080/",
          "height": 481
        }
      },
      "source": [
        "data_total.head(10)"
      ],
      "execution_count": 0,
      "outputs": [
        {
          "output_type": "execute_result",
          "data": {
            "text/html": [
              "<div>\n",
              "<style scoped>\n",
              "    .dataframe tbody tr th:only-of-type {\n",
              "        vertical-align: middle;\n",
              "    }\n",
              "\n",
              "    .dataframe tbody tr th {\n",
              "        vertical-align: top;\n",
              "    }\n",
              "\n",
              "    .dataframe thead th {\n",
              "        text-align: right;\n",
              "    }\n",
              "</style>\n",
              "<table border=\"1\" class=\"dataframe\">\n",
              "  <thead>\n",
              "    <tr style=\"text-align: right;\">\n",
              "      <th></th>\n",
              "      <th>Item_Fat_Content</th>\n",
              "      <th>Item_Identifier</th>\n",
              "      <th>Item_MRP</th>\n",
              "      <th>Item_Outlet_Sales</th>\n",
              "      <th>Item_Type</th>\n",
              "      <th>Item_Visibility</th>\n",
              "      <th>Item_Weight</th>\n",
              "      <th>Outlet_Establishment_Year</th>\n",
              "      <th>Outlet_Location_Type</th>\n",
              "      <th>Outlet_Size</th>\n",
              "      <th>Outlet_Type</th>\n",
              "      <th>Outlet_Years</th>\n",
              "      <th>Combined_Item_Type</th>\n",
              "      <th>Outlet_Identifier_OUT010</th>\n",
              "      <th>Outlet_Identifier_OUT013</th>\n",
              "      <th>Outlet_Identifier_OUT017</th>\n",
              "      <th>Outlet_Identifier_OUT018</th>\n",
              "      <th>Outlet_Identifier_OUT019</th>\n",
              "      <th>Outlet_Identifier_OUT027</th>\n",
              "      <th>Outlet_Identifier_OUT035</th>\n",
              "      <th>Outlet_Identifier_OUT045</th>\n",
              "      <th>Outlet_Identifier_OUT046</th>\n",
              "      <th>Outlet_Identifier_OUT049</th>\n",
              "    </tr>\n",
              "  </thead>\n",
              "  <tbody>\n",
              "    <tr>\n",
              "      <th>0</th>\n",
              "      <td>0</td>\n",
              "      <td>FDA15</td>\n",
              "      <td>249.8092</td>\n",
              "      <td>3735.1380</td>\n",
              "      <td>Dairy</td>\n",
              "      <td>0.016047</td>\n",
              "      <td>9.300</td>\n",
              "      <td>1999</td>\n",
              "      <td>0</td>\n",
              "      <td>1</td>\n",
              "      <td>1</td>\n",
              "      <td>14</td>\n",
              "      <td>1</td>\n",
              "      <td>0</td>\n",
              "      <td>0</td>\n",
              "      <td>0</td>\n",
              "      <td>0</td>\n",
              "      <td>0</td>\n",
              "      <td>0</td>\n",
              "      <td>0</td>\n",
              "      <td>0</td>\n",
              "      <td>0</td>\n",
              "      <td>1</td>\n",
              "    </tr>\n",
              "    <tr>\n",
              "      <th>1</th>\n",
              "      <td>2</td>\n",
              "      <td>DRC01</td>\n",
              "      <td>48.2692</td>\n",
              "      <td>443.4228</td>\n",
              "      <td>Soft Drinks</td>\n",
              "      <td>0.019278</td>\n",
              "      <td>5.920</td>\n",
              "      <td>2009</td>\n",
              "      <td>2</td>\n",
              "      <td>1</td>\n",
              "      <td>2</td>\n",
              "      <td>4</td>\n",
              "      <td>0</td>\n",
              "      <td>0</td>\n",
              "      <td>0</td>\n",
              "      <td>0</td>\n",
              "      <td>1</td>\n",
              "      <td>0</td>\n",
              "      <td>0</td>\n",
              "      <td>0</td>\n",
              "      <td>0</td>\n",
              "      <td>0</td>\n",
              "      <td>0</td>\n",
              "    </tr>\n",
              "    <tr>\n",
              "      <th>2</th>\n",
              "      <td>0</td>\n",
              "      <td>FDN15</td>\n",
              "      <td>141.6180</td>\n",
              "      <td>2097.2700</td>\n",
              "      <td>Meat</td>\n",
              "      <td>0.016760</td>\n",
              "      <td>17.500</td>\n",
              "      <td>1999</td>\n",
              "      <td>0</td>\n",
              "      <td>1</td>\n",
              "      <td>1</td>\n",
              "      <td>14</td>\n",
              "      <td>1</td>\n",
              "      <td>0</td>\n",
              "      <td>0</td>\n",
              "      <td>0</td>\n",
              "      <td>0</td>\n",
              "      <td>0</td>\n",
              "      <td>0</td>\n",
              "      <td>0</td>\n",
              "      <td>0</td>\n",
              "      <td>0</td>\n",
              "      <td>1</td>\n",
              "    </tr>\n",
              "    <tr>\n",
              "      <th>3</th>\n",
              "      <td>2</td>\n",
              "      <td>FDX07</td>\n",
              "      <td>182.0950</td>\n",
              "      <td>732.3800</td>\n",
              "      <td>Fruits and Vegetables</td>\n",
              "      <td>0.022930</td>\n",
              "      <td>19.200</td>\n",
              "      <td>1998</td>\n",
              "      <td>2</td>\n",
              "      <td>2</td>\n",
              "      <td>0</td>\n",
              "      <td>15</td>\n",
              "      <td>1</td>\n",
              "      <td>1</td>\n",
              "      <td>0</td>\n",
              "      <td>0</td>\n",
              "      <td>0</td>\n",
              "      <td>0</td>\n",
              "      <td>0</td>\n",
              "      <td>0</td>\n",
              "      <td>0</td>\n",
              "      <td>0</td>\n",
              "      <td>0</td>\n",
              "    </tr>\n",
              "    <tr>\n",
              "      <th>4</th>\n",
              "      <td>1</td>\n",
              "      <td>NCD19</td>\n",
              "      <td>53.8614</td>\n",
              "      <td>994.7052</td>\n",
              "      <td>Household</td>\n",
              "      <td>0.014670</td>\n",
              "      <td>8.930</td>\n",
              "      <td>1987</td>\n",
              "      <td>2</td>\n",
              "      <td>0</td>\n",
              "      <td>1</td>\n",
              "      <td>26</td>\n",
              "      <td>2</td>\n",
              "      <td>0</td>\n",
              "      <td>1</td>\n",
              "      <td>0</td>\n",
              "      <td>0</td>\n",
              "      <td>0</td>\n",
              "      <td>0</td>\n",
              "      <td>0</td>\n",
              "      <td>0</td>\n",
              "      <td>0</td>\n",
              "      <td>0</td>\n",
              "    </tr>\n",
              "    <tr>\n",
              "      <th>5</th>\n",
              "      <td>2</td>\n",
              "      <td>FDP36</td>\n",
              "      <td>51.4008</td>\n",
              "      <td>556.6088</td>\n",
              "      <td>Baking Goods</td>\n",
              "      <td>0.091294</td>\n",
              "      <td>10.395</td>\n",
              "      <td>2009</td>\n",
              "      <td>2</td>\n",
              "      <td>1</td>\n",
              "      <td>2</td>\n",
              "      <td>4</td>\n",
              "      <td>1</td>\n",
              "      <td>0</td>\n",
              "      <td>0</td>\n",
              "      <td>0</td>\n",
              "      <td>1</td>\n",
              "      <td>0</td>\n",
              "      <td>0</td>\n",
              "      <td>0</td>\n",
              "      <td>0</td>\n",
              "      <td>0</td>\n",
              "      <td>0</td>\n",
              "    </tr>\n",
              "    <tr>\n",
              "      <th>6</th>\n",
              "      <td>2</td>\n",
              "      <td>FDO10</td>\n",
              "      <td>57.6588</td>\n",
              "      <td>343.5528</td>\n",
              "      <td>Snack Foods</td>\n",
              "      <td>0.012741</td>\n",
              "      <td>13.650</td>\n",
              "      <td>1987</td>\n",
              "      <td>2</td>\n",
              "      <td>0</td>\n",
              "      <td>1</td>\n",
              "      <td>26</td>\n",
              "      <td>1</td>\n",
              "      <td>0</td>\n",
              "      <td>1</td>\n",
              "      <td>0</td>\n",
              "      <td>0</td>\n",
              "      <td>0</td>\n",
              "      <td>0</td>\n",
              "      <td>0</td>\n",
              "      <td>0</td>\n",
              "      <td>0</td>\n",
              "      <td>0</td>\n",
              "    </tr>\n",
              "    <tr>\n",
              "      <th>7</th>\n",
              "      <td>0</td>\n",
              "      <td>FDP10</td>\n",
              "      <td>107.7622</td>\n",
              "      <td>4022.7636</td>\n",
              "      <td>Snack Foods</td>\n",
              "      <td>0.127470</td>\n",
              "      <td>19.000</td>\n",
              "      <td>1985</td>\n",
              "      <td>2</td>\n",
              "      <td>1</td>\n",
              "      <td>3</td>\n",
              "      <td>28</td>\n",
              "      <td>1</td>\n",
              "      <td>0</td>\n",
              "      <td>0</td>\n",
              "      <td>0</td>\n",
              "      <td>0</td>\n",
              "      <td>0</td>\n",
              "      <td>1</td>\n",
              "      <td>0</td>\n",
              "      <td>0</td>\n",
              "      <td>0</td>\n",
              "      <td>0</td>\n",
              "    </tr>\n",
              "    <tr>\n",
              "      <th>8</th>\n",
              "      <td>2</td>\n",
              "      <td>FDH17</td>\n",
              "      <td>96.9726</td>\n",
              "      <td>1076.5986</td>\n",
              "      <td>Frozen Foods</td>\n",
              "      <td>0.016687</td>\n",
              "      <td>16.200</td>\n",
              "      <td>2002</td>\n",
              "      <td>1</td>\n",
              "      <td>2</td>\n",
              "      <td>1</td>\n",
              "      <td>11</td>\n",
              "      <td>1</td>\n",
              "      <td>0</td>\n",
              "      <td>0</td>\n",
              "      <td>0</td>\n",
              "      <td>0</td>\n",
              "      <td>0</td>\n",
              "      <td>0</td>\n",
              "      <td>0</td>\n",
              "      <td>1</td>\n",
              "      <td>0</td>\n",
              "      <td>0</td>\n",
              "    </tr>\n",
              "    <tr>\n",
              "      <th>9</th>\n",
              "      <td>2</td>\n",
              "      <td>FDU28</td>\n",
              "      <td>187.8214</td>\n",
              "      <td>4710.5350</td>\n",
              "      <td>Frozen Foods</td>\n",
              "      <td>0.094450</td>\n",
              "      <td>19.200</td>\n",
              "      <td>2007</td>\n",
              "      <td>1</td>\n",
              "      <td>2</td>\n",
              "      <td>1</td>\n",
              "      <td>6</td>\n",
              "      <td>1</td>\n",
              "      <td>0</td>\n",
              "      <td>0</td>\n",
              "      <td>1</td>\n",
              "      <td>0</td>\n",
              "      <td>0</td>\n",
              "      <td>0</td>\n",
              "      <td>0</td>\n",
              "      <td>0</td>\n",
              "      <td>0</td>\n",
              "      <td>0</td>\n",
              "    </tr>\n",
              "  </tbody>\n",
              "</table>\n",
              "</div>"
            ],
            "text/plain": [
              "   Item_Fat_Content  ... Outlet_Identifier_OUT049\n",
              "0                 0  ...                        1\n",
              "1                 2  ...                        0\n",
              "2                 0  ...                        1\n",
              "3                 2  ...                        0\n",
              "4                 1  ...                        0\n",
              "5                 2  ...                        0\n",
              "6                 2  ...                        0\n",
              "7                 0  ...                        0\n",
              "8                 2  ...                        0\n",
              "9                 2  ...                        0\n",
              "\n",
              "[10 rows x 23 columns]"
            ]
          },
          "metadata": {
            "tags": []
          },
          "execution_count": 78
        }
      ]
    },
    {
      "cell_type": "markdown",
      "metadata": {
        "id": "PFh3OYHEZGfV",
        "colab_type": "text"
      },
      "source": [
        "Drop the column which have been converted to different types :"
      ]
    },
    {
      "cell_type": "code",
      "metadata": {
        "id": "GzjnfyArY-fT",
        "colab_type": "code",
        "colab": {}
      },
      "source": [
        "data_total.drop(['Item_Type','Outlet_Establishment_Year','Item_Identifier'],axis=1,inplace=True)"
      ],
      "execution_count": 0,
      "outputs": []
    },
    {
      "cell_type": "markdown",
      "metadata": {
        "id": "OVPFZET5fP3q",
        "colab_type": "text"
      },
      "source": [
        "Now i am going find the relation between target column and other features which is one of the way identify useless and collinear features."
      ]
    },
    {
      "cell_type": "code",
      "metadata": {
        "id": "4otRrH62AHBl",
        "colab_type": "code",
        "colab": {}
      },
      "source": [
        "Data=data_total[:8523]"
      ],
      "execution_count": 0,
      "outputs": []
    },
    {
      "cell_type": "code",
      "metadata": {
        "id": "wwKMAaAYZZjF",
        "colab_type": "code",
        "outputId": "462880d1-e77b-45b8-d7b1-d3f68675350a",
        "colab": {
          "base_uri": "https://localhost:8080/",
          "height": 403
        }
      },
      "source": [
        "sns.heatmap(Data.corr().loc[['Item_Outlet_Sales'],:])"
      ],
      "execution_count": 0,
      "outputs": [
        {
          "output_type": "execute_result",
          "data": {
            "text/plain": [
              "<matplotlib.axes._subplots.AxesSubplot at 0x7f58827d6048>"
            ]
          },
          "metadata": {
            "tags": []
          },
          "execution_count": 81
        },
        {
          "output_type": "display_data",
          "data": {
            "image/png": "[encoded data removed]",
            "text/plain": [
              "<Figure size 432x288 with 2 Axes>"
            ]
          },
          "metadata": {
            "tags": []
          }
        }
      ]
    },
    {
      "cell_type": "markdown",
      "metadata": {
        "id": "MVc8u2OCgPyR",
        "colab_type": "text"
      },
      "source": [
        "Numerical represantation of above plot is shown below."
      ]
    },
    {
      "cell_type": "code",
      "metadata": {
        "id": "VuQ-W2nffaX8",
        "colab_type": "code",
        "outputId": "15bdd462-f675-463d-8d5f-9dd1eb9fef00",
        "colab": {
          "base_uri": "https://localhost:8080/",
          "height": 374
        }
      },
      "source": [
        "Data.corr().loc['Item_Outlet_Sales',:].sort_values(ascending = False)"
      ],
      "execution_count": 0,
      "outputs": [
        {
          "output_type": "execute_result",
          "data": {
            "text/plain": [
              "Item_Outlet_Sales           1.000000\n",
              "Item_MRP                    0.567574\n",
              "Outlet_Type                 0.401522\n",
              "Outlet_Identifier_OUT027    0.311192\n",
              "Outlet_Location_Type        0.089367\n",
              "Outlet_Identifier_OUT035    0.052823\n",
              "Outlet_Years                0.049135\n",
              "Outlet_Identifier_OUT049    0.034264\n",
              "Outlet_Identifier_OUT017    0.032610\n",
              "Outlet_Identifier_OUT013    0.024170\n",
              "Outlet_Identifier_OUT046    0.019803\n",
              "Item_Fat_Content            0.015249\n",
              "Item_Weight                 0.013261\n",
              "Combined_Item_Type          0.011236\n",
              "Outlet_Identifier_OUT045    0.002274\n",
              "Outlet_Identifier_OUT018   -0.038059\n",
              "Item_Visibility            -0.127014\n",
              "Outlet_Size                -0.162753\n",
              "Outlet_Identifier_OUT019   -0.277250\n",
              "Outlet_Identifier_OUT010   -0.284883\n",
              "Name: Item_Outlet_Sales, dtype: float64"
            ]
          },
          "metadata": {
            "tags": []
          },
          "execution_count": 82
        }
      ]
    },
    {
      "cell_type": "markdown",
      "metadata": {
        "id": "v0hn9-B-hSgU",
        "colab_type": "text"
      },
      "source": [
        "Combined_Item_Type have the least correlation with the target variable 'Item_Outlet_Sales' but we will keep it because it efficient to help in predictive model."
      ]
    },
    {
      "cell_type": "markdown",
      "metadata": {
        "id": "Qjz6-iQhiB2f",
        "colab_type": "text"
      },
      "source": [
        "Now  i will find the relationship bn different features in the numerical form in descending form and i will drop the feature with very high correlation i.e. value close to 1"
      ]
    },
    {
      "cell_type": "code",
      "metadata": {
        "id": "OL4I8BUYgV2R",
        "colab_type": "code",
        "colab": {}
      },
      "source": [
        "corr_matrix = Data.corr().abs()\n",
        "\n",
        "#the matrix is symmetric so we need to extract upper triangle matrix without diagonal (k = 1)\n",
        "sol = (corr_matrix.where(np.triu(np.ones(corr_matrix.shape), k=1).astype(np.bool))\n",
        "                 .stack()\n",
        "                 .sort_values(ascending=False))"
      ],
      "execution_count": 0,
      "outputs": []
    },
    {
      "cell_type": "code",
      "metadata": {
        "id": "rnhHy00Bh4Yy",
        "colab_type": "code",
        "outputId": "080ed815-c250-461a-9e22-701ccfe13119",
        "colab": {
          "base_uri": "https://localhost:8080/",
          "height": 1000
        }
      },
      "source": [
        "sol"
      ],
      "execution_count": 0,
      "outputs": [
        {
          "output_type": "execute_result",
          "data": {
            "text/plain": [
              "Outlet_Type           Outlet_Identifier_OUT027    0.792834\n",
              "Outlet_Size           Outlet_Identifier_OUT013    0.745682\n",
              "Item_MRP              Item_Outlet_Sales           0.567574\n",
              "Outlet_Years          Outlet_Identifier_OUT027    0.538072\n",
              "Outlet_Location_Type  Outlet_Size                 0.480075\n",
              "                      Outlet_Identifier_OUT049    0.479230\n",
              "                      Outlet_Identifier_OUT046    0.479230\n",
              "                      Outlet_Type                 0.467219\n",
              "Outlet_Years          Outlet_Identifier_OUT018    0.466336\n",
              "                      Outlet_Identifier_OUT013    0.453388\n",
              "Outlet_Size           Outlet_Years                0.425534\n",
              "Item_Outlet_Sales     Outlet_Type                 0.401522\n",
              "Outlet_Size           Outlet_Type                 0.401373\n",
              "Outlet_Type           Outlet_Identifier_OUT010    0.398067\n",
              "Outlet_Years          Outlet_Identifier_OUT019    0.393918\n",
              "Outlet_Type           Outlet_Identifier_OUT019    0.387608\n",
              "Outlet_Location_Type  Outlet_Identifier_OUT027    0.383172\n",
              "                      Outlet_Identifier_OUT013    0.382481\n",
              "Outlet_Years          Outlet_Identifier_OUT017    0.382361\n",
              "Outlet_Location_Type  Outlet_Identifier_OUT018    0.381559\n",
              "                      Outlet_Identifier_OUT019    0.351898\n",
              "Outlet_Type           Outlet_Identifier_OUT018    0.350590\n",
              "Item_Outlet_Sales     Outlet_Identifier_OUT027    0.311192\n",
              "Outlet_Location_Type  Outlet_Identifier_OUT010    0.288087\n",
              "Item_Outlet_Sales     Outlet_Identifier_OUT010    0.284883\n",
              "Outlet_Size           Outlet_Identifier_OUT035    0.279963\n",
              "                      Outlet_Identifier_OUT046    0.279963\n",
              "                      Outlet_Identifier_OUT045    0.279794\n",
              "                      Outlet_Identifier_OUT017    0.279286\n",
              "Item_Outlet_Sales     Outlet_Identifier_OUT019    0.277250\n",
              "                                                    ...   \n",
              "Item_Weight           Outlet_Identifier_OUT027    0.003890\n",
              "Item_MRP              Outlet_Identifier_OUT018    0.003850\n",
              "Item_Fat_Content      Outlet_Identifier_OUT017    0.003828\n",
              "Item_Weight           Outlet_Identifier_OUT017    0.003529\n",
              "                      Outlet_Identifier_OUT035    0.003335\n",
              "                      Outlet_Identifier_OUT049    0.003301\n",
              "                      Outlet_Location_Type        0.002929\n",
              "Combined_Item_Type    Outlet_Identifier_OUT017    0.002829\n",
              "Item_MRP              Outlet_Identifier_OUT013    0.002438\n",
              "Item_Outlet_Sales     Outlet_Identifier_OUT045    0.002274\n",
              "Item_Weight           Outlet_Identifier_OUT010    0.002246\n",
              "Item_MRP              Outlet_Type                 0.001975\n",
              "Item_Fat_Content      Outlet_Identifier_OUT018    0.001810\n",
              "                      Outlet_Years                0.001451\n",
              "Combined_Item_Type    Outlet_Identifier_OUT018    0.001367\n",
              "Outlet_Size           Combined_Item_Type          0.001276\n",
              "Outlet_Type           Combined_Item_Type          0.001136\n",
              "Item_Fat_Content      Outlet_Location_Type        0.000958\n",
              "Item_MRP              Outlet_Identifier_OUT010    0.000912\n",
              "                      Outlet_Size                 0.000872\n",
              "Item_Fat_Content      Outlet_Size                 0.000829\n",
              "                      Outlet_Identifier_OUT049    0.000637\n",
              "Item_Weight           Outlet_Identifier_OUT046    0.000514\n",
              "Item_Fat_Content      Outlet_Identifier_OUT027    0.000399\n",
              "Item_Weight           Outlet_Type                 0.000298\n",
              "Item_MRP              Outlet_Identifier_OUT045    0.000239\n",
              "                      Outlet_Location_Type        0.000232\n",
              "Item_Fat_Content      Outlet_Identifier_OUT013    0.000114\n",
              "                      Outlet_Type                 0.000084\n",
              "Item_Weight           Outlet_Identifier_OUT018    0.000021\n",
              "Length: 190, dtype: float64"
            ]
          },
          "metadata": {
            "tags": []
          },
          "execution_count": 84
        }
      ]
    },
    {
      "cell_type": "code",
      "metadata": {
        "id": "pJoR6m0qCrQq",
        "colab_type": "code",
        "colab": {}
      },
      "source": [
        "# data_total.drop(['Outlet_Type_Supermarket Type2','Outlet_Type_Supermarket Type3'],axis=1,inplace=True)"
      ],
      "execution_count": 0,
      "outputs": []
    },
    {
      "cell_type": "code",
      "metadata": {
        "id": "SuBOAGprC1Kx",
        "colab_type": "code",
        "colab": {}
      },
      "source": [
        "# Data=data_total[:8338]"
      ],
      "execution_count": 0,
      "outputs": []
    },
    {
      "cell_type": "markdown",
      "metadata": {
        "id": "veqoEAc7ioyb",
        "colab_type": "text"
      },
      "source": [
        "None the features are highly correlated highest correlation is only 0.716176 ,so i will keep all the feature."
      ]
    },
    {
      "cell_type": "markdown",
      "metadata": {
        "id": "0O-q0h_Oi9XJ",
        "colab_type": "text"
      },
      "source": [
        "# MODEL BUILDING"
      ]
    },
    {
      "cell_type": "code",
      "metadata": {
        "id": "x2lYzzt8CaHh",
        "colab_type": "code",
        "colab": {}
      },
      "source": [
        ""
      ],
      "execution_count": 0,
      "outputs": []
    },
    {
      "cell_type": "markdown",
      "metadata": {
        "id": "TO7GAjWnsnDo",
        "colab_type": "text"
      },
      "source": [
        "## Data standardization \n",
        "\n",
        "\n",
        "*  In the Dataset the range of values for different feature varies on a very different range . So , i will standardised every feature to make their range same.\n",
        "* but firstly we have to spit the dataset into feature and target set.\n",
        "\n"
      ]
    },
    {
      "cell_type": "code",
      "metadata": {
        "id": "M-DX7NIGh6KH",
        "colab_type": "code",
        "colab": {}
      },
      "source": [
        "xtrain = Data.drop(['Item_Outlet_Sales'] , axis = 1)\n",
        "ytrain = Data.Item_Outlet_Sales\n",
        "# xtrain, xtest, ytrain, ytest = train_test_split(X, Y, test_size=0.2, random_state=0)\n",
        "xtrain_scaled = StandardScaler().fit_transform(xtrain.values)"
      ],
      "execution_count": 0,
      "outputs": []
    },
    {
      "cell_type": "code",
      "metadata": {
        "id": "8vc9oI-_xH1v",
        "colab_type": "code",
        "colab": {}
      },
      "source": [
        "xtest=data_total[8523:].drop(['Item_Outlet_Sales'],axis=1)\n",
        "xtest_scaled = StandardScaler().fit_transform(xtest.values)\n",
        "ytest=Data_submission[\"Item_Outlet_Sales\"]"
      ],
      "execution_count": 0,
      "outputs": []
    },
    {
      "cell_type": "markdown",
      "metadata": {
        "id": "SCf0doUXSr5w",
        "colab_type": "text"
      },
      "source": [
        "Light GBM"
      ]
    },
    {
      "cell_type": "code",
      "metadata": {
        "id": "rc8ADFbISq5M",
        "colab_type": "code",
        "colab": {}
      },
      "source": [
        "def learning_rate_010_decay_power_099(current_iter):\n",
        "    base_learning_rate = 0.1\n",
        "    lr = base_learning_rate*np.power(.99, current_iter)\n",
        "    return lr if lr > 1e-3 else 1e-3\n",
        "\n",
        "def learning_rate_010_decay_power_0995(current_iter):\n",
        "    base_learning_rate = 0.1\n",
        "    lr = base_learning_rate  * np.power(.995, current_iter)\n",
        "    return lr if lr > 1e-3 else 1e-3\n",
        "\n",
        "def learning_rate_005_decay_power_099(current_iter):\n",
        "    base_learning_rate = 0.05\n",
        "    lr = base_learning_rate  * np.power(.99, current_iter)\n",
        "    return lr if lr > 1e-3 else 1e-3"
      ],
      "execution_count": 0,
      "outputs": []
    },
    {
      "cell_type": "code",
      "metadata": {
        "id": "XOasPz7yS_jU",
        "colab_type": "code",
        "colab": {}
      },
      "source": [
        "import lightgbm as lgb\n",
        "fit_params={\"early_stopping_rounds\":30, \n",
        "            \"eval_metric\" : 'auc', \n",
        "            \"eval_set\" : [(xtest_scaled,ytest)],\n",
        "            'eval_names': ['valid'],\n",
        "            #'callbacks': [lgb.reset_parameter(learning_rate=learning_rate_010_decay_power_099)],\n",
        "            'verbose': 100,\n",
        "            'categorical_feature': 'auto'}"
      ],
      "execution_count": 0,
      "outputs": []
    },
    {
      "cell_type": "code",
      "metadata": {
        "id": "nV6ZaBQQTZlz",
        "colab_type": "code",
        "colab": {}
      },
      "source": [
        "from scipy.stats import randint as sp_randint\n",
        "from scipy.stats import uniform as sp_uniform\n",
        "param_test ={'num_leaves': sp_randint(6, 50), \n",
        "             'min_child_samples': sp_randint(100, 500), \n",
        "             'min_child_weight': [1e-5, 1e-3, 1e-2, 1e-1, 1, 1e1, 1e2, 1e3, 1e4],\n",
        "             'subsample': sp_uniform(loc=0.2, scale=0.8), \n",
        "             'colsample_bytree': sp_uniform(loc=0.4, scale=0.6),\n",
        "             'reg_alpha': [0, 1e-1, 1, 2, 5, 7, 10, 50, 100],\n",
        "             'reg_lambda': [0, 1e-1, 1, 5, 10, 20, 50, 100]}"
      ],
      "execution_count": 0,
      "outputs": []
    },
    {
      "cell_type": "code",
      "metadata": {
        "id": "n-eX64plTg8n",
        "colab_type": "code",
        "colab": {}
      },
      "source": [
        "n_HP_points_to_test = 100\n",
        "\n",
        "import lightgbm as lgb\n",
        "from sklearn.model_selection import RandomizedSearchCV, GridSearchCV\n",
        "\n",
        "#n_estimators is set to a \"large value\". The actual number of trees build will depend on early stopping and 5000 define only the absolute maximum\n",
        "clf = lgb.LGBMRegressor(max_depth=-1, random_state=314, silent=True, metric='None', n_jobs=4, n_estimators=5000)\n",
        "gs = RandomizedSearchCV(\n",
        "    estimator=clf, param_distributions=param_test, \n",
        "    n_iter=n_HP_points_to_test,\n",
        "    cv=3,\n",
        "    refit=True,\n",
        "    random_state=314,\n",
        "    verbose=True)"
      ],
      "execution_count": 0,
      "outputs": []
    },
    {
      "cell_type": "code",
      "metadata": {
        "id": "eKN04FP7Tg1C",
        "colab_type": "code",
        "colab": {}
      },
      "source": [
        "gs.fit(xtrain_scaled, ytrain, **fit_params)"
      ],
      "execution_count": 0,
      "outputs": []
    },
    {
      "cell_type": "code",
      "metadata": {
        "id": "ud0fDh3RTgtQ",
        "colab_type": "code",
        "outputId": "28e5887b-29a7-42ef-bea0-a6659698d554",
        "colab": {
          "base_uri": "https://localhost:8080/",
          "height": 54
        }
      },
      "source": [
        "print('Best score reached: {} with params: {} '.format(gs.best_score_, gs.best_params_))"
      ],
      "execution_count": 0,
      "outputs": [
        {
          "output_type": "stream",
          "text": [
            "Best score reached: 0.5952238712125031 with params: {'colsample_bytree': 0.8665631328558623, 'min_child_samples': 122, 'min_child_weight': 0.1, 'num_leaves': 48, 'reg_alpha': 2, 'reg_lambda': 50, 'subsample': 0.7252600946741159} \n"
          ],
          "name": "stdout"
        }
      ]
    },
    {
      "cell_type": "code",
      "metadata": {
        "id": "U_fzoQQZTgl8",
        "colab_type": "code",
        "colab": {}
      },
      "source": [
        "opt_parameters = {'colsample_bytree': 0.8665631328558623, 'min_child_samples': 122, 'min_child_weight': 0.1, 'num_leaves': 48, 'reg_alpha': 2, 'reg_lambda': 50, 'subsample': 0.7252600946741159}"
      ],
      "execution_count": 0,
      "outputs": []
    },
    {
      "cell_type": "code",
      "metadata": {
        "id": "cLH_hiKKXKKU",
        "colab_type": "code",
        "outputId": "ef171fd1-5159-4ed7-e353-16f54721a223",
        "colab": {
          "base_uri": "https://localhost:8080/",
          "height": 153
        }
      },
      "source": [
        "clf_sw = lgb.LGBMRegressor(**clf.get_params())\n",
        "#set optimal parameters\n",
        "clf_sw.set_params(**opt_parameters)"
      ],
      "execution_count": 0,
      "outputs": [
        {
          "output_type": "execute_result",
          "data": {
            "text/plain": [
              "LGBMRegressor(boosting_type='gbdt', class_weight=None,\n",
              "              colsample_bytree=0.8665631328558623, importance_type='split',\n",
              "              learning_rate=0.1, max_depth=-1, metric='None',\n",
              "              min_child_samples=122, min_child_weight=0.1, min_split_gain=0.0,\n",
              "              n_estimators=5000, n_jobs=4, num_leaves=48, objective=None,\n",
              "              random_state=314, reg_alpha=2, reg_lambda=50, silent=True,\n",
              "              subsample=0.7252600946741159, subsample_for_bin=200000,\n",
              "              subsample_freq=0)"
            ]
          },
          "metadata": {
            "tags": []
          },
          "execution_count": 96
        }
      ]
    },
    {
      "cell_type": "code",
      "metadata": {
        "id": "K-Xv-xigXKC7",
        "colab_type": "code",
        "colab": {}
      },
      "source": [
        "gs_sample_weight = GridSearchCV(estimator=clf_sw, \n",
        "                                param_grid={'scale_pos_weight':[1,2,6,12]},             \n",
        "                                cv=5,\n",
        "                                refit=True,\n",
        "                                verbose=True)"
      ],
      "execution_count": 0,
      "outputs": []
    },
    {
      "cell_type": "code",
      "metadata": {
        "id": "G4cLP0P8XJ7F",
        "colab_type": "code",
        "outputId": "57d1075f-9a19-48fa-911c-23c1e0869ca0",
        "colab": {
          "base_uri": "https://localhost:8080/",
          "height": 1000
        }
      },
      "source": [
        "gs_sample_weight.fit(xtrain_scaled, ytrain, **fit_params)\n",
        "print('Best score reached: {} with params: {} '.format(gs_sample_weight.best_score_, gs_sample_weight.best_params_))"
      ],
      "execution_count": 0,
      "outputs": [
        {
          "output_type": "stream",
          "text": [
            "Fitting 5 folds for each of 4 candidates, totalling 20 fits\n",
            "Training until validation scores don't improve for 30 rounds.\n"
          ],
          "name": "stdout"
        },
        {
          "output_type": "stream",
          "text": [
            "[Parallel(n_jobs=1)]: Using backend SequentialBackend with 1 concurrent workers.\n"
          ],
          "name": "stderr"
        },
        {
          "output_type": "stream",
          "text": [
            "Early stopping, best iteration is:\n",
            "[42]\tvalid's auc: 0.998209\n",
            "Training until validation scores don't improve for 30 rounds.\n",
            "Early stopping, best iteration is:\n",
            "[39]\tvalid's auc: 0.998685\n",
            "Training until validation scores don't improve for 30 rounds.\n",
            "Early stopping, best iteration is:\n",
            "[44]\tvalid's auc: 0.997168\n",
            "Training until validation scores don't improve for 30 rounds.\n",
            "Early stopping, best iteration is:\n",
            "[67]\tvalid's auc: 0.998808\n",
            "Training until validation scores don't improve for 30 rounds.\n",
            "[100]\tvalid's auc: 0.997338\n",
            "Early stopping, best iteration is:\n",
            "[72]\tvalid's auc: 0.998892\n",
            "Training until validation scores don't improve for 30 rounds.\n",
            "Early stopping, best iteration is:\n",
            "[42]\tvalid's auc: 0.998209\n",
            "Training until validation scores don't improve for 30 rounds.\n",
            "Early stopping, best iteration is:\n",
            "[39]\tvalid's auc: 0.998685\n",
            "Training until validation scores don't improve for 30 rounds.\n",
            "Early stopping, best iteration is:\n",
            "[44]\tvalid's auc: 0.997168\n",
            "Training until validation scores don't improve for 30 rounds.\n",
            "Early stopping, best iteration is:\n",
            "[67]\tvalid's auc: 0.998808\n",
            "Training until validation scores don't improve for 30 rounds.\n",
            "[100]\tvalid's auc: 0.997338\n",
            "Early stopping, best iteration is:\n",
            "[72]\tvalid's auc: 0.998892\n",
            "Training until validation scores don't improve for 30 rounds.\n",
            "Early stopping, best iteration is:\n",
            "[42]\tvalid's auc: 0.998209\n",
            "Training until validation scores don't improve for 30 rounds.\n",
            "Early stopping, best iteration is:\n",
            "[39]\tvalid's auc: 0.998685\n",
            "Training until validation scores don't improve for 30 rounds.\n",
            "Early stopping, best iteration is:\n",
            "[44]\tvalid's auc: 0.997168\n",
            "Training until validation scores don't improve for 30 rounds.\n",
            "Early stopping, best iteration is:\n",
            "[67]\tvalid's auc: 0.998808\n",
            "Training until validation scores don't improve for 30 rounds.\n",
            "[100]\tvalid's auc: 0.997338\n",
            "Early stopping, best iteration is:\n",
            "[72]\tvalid's auc: 0.998892\n",
            "Training until validation scores don't improve for 30 rounds.\n",
            "Early stopping, best iteration is:\n",
            "[42]\tvalid's auc: 0.998209\n",
            "Training until validation scores don't improve for 30 rounds.\n",
            "Early stopping, best iteration is:\n",
            "[39]\tvalid's auc: 0.998685\n",
            "Training until validation scores don't improve for 30 rounds.\n",
            "Early stopping, best iteration is:\n",
            "[44]\tvalid's auc: 0.997168\n",
            "Training until validation scores don't improve for 30 rounds.\n",
            "Early stopping, best iteration is:\n",
            "[67]\tvalid's auc: 0.998808\n",
            "Training until validation scores don't improve for 30 rounds.\n",
            "[100]\tvalid's auc: 0.997338\n",
            "Early stopping, best iteration is:\n",
            "[72]\tvalid's auc: 0.998892\n",
            "Training until validation scores don't improve for 30 rounds.\n"
          ],
          "name": "stdout"
        },
        {
          "output_type": "stream",
          "text": [
            "[Parallel(n_jobs=1)]: Done  20 out of  20 | elapsed:   10.3s finished\n"
          ],
          "name": "stderr"
        },
        {
          "output_type": "stream",
          "text": [
            "Early stopping, best iteration is:\n",
            "[41]\tvalid's auc: 0.999091\n",
            "Best score reached: 0.5952426964583432 with params: {'scale_pos_weight': 1} \n"
          ],
          "name": "stdout"
        }
      ]
    },
    {
      "cell_type": "code",
      "metadata": {
        "id": "l_2Juf_HXJyi",
        "colab_type": "code",
        "outputId": "ceca5ef4-a5bf-4f64-92df-54a6673c8219",
        "colab": {
          "base_uri": "https://localhost:8080/",
          "height": 153
        }
      },
      "source": [
        "clf_final = lgb.LGBMRegressor(**clf.get_params())\n",
        "#set optimal parameters\n",
        "clf_final.set_params(**opt_parameters)\n",
        "\n",
        "#Train the final model with learning rate decay\n",
        "# clf_final.fit(xtrain_scaled, ytrain, **fit_params, callbacks=[lgb.reset_parameter(learning_rate=learning_rate_010_decay_power_0995)])"
      ],
      "execution_count": 0,
      "outputs": [
        {
          "output_type": "execute_result",
          "data": {
            "text/plain": [
              "LGBMRegressor(boosting_type='gbdt', class_weight=None,\n",
              "              colsample_bytree=0.8665631328558623, importance_type='split',\n",
              "              learning_rate=0.1, max_depth=-1, metric='None',\n",
              "              min_child_samples=122, min_child_weight=0.1, min_split_gain=0.0,\n",
              "              n_estimators=5000, n_jobs=4, num_leaves=48, objective=None,\n",
              "              random_state=314, reg_alpha=2, reg_lambda=50, silent=True,\n",
              "              subsample=0.7252600946741159, subsample_for_bin=200000,\n",
              "              subsample_freq=0)"
            ]
          },
          "metadata": {
            "tags": []
          },
          "execution_count": 99
        }
      ]
    },
    {
      "cell_type": "code",
      "metadata": {
        "id": "ZGkqRlV0h1-x",
        "colab_type": "code",
        "outputId": "763a0e5a-259f-4e96-e053-86f6fc604f2b",
        "colab": {
          "base_uri": "https://localhost:8080/",
          "height": 289
        }
      },
      "source": [
        "from sklearn.model_selection import KFold \n",
        "  \n",
        "kf = KFold(n_splits=5,  random_state=None) \n",
        "lgb_lvl1_train=[]\n",
        "lgb_lvl1_y=[]\n",
        "for train_index, test_index in kf.split(xtrain_scaled):\n",
        "#       print(\"Train:\", train_index, \"Validation:\",test_index)\n",
        "    X_train, X_test = xtrain_scaled[train_index], xtrain_scaled[test_index] \n",
        "    y_train, y_test = ytrain[train_index], ytrain[test_index]\n",
        "    clf_final.fit(X_train, y_train, **fit_params, callbacks=[lgb.reset_parameter(learning_rate=learning_rate_010_decay_power_0995)]) \n",
        "    lgb_lvl1_train.extend(clf_final.predict(X_test))\n",
        "    lgb_lvl1_y.extend(y_test)"
      ],
      "execution_count": 0,
      "outputs": [
        {
          "output_type": "stream",
          "text": [
            "Training until validation scores don't improve for 30 rounds.\n",
            "Early stopping, best iteration is:\n",
            "[50]\tvalid's auc: 0.998774\n",
            "Training until validation scores don't improve for 30 rounds.\n",
            "Early stopping, best iteration is:\n",
            "[49]\tvalid's auc: 0.99918\n",
            "Training until validation scores don't improve for 30 rounds.\n",
            "Early stopping, best iteration is:\n",
            "[58]\tvalid's auc: 0.997542\n",
            "Training until validation scores don't improve for 30 rounds.\n",
            "Early stopping, best iteration is:\n",
            "[58]\tvalid's auc: 0.998562\n",
            "Training until validation scores don't improve for 30 rounds.\n",
            "[100]\tvalid's auc: 0.998452\n",
            "Early stopping, best iteration is:\n",
            "[74]\tvalid's auc: 0.999363\n"
          ],
          "name": "stdout"
        }
      ]
    },
    {
      "cell_type": "code",
      "metadata": {
        "id": "tDgLpdPXbc0j",
        "colab_type": "code",
        "outputId": "fa0cb3b1-d288-450b-eec3-b829e1911a10",
        "colab": {
          "base_uri": "https://localhost:8080/",
          "height": 34
        }
      },
      "source": [
        "len(lgb_lvl1_y)"
      ],
      "execution_count": 0,
      "outputs": [
        {
          "output_type": "execute_result",
          "data": {
            "text/plain": [
              "8523"
            ]
          },
          "metadata": {
            "tags": []
          },
          "execution_count": 101
        }
      ]
    },
    {
      "cell_type": "code",
      "metadata": {
        "id": "aK40yOUibUPv",
        "colab_type": "code",
        "outputId": "d8eac7ca-3708-4fc5-ed37-65822a448998",
        "colab": {
          "base_uri": "https://localhost:8080/",
          "height": 34
        }
      },
      "source": [
        "len(lgb_lvl1_train)"
      ],
      "execution_count": 0,
      "outputs": [
        {
          "output_type": "execute_result",
          "data": {
            "text/plain": [
              "8523"
            ]
          },
          "metadata": {
            "tags": []
          },
          "execution_count": 102
        }
      ]
    },
    {
      "cell_type": "code",
      "metadata": {
        "id": "qM5aUeecZvaV",
        "colab_type": "code",
        "outputId": "259ed267-94e1-4ec4-d2e8-b9760e0d9869",
        "colab": {
          "base_uri": "https://localhost:8080/",
          "height": 85
        }
      },
      "source": [
        "clf_final.fit(xtrain_scaled, ytrain, **fit_params, callbacks=[lgb.reset_parameter(learning_rate=learning_rate_010_decay_power_0995)])\n",
        "mean_absolute_error(clf_final.predict(xtest_scaled),ytest)"
      ],
      "execution_count": 0,
      "outputs": [
        {
          "output_type": "stream",
          "text": [
            "Training until validation scores don't improve for 30 rounds.\n",
            "Early stopping, best iteration is:\n",
            "[58]\tvalid's auc: 0.998179\n"
          ],
          "name": "stdout"
        },
        {
          "output_type": "execute_result",
          "data": {
            "text/plain": [
              "127.00813386184014"
            ]
          },
          "metadata": {
            "tags": []
          },
          "execution_count": 103
        }
      ]
    },
    {
      "cell_type": "code",
      "metadata": {
        "id": "QvOYbjTOZvQ-",
        "colab_type": "code",
        "colab": {}
      },
      "source": [
        "Light_GBM_Pred=clf_final.predict(xtest_scaled)"
      ],
      "execution_count": 0,
      "outputs": []
    },
    {
      "cell_type": "markdown",
      "metadata": {
        "id": "TeGIIGJcy7dO",
        "colab_type": "text"
      },
      "source": [
        "Linear_regression"
      ]
    },
    {
      "cell_type": "code",
      "metadata": {
        "id": "GpYvniVTy_8U",
        "colab_type": "code",
        "colab": {}
      },
      "source": [
        "from sklearn.linear_model import LinearRegression\n",
        "model_L_R = LinearRegression(normalize=True)\n",
        "# model_L_R.fit(xtrain_scaled,ytrain)"
      ],
      "execution_count": 0,
      "outputs": []
    },
    {
      "cell_type": "code",
      "metadata": {
        "id": "d1k0wDRPPmVq",
        "colab_type": "code",
        "colab": {}
      },
      "source": [
        "from sklearn.model_selection import KFold \n",
        "  \n",
        "kf = KFold(n_splits=5,  random_state=None) \n",
        "LR_lvl1_train=[]\n",
        "LR_lvl1_y=[]\n",
        "for train_index, test_index in kf.split(xtrain_scaled):\n",
        "#       print(\"Train:\", train_index, \"Validation:\",test_index)\n",
        "    X_train, X_test = xtrain_scaled[train_index], xtrain_scaled[test_index] \n",
        "    y_train, y_test = ytrain[train_index], ytrain[test_index]\n",
        "    model_L_R.fit(X_train, y_train) \n",
        "    LR_lvl1_train.extend(model_L_R.predict(X_test))\n",
        "    LR_lvl1_y.extend(y_test)"
      ],
      "execution_count": 0,
      "outputs": []
    },
    {
      "cell_type": "code",
      "metadata": {
        "id": "7AhJdJk2P3w7",
        "colab_type": "code",
        "colab": {}
      },
      "source": [
        "LR_lvl1_train"
      ],
      "execution_count": 0,
      "outputs": []
    },
    {
      "cell_type": "code",
      "metadata": {
        "id": "CD5M_tAwP-ai",
        "colab_type": "code",
        "colab": {}
      },
      "source": [
        "LR_lvl1_y"
      ],
      "execution_count": 0,
      "outputs": []
    },
    {
      "cell_type": "code",
      "metadata": {
        "id": "2TbedsIvKUph",
        "colab_type": "code",
        "colab": {}
      },
      "source": [
        "model_L_R.fit(xtrain_scaled,ytrain)\n",
        "pred_LR = model_L_R.predict(xtest_scaled)"
      ],
      "execution_count": 0,
      "outputs": []
    },
    {
      "cell_type": "code",
      "metadata": {
        "id": "DiRORUPJ1eFw",
        "colab_type": "code",
        "outputId": "040dffb3-72c5-4868-e373-917ebdc9158b",
        "colab": {
          "base_uri": "https://localhost:8080/",
          "height": 34
        }
      },
      "source": [
        "mean_absolute_error(pred_LR,ytest)"
      ],
      "execution_count": 0,
      "outputs": [
        {
          "output_type": "execute_result",
          "data": {
            "text/plain": [
              "215.40092926812414"
            ]
          },
          "metadata": {
            "tags": []
          },
          "execution_count": 110
        }
      ]
    },
    {
      "cell_type": "markdown",
      "metadata": {
        "id": "Bn315yntxtKq",
        "colab_type": "text"
      },
      "source": [
        "Random forest"
      ]
    },
    {
      "cell_type": "code",
      "metadata": {
        "id": "hE5L3KYZylY3",
        "colab_type": "code",
        "outputId": "f6b5d3a2-5b0e-42e9-face-cb5658a3cba1",
        "colab": {
          "base_uri": "https://localhost:8080/",
          "height": 323
        }
      },
      "source": [
        "from sklearn.ensemble import RandomForestRegressor\n",
        "rf = RandomForestRegressor(random_state = 42)\n",
        "from pprint import pprint\n",
        "# Look at parameters used by our current forest\n",
        "print('Parameters currently in use:\\n')\n",
        "pprint(rf.get_params())"
      ],
      "execution_count": 0,
      "outputs": [
        {
          "output_type": "stream",
          "text": [
            "Parameters currently in use:\n",
            "\n",
            "{'bootstrap': True,\n",
            " 'criterion': 'mse',\n",
            " 'max_depth': None,\n",
            " 'max_features': 'auto',\n",
            " 'max_leaf_nodes': None,\n",
            " 'min_impurity_decrease': 0.0,\n",
            " 'min_impurity_split': None,\n",
            " 'min_samples_leaf': 1,\n",
            " 'min_samples_split': 2,\n",
            " 'min_weight_fraction_leaf': 0.0,\n",
            " 'n_estimators': 'warn',\n",
            " 'n_jobs': None,\n",
            " 'oob_score': False,\n",
            " 'random_state': 42,\n",
            " 'verbose': 0,\n",
            " 'warm_start': False}\n"
          ],
          "name": "stdout"
        }
      ]
    },
    {
      "cell_type": "code",
      "metadata": {
        "id": "QGbxPAJ9ylTc",
        "colab_type": "code",
        "colab": {}
      },
      "source": [
        "# from sklearn.model_selection import RandomizedSearchCV\n",
        "# # Number of trees in random forest\n",
        "# n_estimators = [int(x) for x in np.linspace(start = 200, stop = 2000, num = 10)]\n",
        "# # Number of features to consider at every split\n",
        "# max_features = ['auto', 'sqrt']\n",
        "# # Maximum number of levels in tree\n",
        "# max_depth = [int(x) for x in np.linspace(10, 110, num = 11)]\n",
        "# max_depth.append(None)\n",
        "# # Minimum number of samples required to split a node\n",
        "# min_samples_split = [2, 5, 10]\n",
        "# # Minimum number of samples required at each leaf node\n",
        "# min_samples_leaf = [1, 2, 4]\n",
        "# # Method of selecting samples for training each tree\n",
        "# bootstrap = [True, False]\n",
        "# # Create the random grid\n",
        "# random_grid = {'n_estimators': n_estimators,\n",
        "#                'max_features': max_features,\n",
        "#                'max_depth': max_depth,\n",
        "#                'min_samples_split': min_samples_split,\n",
        "#                'min_samples_leaf': min_samples_leaf,\n",
        "#                'bootstrap': bootstrap}\n",
        "# pprint(random_grid)"
      ],
      "execution_count": 0,
      "outputs": []
    },
    {
      "cell_type": "code",
      "metadata": {
        "id": "IRzcByc7ylMy",
        "colab_type": "code",
        "colab": {}
      },
      "source": [
        "# # Use the random grid to search for best hyperparameters\n",
        "# # First create the base model to tune\n",
        "# rf = RandomForestRegressor()\n",
        "# # Random search of parameters, using 3 fold cross validation, \n",
        "# # search across 100 different combinations, and use all available cores\n",
        "# rf_random = RandomizedSearchCV(estimator = rf, param_distributions = random_grid, n_iter = 100, cv = 3, verbose=2, random_state=42, n_jobs = -1)\n",
        "# # Fit the random search model\n",
        "# rf_random.fit(xtrain_scaled,ytrain)"
      ],
      "execution_count": 0,
      "outputs": []
    },
    {
      "cell_type": "code",
      "metadata": {
        "id": "2xGesgy35Aqs",
        "colab_type": "code",
        "colab": {}
      },
      "source": [
        "# rf_random.best_params_"
      ],
      "execution_count": 0,
      "outputs": []
    },
    {
      "cell_type": "code",
      "metadata": {
        "id": "qN_f2_PR5AbW",
        "colab_type": "code",
        "colab": {}
      },
      "source": [
        "def evaluate(model, test_features, test_labels):\n",
        "    predictions = model.predict(test_features)\n",
        "    errors = abs(predictions - test_labels)\n",
        "    mape = 100 * np.mean(errors / test_labels)\n",
        "    accuracy = 100 - mape\n",
        "    print('Model Performance')\n",
        "    print('Average Error: {:0.4f} degrees.'.format(np.mean(errors)))\n",
        "    print('Accuracy = {:0.2f}%.'.format(accuracy))\n",
        "    \n",
        "#     return accuracy\n",
        "# base_model = RandomForestRegressor(n_estimators = 10, random_state = 42)\n",
        "# base_model.fit(xtrain_scaled, ytrain)\n",
        "# base_accuracy = evaluate(base_model, xtest_scaled, ytest)"
      ],
      "execution_count": 0,
      "outputs": []
    },
    {
      "cell_type": "code",
      "metadata": {
        "id": "ToDOVYfU5AMP",
        "colab_type": "code",
        "colab": {}
      },
      "source": [
        "# best_random = rf_random.best_estimator_\n",
        "# random_accuracy = evaluate(best_random, xtest_scaled, ytest)"
      ],
      "execution_count": 0,
      "outputs": []
    },
    {
      "cell_type": "code",
      "metadata": {
        "id": "2wEubuCT4_6J",
        "colab_type": "code",
        "colab": {}
      },
      "source": [
        "# print('Improvement of {:0.2f}%.'.format( 100 * (random_accuracy - base_accuracy) / base_accuracy))"
      ],
      "execution_count": 0,
      "outputs": []
    },
    {
      "cell_type": "code",
      "metadata": {
        "id": "npSFMhQK7yJH",
        "colab_type": "code",
        "colab": {}
      },
      "source": [
        "# random_pred=base_model.predict(xtest_scaled)\n",
        "# mean_absolute_error(random_pred,ytest)"
      ],
      "execution_count": 0,
      "outputs": []
    },
    {
      "cell_type": "code",
      "metadata": {
        "id": "UlOfzjOz7yDh",
        "colab_type": "code",
        "colab": {}
      },
      "source": [
        ""
      ],
      "execution_count": 0,
      "outputs": []
    },
    {
      "cell_type": "code",
      "metadata": {
        "id": "U6CdUbOORgxx",
        "colab_type": "code",
        "colab": {}
      },
      "source": [
        ""
      ],
      "execution_count": 0,
      "outputs": []
    },
    {
      "cell_type": "code",
      "metadata": {
        "id": "UMl02lqm7x9u",
        "colab_type": "code",
        "colab": {}
      },
      "source": [
        "# param_grid ={\n",
        "#     'bootstrap': [True],\n",
        "#     'max_depth': [ 90, 100, 110,120],\n",
        "#     'max_features': [2, 3,4],\n",
        "#     'min_samples_leaf': [3, 4, 5],\n",
        "#     'min_samples_split': [8, 10, 12],\n",
        "#     'n_estimators': [600, 700, 800, 1000]\n",
        "# }\n",
        "# # Create a based model\n",
        "# rf = RandomForestRegressor()\n",
        "# # Instantiate the grid search model\n",
        "# grid_search = GridSearchCV(estimator = rf, param_grid = param_grid, \n",
        "#                           cv = 3, n_jobs = -1, verbose = 2)"
      ],
      "execution_count": 0,
      "outputs": []
    },
    {
      "cell_type": "code",
      "metadata": {
        "id": "Vnwjc182WsCj",
        "colab_type": "code",
        "colab": {}
      },
      "source": [
        "# grid_search.fit(xtrain_scaled, ytrain)"
      ],
      "execution_count": 0,
      "outputs": []
    },
    {
      "cell_type": "code",
      "metadata": {
        "id": "0xcjDzw7XvW2",
        "colab_type": "code",
        "colab": {}
      },
      "source": [
        "# grid_search.best_params_"
      ],
      "execution_count": 0,
      "outputs": []
    },
    {
      "cell_type": "code",
      "metadata": {
        "id": "5JB6JQ1dxHpi",
        "colab_type": "code",
        "colab": {}
      },
      "source": [
        "# best_grid = grid_search.best_estimator_\n",
        "# grid_accuracy = evaluate(best_grid,xtest_scaled,ytest)"
      ],
      "execution_count": 0,
      "outputs": []
    },
    {
      "cell_type": "code",
      "metadata": {
        "id": "Nb_szBoCuEeh",
        "colab_type": "code",
        "colab": {}
      },
      "source": [
        "# random_pred2=grid_search.predict(xtest_scaled)\n",
        "# mean_absolute_error(random_pred2,ytest)"
      ],
      "execution_count": 0,
      "outputs": []
    },
    {
      "cell_type": "code",
      "metadata": {
        "id": "J9d3WbhSuEAG",
        "colab_type": "code",
        "colab": {}
      },
      "source": [
        "# param_grid ={\n",
        "#     'bootstrap': [True],\n",
        "#     'max_depth': [120,130,140,150],\n",
        "#     'max_features': [4,5,6,7],\n",
        "#     'min_samples_leaf': [5,6,7,8],\n",
        "#     'min_samples_split': [12,14,16,18],\n",
        "#     'n_estimators': [800,900,1000]\n",
        "# }\n",
        "# # Create a based model\n",
        "# rf = RandomForestRegressor()\n",
        "# # Instantiate the grid search model\n",
        "# grid_search2 = GridSearchCV(estimator = rf, param_grid = param_grid, \n",
        "#                           cv = 3, n_jobs = -1, verbose = 2)"
      ],
      "execution_count": 0,
      "outputs": []
    },
    {
      "cell_type": "code",
      "metadata": {
        "id": "sUs3Yuz0uDpd",
        "colab_type": "code",
        "colab": {}
      },
      "source": [
        "# grid_search2.fit(xtrain_scaled, ytrain)"
      ],
      "execution_count": 0,
      "outputs": []
    },
    {
      "cell_type": "code",
      "metadata": {
        "id": "GzLeHZyRyd8o",
        "colab_type": "code",
        "colab": {}
      },
      "source": [
        "#  grid_search2.best_params_"
      ],
      "execution_count": 0,
      "outputs": []
    },
    {
      "cell_type": "code",
      "metadata": {
        "id": "6YVlmJQpYiOy",
        "colab_type": "code",
        "colab": {}
      },
      "source": [
        ""
      ],
      "execution_count": 0,
      "outputs": []
    },
    {
      "cell_type": "code",
      "metadata": {
        "id": "q3cXrrFLyiK9",
        "colab_type": "code",
        "colab": {}
      },
      "source": [
        "# best_grid = grid_search2.best_estimator_\n",
        "# grid_accuracy = evaluate(best_grid,xtest_scaled,ytest)"
      ],
      "execution_count": 0,
      "outputs": []
    },
    {
      "cell_type": "code",
      "metadata": {
        "id": "xD_H5q8ixnTZ",
        "colab_type": "code",
        "colab": {}
      },
      "source": [
        "# random_pred3=grid_search2.predict(xtest_scaled)\n",
        "# mean_absolute_error(random_pred3,ytest)"
      ],
      "execution_count": 0,
      "outputs": []
    },
    {
      "cell_type": "code",
      "metadata": {
        "id": "4---0sjHAhvK",
        "colab_type": "code",
        "colab": {}
      },
      "source": [
        ""
      ],
      "execution_count": 0,
      "outputs": []
    },
    {
      "cell_type": "code",
      "metadata": {
        "id": "LYy6fc-IAhdL",
        "colab_type": "code",
        "colab": {}
      },
      "source": [
        "# param_grid ={\n",
        "#     'bootstrap': [True],\n",
        "#     'max_depth': [150,160,170],\n",
        "#     'max_features': [6,7],\n",
        "#     'min_samples_leaf': [8,9,10],\n",
        "#     'min_samples_split': [16,18],\n",
        "#     'n_estimators': [1000,1100]\n",
        "# }\n",
        "# # Create a based model\n",
        "# rf = RandomForestRegressor()\n",
        "# # Instantiate the grid search model\n",
        "# grid_search3= GridSearchCV(estimator = rf, param_grid = param_grid, \n",
        "#                           cv = 3, n_jobs = -1, verbose = 2)"
      ],
      "execution_count": 0,
      "outputs": []
    },
    {
      "cell_type": "code",
      "metadata": {
        "id": "TvgIbuRVA6ae",
        "colab_type": "code",
        "colab": {}
      },
      "source": [
        "# grid_search3.fit(xtrain_scaled, ytrain)"
      ],
      "execution_count": 0,
      "outputs": []
    },
    {
      "cell_type": "code",
      "metadata": {
        "id": "O4BXIVBJBJuc",
        "colab_type": "code",
        "colab": {}
      },
      "source": [
        "#  grid_search3.best_params_"
      ],
      "execution_count": 0,
      "outputs": []
    },
    {
      "cell_type": "code",
      "metadata": {
        "id": "q7r7vgYRBNvH",
        "colab_type": "code",
        "colab": {}
      },
      "source": [
        "# best_grid = grid_search3.best_estimator_\n",
        "# grid_accuracy = evaluate(best_grid,xtest_scaled,ytest)"
      ],
      "execution_count": 0,
      "outputs": []
    },
    {
      "cell_type": "code",
      "metadata": {
        "id": "eDBwKBsjBTe-",
        "colab_type": "code",
        "colab": {}
      },
      "source": [
        "# random_pred3=grid_search3.predict(xtest_scaled)\n",
        "# mean_absolute_error(random_pred3,ytest)"
      ],
      "execution_count": 0,
      "outputs": []
    },
    {
      "cell_type": "code",
      "metadata": {
        "id": "fKJjR9fTFieo",
        "colab_type": "code",
        "colab": {}
      },
      "source": [
        "param_grid ={\n",
        "    'bootstrap': [True],\n",
        "    'max_depth': [160],           #'max_depth': [160,170],\n",
        "    'max_features': [6],          #'max_features': [6,7],\n",
        "    'min_samples_leaf': [11],     #'min_samples_leaf': [10,11],\n",
        "    'min_samples_split': [18],    #'min_samples_split': [18],\n",
        "    'n_estimators': [1200]   #'n_estimators': [1100,1200]\n",
        "}\n",
        "# Create a based model\n",
        "rf = RandomForestRegressor()\n",
        "# Instantiate the grid search model\n",
        "grid_search4= GridSearchCV(estimator = rf, param_grid = param_grid, \n",
        "                          cv = 3, n_jobs = -1, verbose = 2)"
      ],
      "execution_count": 0,
      "outputs": []
    },
    {
      "cell_type": "code",
      "metadata": {
        "id": "x3LJ1BjESDQU",
        "colab_type": "code",
        "colab": {}
      },
      "source": [
        ""
      ],
      "execution_count": 0,
      "outputs": []
    },
    {
      "cell_type": "code",
      "metadata": {
        "id": "4uGYXrzXS-A1",
        "colab_type": "code",
        "colab": {}
      },
      "source": [
        ""
      ],
      "execution_count": 0,
      "outputs": []
    },
    {
      "cell_type": "code",
      "metadata": {
        "id": "3klv9V61FyK5",
        "colab_type": "code",
        "outputId": "c725cfeb-028d-4016-fc00-186fea35e79c",
        "colab": {
          "base_uri": "https://localhost:8080/",
          "height": 391
        }
      },
      "source": [
        "grid_search4.fit(xtrain_scaled, ytrain)"
      ],
      "execution_count": 0,
      "outputs": [
        {
          "output_type": "stream",
          "text": [
            "Fitting 3 folds for each of 1 candidates, totalling 3 fits\n"
          ],
          "name": "stdout"
        },
        {
          "output_type": "stream",
          "text": [
            "[Parallel(n_jobs=-1)]: Using backend LokyBackend with 2 concurrent workers.\n",
            "[Parallel(n_jobs=-1)]: Done   3 out of   3 | elapsed:   20.3s finished\n"
          ],
          "name": "stderr"
        },
        {
          "output_type": "execute_result",
          "data": {
            "text/plain": [
              "GridSearchCV(cv=3, error_score='raise-deprecating',\n",
              "             estimator=RandomForestRegressor(bootstrap=True, criterion='mse',\n",
              "                                             max_depth=None,\n",
              "                                             max_features='auto',\n",
              "                                             max_leaf_nodes=None,\n",
              "                                             min_impurity_decrease=0.0,\n",
              "                                             min_impurity_split=None,\n",
              "                                             min_samples_leaf=1,\n",
              "                                             min_samples_split=2,\n",
              "                                             min_weight_fraction_leaf=0.0,\n",
              "                                             n_estimators='warn', n_jobs=None,\n",
              "                                             oob_score=False, random_state=None,\n",
              "                                             verbose=0, warm_start=False),\n",
              "             iid='warn', n_jobs=-1,\n",
              "             param_grid={'bootstrap': [True], 'max_depth': [160],\n",
              "                         'max_features': [6], 'min_samples_leaf': [11],\n",
              "                         'min_samples_split': [18], 'n_estimators': [1200]},\n",
              "             pre_dispatch='2*n_jobs', refit=True, return_train_score=False,\n",
              "             scoring=None, verbose=2)"
            ]
          },
          "metadata": {
            "tags": []
          },
          "execution_count": 135
        }
      ]
    },
    {
      "cell_type": "code",
      "metadata": {
        "id": "TObAIudFF2tZ",
        "colab_type": "code",
        "outputId": "306803ab-a19a-4010-a87d-ee1fa8d62288",
        "colab": {
          "base_uri": "https://localhost:8080/",
          "height": 119
        }
      },
      "source": [
        " grid_search4.best_params_"
      ],
      "execution_count": 0,
      "outputs": [
        {
          "output_type": "execute_result",
          "data": {
            "text/plain": [
              "{'bootstrap': True,\n",
              " 'max_depth': 160,\n",
              " 'max_features': 6,\n",
              " 'min_samples_leaf': 11,\n",
              " 'min_samples_split': 18,\n",
              " 'n_estimators': 1200}"
            ]
          },
          "metadata": {
            "tags": []
          },
          "execution_count": 136
        }
      ]
    },
    {
      "cell_type": "code",
      "metadata": {
        "id": "nrHN0j2AF9yH",
        "colab_type": "code",
        "outputId": "30ff3ec4-2150-4433-9ff1-b66931c87d52",
        "colab": {
          "base_uri": "https://localhost:8080/",
          "height": 68
        }
      },
      "source": [
        "best_grid = grid_search4.best_estimator_\n",
        "grid_accuracy = evaluate(best_grid,xtest_scaled,ytest)     #{{'bootstrap': True,'max_depth': 160,'max_features': 6,'min_samples_leaf': 11,'min_samples_split': 18,'n_estimators': 1200}}"
      ],
      "execution_count": 0,
      "outputs": [
        {
          "output_type": "stream",
          "text": [
            "Model Performance\n",
            "Average Error: 129.0797 degrees.\n",
            "Accuracy = 96.52%.\n"
          ],
          "name": "stdout"
        }
      ]
    },
    {
      "cell_type": "code",
      "metadata": {
        "id": "DrSv5S24gGDL",
        "colab_type": "code",
        "colab": {}
      },
      "source": [
        "R_F_Pred=grid_search4.predict(xtest_scaled)"
      ],
      "execution_count": 0,
      "outputs": []
    },
    {
      "cell_type": "code",
      "metadata": {
        "id": "IEg7QhAemaOH",
        "colab_type": "code",
        "outputId": "e82fa9bc-80f1-41a9-8972-8ed3b46d3426",
        "colab": {
          "base_uri": "https://localhost:8080/",
          "height": 34
        }
      },
      "source": [
        "mean_absolute_error(R_F_Pred,ytest)"
      ],
      "execution_count": 0,
      "outputs": [
        {
          "output_type": "execute_result",
          "data": {
            "text/plain": [
              "129.07970173387147"
            ]
          },
          "metadata": {
            "tags": []
          },
          "execution_count": 139
        }
      ]
    },
    {
      "cell_type": "code",
      "metadata": {
        "id": "14pBVQsxSJl1",
        "colab_type": "code",
        "outputId": "d8356998-e177-4350-d030-6c934ead03a0",
        "colab": {
          "base_uri": "https://localhost:8080/",
          "height": 272
        }
      },
      "source": [
        "from sklearn.model_selection import KFold \n",
        "  \n",
        "kf = KFold(n_splits=5,  random_state=None) \n",
        "RF_lvl1_train=[]\n",
        "RF_lvl1_y=[]\n",
        "for train_index, test_index in kf.split(xtrain_scaled):\n",
        "#       print(\"Train:\", train_index, \"Validation:\",test_index)\n",
        "    X_train, X_test = xtrain_scaled[train_index], xtrain_scaled[test_index] \n",
        "    y_train, y_test = ytrain[train_index], ytrain[test_index]\n",
        "    grid_search4.fit(X_train, y_train) \n",
        "    RF_lvl1_train.extend(grid_search4.predict(X_test))\n",
        "    RF_lvl1_y.extend(y_test)"
      ],
      "execution_count": 0,
      "outputs": [
        {
          "output_type": "stream",
          "text": [
            "Fitting 3 folds for each of 1 candidates, totalling 3 fits\n"
          ],
          "name": "stdout"
        },
        {
          "output_type": "stream",
          "text": [
            "[Parallel(n_jobs=-1)]: Using backend LokyBackend with 2 concurrent workers.\n",
            "[Parallel(n_jobs=-1)]: Done   3 out of   3 | elapsed:   14.5s finished\n"
          ],
          "name": "stderr"
        },
        {
          "output_type": "stream",
          "text": [
            "Fitting 3 folds for each of 1 candidates, totalling 3 fits\n"
          ],
          "name": "stdout"
        },
        {
          "output_type": "stream",
          "text": [
            "[Parallel(n_jobs=-1)]: Using backend LokyBackend with 2 concurrent workers.\n",
            "[Parallel(n_jobs=-1)]: Done   3 out of   3 | elapsed:   14.4s finished\n"
          ],
          "name": "stderr"
        },
        {
          "output_type": "stream",
          "text": [
            "Fitting 3 folds for each of 1 candidates, totalling 3 fits\n"
          ],
          "name": "stdout"
        },
        {
          "output_type": "stream",
          "text": [
            "[Parallel(n_jobs=-1)]: Using backend LokyBackend with 2 concurrent workers.\n",
            "[Parallel(n_jobs=-1)]: Done   3 out of   3 | elapsed:   14.5s finished\n"
          ],
          "name": "stderr"
        },
        {
          "output_type": "stream",
          "text": [
            "Fitting 3 folds for each of 1 candidates, totalling 3 fits\n"
          ],
          "name": "stdout"
        },
        {
          "output_type": "stream",
          "text": [
            "[Parallel(n_jobs=-1)]: Using backend LokyBackend with 2 concurrent workers.\n",
            "[Parallel(n_jobs=-1)]: Done   3 out of   3 | elapsed:   14.4s finished\n"
          ],
          "name": "stderr"
        },
        {
          "output_type": "stream",
          "text": [
            "Fitting 3 folds for each of 1 candidates, totalling 3 fits\n"
          ],
          "name": "stdout"
        },
        {
          "output_type": "stream",
          "text": [
            "[Parallel(n_jobs=-1)]: Using backend LokyBackend with 2 concurrent workers.\n",
            "[Parallel(n_jobs=-1)]: Done   3 out of   3 | elapsed:   14.6s finished\n"
          ],
          "name": "stderr"
        }
      ]
    },
    {
      "cell_type": "code",
      "metadata": {
        "id": "xRJ8XiEUSC8j",
        "colab_type": "code",
        "outputId": "25717927-0172-4ade-f359-3515b8b7162b",
        "colab": {
          "base_uri": "https://localhost:8080/",
          "height": 272
        }
      },
      "source": [
        "RF_lvl1_y[2000:2015]\n"
      ],
      "execution_count": 0,
      "outputs": [
        {
          "output_type": "execute_result",
          "data": {
            "text/plain": [
              "[1209.7586,\n",
              " 3878.285,\n",
              " 2693.8268,\n",
              " 649.155,\n",
              " 4777.7808,\n",
              " 1416.8224,\n",
              " 2422.1804,\n",
              " 2914.8724,\n",
              " 2380.9008,\n",
              " 1556.6404,\n",
              " 689.1030000000001,\n",
              " 373.5138,\n",
              " 539.298,\n",
              " 1612.5676,\n",
              " 559.2719999999999]"
            ]
          },
          "metadata": {
            "tags": []
          },
          "execution_count": 141
        }
      ]
    },
    {
      "cell_type": "code",
      "metadata": {
        "id": "IwzM1iWDVHiY",
        "colab_type": "code",
        "outputId": "037e610b-973c-4957-940a-6159410b82b2",
        "colab": {
          "base_uri": "https://localhost:8080/",
          "height": 272
        }
      },
      "source": [
        "RF_lvl1_train[2000:2015]"
      ],
      "execution_count": 0,
      "outputs": [
        {
          "output_type": "execute_result",
          "data": {
            "text/plain": [
              "[933.1146657621705,\n",
              " 2341.8616433778498,\n",
              " 3270.8102974567532,\n",
              " 777.9198565201335,\n",
              " 3167.2478210283275,\n",
              " 1344.3011433148802,\n",
              " 2081.337199830669,\n",
              " 3625.921542628371,\n",
              " 2566.7293239475985,\n",
              " 5668.770728144087,\n",
              " 524.4001286682984,\n",
              " 707.7014691063232,\n",
              " 1415.3896701140416,\n",
              " 1550.6562703836855,\n",
              " 304.90607574334337]"
            ]
          },
          "metadata": {
            "tags": []
          },
          "execution_count": 142
        }
      ]
    },
    {
      "cell_type": "markdown",
      "metadata": {
        "id": "OnzCa3bIgdnV",
        "colab_type": "text"
      },
      "source": [
        "Neural network_1"
      ]
    },
    {
      "cell_type": "code",
      "metadata": {
        "id": "niVYYiQYNe36",
        "colab_type": "code",
        "outputId": "d2cf57f9-f03d-433d-b8b4-fa3a31de6eb8",
        "colab": {
          "base_uri": "https://localhost:8080/",
          "height": 34
        }
      },
      "source": [
        "import tensorflow as tf\n",
        "from tensorflow import keras\n",
        "from keras import Sequential\n",
        "from keras.layers import Dense\n",
        "from keras.callbacks import ModelCheckpoint"
      ],
      "execution_count": 0,
      "outputs": [
        {
          "output_type": "stream",
          "text": [
            "Using TensorFlow backend.\n"
          ],
          "name": "stderr"
        }
      ]
    },
    {
      "cell_type": "code",
      "metadata": {
        "id": "gRaLlPSDLZxN",
        "colab_type": "code",
        "outputId": "58c7f4d1-b909-4dcc-b906-ac595bfff03d",
        "colab": {
          "base_uri": "https://localhost:8080/",
          "height": 411
        }
      },
      "source": [
        "NN_model = Sequential()\n",
        "\n",
        "# The Input Layer :\n",
        "NN_model.add(Dense(40, kernel_initializer='normal',input_dim = xtrain_scaled.shape[1], activation='relu'))\n",
        "\n",
        "# The Hidden Layers :\n",
        "# NN_model.add(Dense(128, kernel_initializer='normal',activation='relu'))\n",
        "# NN_model.add(Dense(128, kernel_initializer='normal',activation='relu'))\n",
        "NN_model.add(Dense(50, kernel_initializer='normal',activation='relu'))\n",
        "\n",
        "# The Output Layer :\n",
        "NN_model.add(Dense(1, kernel_initializer='normal'))\n",
        "\n",
        "# Compile the network :\n",
        "NN_model.compile(loss='mean_absolute_error', optimizer='adam', metrics=['mean_absolute_error'])\n",
        "NN_model.summary()"
      ],
      "execution_count": 0,
      "outputs": [
        {
          "output_type": "stream",
          "text": [
            "WARNING: Logging before flag parsing goes to stderr.\n",
            "W0814 12:40:00.967273 140019223455616 deprecation_wrapper.py:119] From /usr/local/lib/python3.6/dist-packages/keras/backend/tensorflow_backend.py:74: The name tf.get_default_graph is deprecated. Please use tf.compat.v1.get_default_graph instead.\n",
            "\n",
            "W0814 12:40:01.022427 140019223455616 deprecation_wrapper.py:119] From /usr/local/lib/python3.6/dist-packages/keras/backend/tensorflow_backend.py:517: The name tf.placeholder is deprecated. Please use tf.compat.v1.placeholder instead.\n",
            "\n",
            "W0814 12:40:01.033769 140019223455616 deprecation_wrapper.py:119] From /usr/local/lib/python3.6/dist-packages/keras/backend/tensorflow_backend.py:4115: The name tf.random_normal is deprecated. Please use tf.random.normal instead.\n",
            "\n",
            "W0814 12:40:01.097375 140019223455616 deprecation_wrapper.py:119] From /usr/local/lib/python3.6/dist-packages/keras/optimizers.py:790: The name tf.train.Optimizer is deprecated. Please use tf.compat.v1.train.Optimizer instead.\n",
            "\n"
          ],
          "name": "stderr"
        },
        {
          "output_type": "stream",
          "text": [
            "_________________________________________________________________\n",
            "Layer (type)                 Output Shape              Param #   \n",
            "=================================================================\n",
            "dense_1 (Dense)              (None, 40)                800       \n",
            "_________________________________________________________________\n",
            "dense_2 (Dense)              (None, 50)                2050      \n",
            "_________________________________________________________________\n",
            "dense_3 (Dense)              (None, 1)                 51        \n",
            "=================================================================\n",
            "Total params: 2,901\n",
            "Trainable params: 2,901\n",
            "Non-trainable params: 0\n",
            "_________________________________________________________________\n"
          ],
          "name": "stdout"
        }
      ]
    },
    {
      "cell_type": "code",
      "metadata": {
        "id": "y1qJ89-zM2c1",
        "colab_type": "code",
        "colab": {}
      },
      "source": [
        "checkpoint_name = 'Weights-{epoch:03d}--{val_loss:.5f}.hdf5' \n",
        "checkpoint = ModelCheckpoint(checkpoint_name, monitor='val_loss', verbose = 1, save_best_only = True, mode ='auto')\n",
        "callbacks_list = [checkpoint]"
      ],
      "execution_count": 0,
      "outputs": []
    },
    {
      "cell_type": "code",
      "metadata": {
        "id": "LARsX1HiM-bv",
        "colab_type": "code",
        "colab": {}
      },
      "source": [
        "NN_model.fit(xtrain_scaled, ytrain, epochs=100, batch_size=50, validation_split = 0.1, callbacks=callbacks_list)\n"
      ],
      "execution_count": 0,
      "outputs": []
    },
    {
      "cell_type": "code",
      "metadata": {
        "id": "xOzC_HBUNFtj",
        "colab_type": "code",
        "colab": {}
      },
      "source": [
        "wights_file ='/content/Weights-045--770.36557.hdf5' # choose the best checkpoint \n",
        "NN_model.load_weights(wights_file) # load it\n",
        "NN_model.compile(loss='mean_absolute_error', optimizer='adam', metrics=['mean_absolute_error'])"
      ],
      "execution_count": 0,
      "outputs": []
    },
    {
      "cell_type": "code",
      "metadata": {
        "id": "Gil3WWG8da2u",
        "colab_type": "code",
        "colab": {}
      },
      "source": [
        "prediction_nn=NN_model.predict(xtest_scaled)"
      ],
      "execution_count": 0,
      "outputs": []
    },
    {
      "cell_type": "code",
      "metadata": {
        "id": "5Z-cNvhwb7uH",
        "colab_type": "code",
        "colab": {}
      },
      "source": [
        "prediction_nn=prediction_nn.reshape((5681,))"
      ],
      "execution_count": 0,
      "outputs": []
    },
    {
      "cell_type": "code",
      "metadata": {
        "id": "dxb3N6b6daaR",
        "colab_type": "code",
        "outputId": "cde939c6-eba0-415a-d2e7-fbed3d0e53b9",
        "colab": {
          "base_uri": "https://localhost:8080/",
          "height": 34
        }
      },
      "source": [
        "mean_absolute_error(ytest,prediction_nn)"
      ],
      "execution_count": 0,
      "outputs": [
        {
          "output_type": "execute_result",
          "data": {
            "text/plain": [
              "140.61889527863343"
            ]
          },
          "metadata": {
            "tags": []
          },
          "execution_count": 175
        }
      ]
    },
    {
      "cell_type": "code",
      "metadata": {
        "id": "Ghhz8RERSFdk",
        "colab_type": "code",
        "outputId": "a06360a1-049b-4c83-cbbd-48df395495f2",
        "colab": {
          "base_uri": "https://localhost:8080/",
          "height": 187
        }
      },
      "source": [
        "from sklearn.model_selection import KFold \n",
        "  \n",
        "kf = KFold(n_splits=5,  random_state=None) \n",
        "nn_lvl1_train=[]\n",
        "nn_lvl1_y=[]\n",
        "for train_index, test_index in kf.split(xtrain_scaled):\n",
        "#       print(\"Train:\", train_index, \"Validation:\",test_index)\n",
        "    X_train, X_test = xtrain_scaled[train_index], xtrain_scaled[test_index] \n",
        "    y_train, y_test = ytrain[train_index], ytrain[test_index]\n",
        "    NN_model.fit(X_train, y_train) \n",
        "    nn_lvl1_train.extend(NN_model.predict(X_test))\n",
        "    nn_lvl1_y.extend(y_test)"
      ],
      "execution_count": 0,
      "outputs": [
        {
          "output_type": "stream",
          "text": [
            "Epoch 1/1\n",
            "6818/6818 [==============================] - 1s 156us/step - loss: 741.9562 - mean_absolute_error: 741.9562\n",
            "Epoch 1/1\n",
            "6818/6818 [==============================] - 1s 124us/step - loss: 747.8154 - mean_absolute_error: 747.8154\n",
            "Epoch 1/1\n",
            "6818/6818 [==============================] - 1s 127us/step - loss: 745.6511 - mean_absolute_error: 745.6511\n",
            "Epoch 1/1\n",
            "6819/6819 [==============================] - 1s 130us/step - loss: 749.7529 - mean_absolute_error: 749.7529\n",
            "Epoch 1/1\n",
            "6819/6819 [==============================] - 1s 126us/step - loss: 746.0914 - mean_absolute_error: 746.0914\n"
          ],
          "name": "stdout"
        }
      ]
    },
    {
      "cell_type": "code",
      "metadata": {
        "id": "NmmzHXphTE8D",
        "colab_type": "code",
        "outputId": "72724fb5-6c62-4fa1-c5e8-aa471e3659c7",
        "colab": {
          "base_uri": "https://localhost:8080/",
          "height": 34
        }
      },
      "source": [
        "len(nn_lvl1_train)"
      ],
      "execution_count": 0,
      "outputs": [
        {
          "output_type": "execute_result",
          "data": {
            "text/plain": [
              "8523"
            ]
          },
          "metadata": {
            "tags": []
          },
          "execution_count": 177
        }
      ]
    },
    {
      "cell_type": "code",
      "metadata": {
        "id": "V7lE462BTEnv",
        "colab_type": "code",
        "outputId": "843c574b-0e9c-49c5-9e09-77d476646eaa",
        "colab": {
          "base_uri": "https://localhost:8080/",
          "height": 34
        }
      },
      "source": [
        "len(nn_lvl1_y)"
      ],
      "execution_count": 0,
      "outputs": [
        {
          "output_type": "execute_result",
          "data": {
            "text/plain": [
              "8523"
            ]
          },
          "metadata": {
            "tags": []
          },
          "execution_count": 178
        }
      ]
    },
    {
      "cell_type": "code",
      "metadata": {
        "id": "mXCP6dI7TEZo",
        "colab_type": "code",
        "colab": {}
      },
      "source": [
        ""
      ],
      "execution_count": 0,
      "outputs": []
    },
    {
      "cell_type": "markdown",
      "metadata": {
        "id": "eTgSUWvsgyFk",
        "colab_type": "text"
      },
      "source": [
        "Neural_network_2"
      ]
    },
    {
      "cell_type": "code",
      "metadata": {
        "id": "34ATT69Kgxkq",
        "colab_type": "code",
        "colab": {}
      },
      "source": [
        ""
      ],
      "execution_count": 0,
      "outputs": []
    },
    {
      "cell_type": "code",
      "metadata": {
        "id": "JwtBhHSFXKAs",
        "colab_type": "code",
        "outputId": "b23d4d3b-e738-4a2d-bcb2-a47bf733dc02",
        "colab": {
          "base_uri": "https://localhost:8080/",
          "height": 1000
        }
      },
      "source": [
        "\n",
        "#build our model\n",
        "model_nn = Sequential()\n",
        "\n",
        "model_nn.add(Dense(40, activation='relu'))\n",
        "model_nn.add(Dense(50, activation='relu'))\n",
        "# model.add(Dense(50, activation='relu'))\n",
        "model_nn.add(Dense(1))\n",
        "\n",
        "model_nn.compile(loss='mean_squared_error', optimizer='adam',metrics=['accuracy'])\n",
        "\n",
        "\n",
        "\n",
        "\n",
        "\n",
        "\n",
        "hist=model_nn.fit(\n",
        "    xtrain_scaled,\n",
        "    ytrain.values,\n",
        "    batch_size=50,\n",
        "    epochs=60,\n",
        "    shuffle=True,\n",
        "    verbose=2,\n",
        "    \n",
        "    \n",
        ")\n",
        "ynn=model_nn.predict(xtest_scaled)\n",
        "mean_absolute_error(ynn,ytest)\n"
      ],
      "execution_count": 0,
      "outputs": [
        {
          "output_type": "stream",
          "text": [
            "Epoch 1/60\n",
            " - 1s - loss: 7534557.8669 - acc: 0.0000e+00\n",
            "Epoch 2/60\n",
            " - 1s - loss: 5857459.3116 - acc: 0.0000e+00\n",
            "Epoch 3/60\n",
            " - 1s - loss: 2650256.1349 - acc: 0.0000e+00\n",
            "Epoch 4/60\n",
            " - 1s - loss: 1489978.8593 - acc: 0.0000e+00\n",
            "Epoch 5/60\n",
            " - 1s - loss: 1323390.8377 - acc: 0.0000e+00\n",
            "Epoch 6/60\n",
            " - 1s - loss: 1256347.6535 - acc: 0.0000e+00\n",
            "Epoch 7/60\n",
            " - 1s - loss: 1218389.0314 - acc: 0.0000e+00\n",
            "Epoch 8/60\n",
            " - 1s - loss: 1197479.0972 - acc: 0.0000e+00\n",
            "Epoch 9/60\n",
            " - 1s - loss: 1186406.1218 - acc: 0.0000e+00\n",
            "Epoch 10/60\n",
            " - 1s - loss: 1179133.6510 - acc: 0.0000e+00\n",
            "Epoch 11/60\n",
            " - 1s - loss: 1176046.1149 - acc: 0.0000e+00\n",
            "Epoch 12/60\n",
            " - 1s - loss: 1172242.0221 - acc: 0.0000e+00\n",
            "Epoch 13/60\n",
            " - 1s - loss: 1170012.1557 - acc: 0.0000e+00\n",
            "Epoch 14/60\n",
            " - 1s - loss: 1167012.8527 - acc: 0.0000e+00\n",
            "Epoch 15/60\n",
            " - 1s - loss: 1165527.6012 - acc: 0.0000e+00\n",
            "Epoch 16/60\n",
            " - 1s - loss: 1163835.4751 - acc: 0.0000e+00\n",
            "Epoch 17/60\n",
            " - 1s - loss: 1162941.9293 - acc: 0.0000e+00\n",
            "Epoch 18/60\n",
            " - 1s - loss: 1161139.9325 - acc: 0.0000e+00\n",
            "Epoch 19/60\n",
            " - 1s - loss: 1160319.2545 - acc: 0.0000e+00\n",
            "Epoch 20/60\n",
            " - 1s - loss: 1159190.3856 - acc: 0.0000e+00\n",
            "Epoch 21/60\n",
            " - 1s - loss: 1157809.8056 - acc: 0.0000e+00\n",
            "Epoch 22/60\n",
            " - 1s - loss: 1157170.8633 - acc: 0.0000e+00\n",
            "Epoch 23/60\n",
            " - 1s - loss: 1155945.3891 - acc: 0.0000e+00\n",
            "Epoch 24/60\n",
            " - 1s - loss: 1155112.4682 - acc: 0.0000e+00\n",
            "Epoch 25/60\n",
            " - 1s - loss: 1154759.2773 - acc: 0.0000e+00\n",
            "Epoch 26/60\n",
            " - 1s - loss: 1153317.6534 - acc: 0.0000e+00\n",
            "Epoch 27/60\n",
            " - 1s - loss: 1152850.2670 - acc: 0.0000e+00\n",
            "Epoch 28/60\n",
            " - 1s - loss: 1152501.8517 - acc: 0.0000e+00\n",
            "Epoch 29/60\n",
            " - 1s - loss: 1151998.0207 - acc: 0.0000e+00\n",
            "Epoch 30/60\n",
            " - 1s - loss: 1151303.5859 - acc: 0.0000e+00\n",
            "Epoch 31/60\n",
            " - 1s - loss: 1150878.6527 - acc: 0.0000e+00\n",
            "Epoch 32/60\n",
            " - 1s - loss: 1151306.6999 - acc: 0.0000e+00\n",
            "Epoch 33/60\n",
            " - 1s - loss: 1149812.1800 - acc: 0.0000e+00\n",
            "Epoch 34/60\n",
            " - 1s - loss: 1150227.7119 - acc: 0.0000e+00\n",
            "Epoch 35/60\n",
            " - 1s - loss: 1148911.3775 - acc: 0.0000e+00\n",
            "Epoch 36/60\n",
            " - 1s - loss: 1149090.4853 - acc: 0.0000e+00\n",
            "Epoch 37/60\n",
            " - 1s - loss: 1149499.3622 - acc: 0.0000e+00\n",
            "Epoch 38/60\n",
            " - 1s - loss: 1148202.8005 - acc: 0.0000e+00\n",
            "Epoch 39/60\n",
            " - 1s - loss: 1147693.0393 - acc: 0.0000e+00\n",
            "Epoch 40/60\n",
            " - 1s - loss: 1148272.1133 - acc: 0.0000e+00\n",
            "Epoch 41/60\n",
            " - 1s - loss: 1147957.1517 - acc: 0.0000e+00\n",
            "Epoch 42/60\n",
            " - 1s - loss: 1147060.6224 - acc: 0.0000e+00\n",
            "Epoch 43/60\n",
            " - 1s - loss: 1146592.2276 - acc: 0.0000e+00\n",
            "Epoch 44/60\n",
            " - 1s - loss: 1146829.2342 - acc: 0.0000e+00\n",
            "Epoch 45/60\n",
            " - 1s - loss: 1146155.7834 - acc: 0.0000e+00\n",
            "Epoch 46/60\n",
            " - 1s - loss: 1145903.8064 - acc: 0.0000e+00\n",
            "Epoch 47/60\n",
            " - 1s - loss: 1145480.1047 - acc: 0.0000e+00\n",
            "Epoch 48/60\n",
            " - 1s - loss: 1146258.1887 - acc: 0.0000e+00\n",
            "Epoch 49/60\n",
            " - 1s - loss: 1145428.2774 - acc: 0.0000e+00\n",
            "Epoch 50/60\n",
            " - 1s - loss: 1145477.2695 - acc: 0.0000e+00\n",
            "Epoch 51/60\n",
            " - 1s - loss: 1145021.4237 - acc: 0.0000e+00\n",
            "Epoch 52/60\n",
            " - 1s - loss: 1144679.5927 - acc: 0.0000e+00\n",
            "Epoch 53/60\n",
            " - 1s - loss: 1145188.6396 - acc: 0.0000e+00\n",
            "Epoch 54/60\n",
            " - 1s - loss: 1144843.1191 - acc: 0.0000e+00\n",
            "Epoch 55/60\n",
            " - 1s - loss: 1144135.2364 - acc: 0.0000e+00\n",
            "Epoch 56/60\n",
            " - 1s - loss: 1144845.5743 - acc: 0.0000e+00\n",
            "Epoch 57/60\n",
            " - 1s - loss: 1143622.4005 - acc: 0.0000e+00\n",
            "Epoch 58/60\n",
            " - 1s - loss: 1143657.3083 - acc: 0.0000e+00\n",
            "Epoch 59/60\n",
            " - 1s - loss: 1143890.2621 - acc: 0.0000e+00\n",
            "Epoch 60/60\n",
            " - 1s - loss: 1143226.3658 - acc: 0.0000e+00\n"
          ],
          "name": "stdout"
        },
        {
          "output_type": "execute_result",
          "data": {
            "text/plain": [
              "121.93403362705031"
            ]
          },
          "metadata": {
            "tags": []
          },
          "execution_count": 179
        }
      ]
    },
    {
      "cell_type": "code",
      "metadata": {
        "id": "u56f8Xrebvnx",
        "colab_type": "code",
        "colab": {}
      },
      "source": [
        "ynn=ynn.reshape((5681,))"
      ],
      "execution_count": 0,
      "outputs": []
    },
    {
      "cell_type": "code",
      "metadata": {
        "id": "sMyBmnxQIvyb",
        "colab_type": "code",
        "outputId": "5de74acb-49a3-4d1b-f46f-cd534d8fa67f",
        "colab": {
          "base_uri": "https://localhost:8080/",
          "height": 187
        }
      },
      "source": [
        "from sklearn.model_selection import KFold \n",
        "  \n",
        "kf = KFold(n_splits=5,  random_state=None) \n",
        "nn2_lvl1_train=[]\n",
        "nn2_lvl1_y=[]\n",
        "for train_index, test_index in kf.split(xtrain_scaled):\n",
        "#       print(\"Train:\", train_index, \"Validation:\",test_index)\n",
        "    X_train, X_test = xtrain_scaled[train_index], xtrain_scaled[test_index] \n",
        "    y_train, y_test = ytrain[train_index], ytrain[test_index]\n",
        "    model_nn.fit(X_train, y_train) \n",
        "    nn2_lvl1_train.extend(model_nn.predict(X_test))\n",
        "    nn2_lvl1_y.extend(y_test)"
      ],
      "execution_count": 0,
      "outputs": [
        {
          "output_type": "stream",
          "text": [
            "Epoch 1/1\n",
            "6818/6818 [==============================] - 1s 127us/step - loss: 1138517.5580 - acc: 0.0000e+00\n",
            "Epoch 1/1\n",
            "6818/6818 [==============================] - 1s 127us/step - loss: 1146152.0359 - acc: 0.0000e+00\n",
            "Epoch 1/1\n",
            "6818/6818 [==============================] - 1s 125us/step - loss: 1149179.7863 - acc: 0.0000e+00\n",
            "Epoch 1/1\n",
            "6819/6819 [==============================] - 1s 126us/step - loss: 1146662.5626 - acc: 0.0000e+00\n",
            "Epoch 1/1\n",
            "6819/6819 [==============================] - 1s 126us/step - loss: 1140643.3540 - acc: 0.0000e+00\n"
          ],
          "name": "stdout"
        }
      ]
    },
    {
      "cell_type": "code",
      "metadata": {
        "id": "ouLQJa9AJOSJ",
        "colab_type": "code",
        "outputId": "4438c983-bc90-409e-92c1-b82c95446103",
        "colab": {
          "base_uri": "https://localhost:8080/",
          "height": 272
        }
      },
      "source": [
        "nn2_lvl1_y[:15]"
      ],
      "execution_count": 0,
      "outputs": [
        {
          "output_type": "execute_result",
          "data": {
            "text/plain": [
              "[3735.138,\n",
              " 443.4228,\n",
              " 2097.27,\n",
              " 732.38,\n",
              " 994.7052,\n",
              " 556.6088,\n",
              " 343.5528,\n",
              " 4022.7636,\n",
              " 1076.5986,\n",
              " 4710.535,\n",
              " 1516.0266,\n",
              " 2187.153,\n",
              " 1589.2646,\n",
              " 2145.2076,\n",
              " 1977.4260000000002]"
            ]
          },
          "metadata": {
            "tags": []
          },
          "execution_count": 182
        }
      ]
    },
    {
      "cell_type": "code",
      "metadata": {
        "id": "kfMLFnmPJYHd",
        "colab_type": "code",
        "outputId": "8bd93326-6dda-4caa-91c1-51db4c9bd1c1",
        "colab": {
          "base_uri": "https://localhost:8080/",
          "height": 272
        }
      },
      "source": [
        "nn2_lvl1_train[:15]"
      ],
      "execution_count": 0,
      "outputs": [
        {
          "output_type": "execute_result",
          "data": {
            "text/plain": [
              "[array([4293.0513], dtype=float32),\n",
              " array([576.8322], dtype=float32),\n",
              " array([2274.3455], dtype=float32),\n",
              " array([448.20178], dtype=float32),\n",
              " array([839.8883], dtype=float32),\n",
              " array([601.5244], dtype=float32),\n",
              " array([871.7489], dtype=float32),\n",
              " array([2946.704], dtype=float32),\n",
              " array([1494.0507], dtype=float32),\n",
              " array([3100.6992], dtype=float32),\n",
              " array([719.9122], dtype=float32),\n",
              " array([2316.6077], dtype=float32),\n",
              " array([2329.046], dtype=float32),\n",
              " array([1947.0352], dtype=float32),\n",
              " array([3268.1829], dtype=float32)]"
            ]
          },
          "metadata": {
            "tags": []
          },
          "execution_count": 183
        }
      ]
    },
    {
      "cell_type": "code",
      "metadata": {
        "id": "on9_JYejJXvk",
        "colab_type": "code",
        "colab": {}
      },
      "source": [
        ""
      ],
      "execution_count": 0,
      "outputs": []
    },
    {
      "cell_type": "markdown",
      "metadata": {
        "id": "Mrug5hi3lCF2",
        "colab_type": "text"
      },
      "source": [
        "#GBM model"
      ]
    },
    {
      "cell_type": "code",
      "metadata": {
        "id": "Hv6zR2dcv6kc",
        "colab_type": "code",
        "outputId": "6aa1181e-3292-4a43-ec59-5b9811e1d1e2",
        "colab": {
          "base_uri": "https://localhost:8080/",
          "height": 408
        }
      },
      "source": [
        "param_test1 = {'n_estimators':range(10,150,10)}\n",
        "gsearch1 = GridSearchCV(estimator = GradientBoostingRegressor(learning_rate=0.05, min_samples_split=500,min_samples_leaf=50,max_depth=8,max_features='sqrt',subsample=0.8,random_state=10), \n",
        "param_grid = param_test1,n_jobs=4,iid=False, cv=5)\n",
        "gsearch1.fit(xtrain_scaled,ytrain)"
      ],
      "execution_count": 0,
      "outputs": [
        {
          "output_type": "execute_result",
          "data": {
            "text/plain": [
              "GridSearchCV(cv=5, error_score='raise-deprecating',\n",
              "             estimator=GradientBoostingRegressor(alpha=0.9,\n",
              "                                                 criterion='friedman_mse',\n",
              "                                                 init=None, learning_rate=0.05,\n",
              "                                                 loss='ls', max_depth=8,\n",
              "                                                 max_features='sqrt',\n",
              "                                                 max_leaf_nodes=None,\n",
              "                                                 min_impurity_decrease=0.0,\n",
              "                                                 min_impurity_split=None,\n",
              "                                                 min_samples_leaf=50,\n",
              "                                                 min_samples_split=500,\n",
              "                                                 min_weight_fraction_leaf=0.0,\n",
              "                                                 n_estimators=100,\n",
              "                                                 n_iter_no_change=None,\n",
              "                                                 presort='auto',\n",
              "                                                 random_state=10, subsample=0.8,\n",
              "                                                 tol=0.0001,\n",
              "                                                 validation_fraction=0.1,\n",
              "                                                 verbose=0, warm_start=False),\n",
              "             iid=False, n_jobs=4,\n",
              "             param_grid={'n_estimators': range(10, 150, 10)},\n",
              "             pre_dispatch='2*n_jobs', refit=True, return_train_score=False,\n",
              "             scoring=None, verbose=0)"
            ]
          },
          "metadata": {
            "tags": []
          },
          "execution_count": 184
        }
      ]
    },
    {
      "cell_type": "code",
      "metadata": {
        "id": "lQp5FvMFUD5O",
        "colab_type": "code",
        "outputId": "b096d529-2ec7-4668-c058-d9128d4a961c",
        "colab": {
          "base_uri": "https://localhost:8080/",
          "height": 34
        }
      },
      "source": [
        "gsearch1.best_params_, gsearch1.best_score_"
      ],
      "execution_count": 0,
      "outputs": [
        {
          "output_type": "execute_result",
          "data": {
            "text/plain": [
              "({'n_estimators': 110}, 0.5968811798790237)"
            ]
          },
          "metadata": {
            "tags": []
          },
          "execution_count": 185
        }
      ]
    },
    {
      "cell_type": "code",
      "metadata": {
        "id": "95c6sh4mlBKW",
        "colab_type": "code",
        "outputId": "e8acb72f-13e2-4476-d355-d5d71fb70195",
        "colab": {
          "base_uri": "https://localhost:8080/",
          "height": 34
        }
      },
      "source": [
        "print(\"Residual sum of squares: %.2f\"\n",
        "              % np.mean((gsearch1.predict(xtest_scaled) - ytest) ** 2))"
      ],
      "execution_count": 0,
      "outputs": [
        {
          "output_type": "stream",
          "text": [
            "Residual sum of squares: 22328.15\n"
          ],
          "name": "stdout"
        }
      ]
    },
    {
      "cell_type": "code",
      "metadata": {
        "id": "vjn5hFBYT4pl",
        "colab_type": "code",
        "outputId": "3ddffb47-f2d6-4a17-bb73-3ac73e69bd69",
        "colab": {
          "base_uri": "https://localhost:8080/",
          "height": 425
        }
      },
      "source": [
        "param_test2 = {'max_depth':range(3,16,2), 'min_samples_split':range(10,1001,40)}\n",
        "gsearch2 = GridSearchCV(estimator = GradientBoostingRegressor(learning_rate=0.05, n_estimators=110, max_features='sqrt', subsample=0.8, random_state=10), \n",
        "param_grid = param_test2,n_jobs=4,iid=False, cv=5)\n",
        "gsearch2.fit(xtrain_scaled,ytrain)"
      ],
      "execution_count": 0,
      "outputs": [
        {
          "output_type": "execute_result",
          "data": {
            "text/plain": [
              "GridSearchCV(cv=5, error_score='raise-deprecating',\n",
              "             estimator=GradientBoostingRegressor(alpha=0.9,\n",
              "                                                 criterion='friedman_mse',\n",
              "                                                 init=None, learning_rate=0.05,\n",
              "                                                 loss='ls', max_depth=3,\n",
              "                                                 max_features='sqrt',\n",
              "                                                 max_leaf_nodes=None,\n",
              "                                                 min_impurity_decrease=0.0,\n",
              "                                                 min_impurity_split=None,\n",
              "                                                 min_samples_leaf=1,\n",
              "                                                 min_samples_split=2,\n",
              "                                                 min_weight_fraction_leaf=0.0,\n",
              "                                                 n_estimators=110,\n",
              "                                                 n_iter_no_change=None,\n",
              "                                                 presort='auto',\n",
              "                                                 random_state=10, subsample=0.8,\n",
              "                                                 tol=0.0001,\n",
              "                                                 validation_fraction=0.1,\n",
              "                                                 verbose=0, warm_start=False),\n",
              "             iid=False, n_jobs=4,\n",
              "             param_grid={'max_depth': range(3, 16, 2),\n",
              "                         'min_samples_split': range(10, 1001, 40)},\n",
              "             pre_dispatch='2*n_jobs', refit=True, return_train_score=False,\n",
              "             scoring=None, verbose=0)"
            ]
          },
          "metadata": {
            "tags": []
          },
          "execution_count": 187
        }
      ]
    },
    {
      "cell_type": "code",
      "metadata": {
        "id": "BwejGWTmsAts",
        "colab_type": "code",
        "outputId": "f4539b06-caef-482e-bcf0-db8842fc893f",
        "colab": {
          "base_uri": "https://localhost:8080/",
          "height": 34
        }
      },
      "source": [
        "gsearch2.best_params_, gsearch2.best_score_\n"
      ],
      "execution_count": 0,
      "outputs": [
        {
          "output_type": "execute_result",
          "data": {
            "text/plain": [
              "({'max_depth': 7, 'min_samples_split': 450}, 0.597089088836239)"
            ]
          },
          "metadata": {
            "tags": []
          },
          "execution_count": 188
        }
      ]
    },
    {
      "cell_type": "code",
      "metadata": {
        "id": "RLpqan8lsAj-",
        "colab_type": "code",
        "outputId": "9eb04a32-2a8a-4edc-c095-308f725014ad",
        "colab": {
          "base_uri": "https://localhost:8080/",
          "height": 34
        }
      },
      "source": [
        "print(\"Residual sum of squares: %.2f\"\n",
        "              % np.mean((gsearch2.predict(xtest_scaled) - ytest)**2))"
      ],
      "execution_count": 0,
      "outputs": [
        {
          "output_type": "stream",
          "text": [
            "Residual sum of squares: 22855.85\n"
          ],
          "name": "stdout"
        }
      ]
    },
    {
      "cell_type": "code",
      "metadata": {
        "id": "k0XeL7IFsXsi",
        "colab_type": "code",
        "outputId": "2d3fe84b-414e-4ee7-e945-12f9a94cf916",
        "colab": {
          "base_uri": "https://localhost:8080/",
          "height": 408
        }
      },
      "source": [
        "param_test3 = {'min_samples_leaf':range(10,71,10)}\n",
        "gsearch3 = GridSearchCV(estimator = GradientBoostingRegressor(learning_rate=0.05, min_samples_split=450, n_estimators=110,max_depth=7,max_features='sqrt', subsample=0.8, random_state=10), \n",
        "param_grid = param_test3,n_jobs=4,iid=False, cv=5)\n",
        "gsearch3.fit(xtrain_scaled,ytrain)"
      ],
      "execution_count": 0,
      "outputs": [
        {
          "output_type": "execute_result",
          "data": {
            "text/plain": [
              "GridSearchCV(cv=5, error_score='raise-deprecating',\n",
              "             estimator=GradientBoostingRegressor(alpha=0.9,\n",
              "                                                 criterion='friedman_mse',\n",
              "                                                 init=None, learning_rate=0.05,\n",
              "                                                 loss='ls', max_depth=7,\n",
              "                                                 max_features='sqrt',\n",
              "                                                 max_leaf_nodes=None,\n",
              "                                                 min_impurity_decrease=0.0,\n",
              "                                                 min_impurity_split=None,\n",
              "                                                 min_samples_leaf=1,\n",
              "                                                 min_samples_split=450,\n",
              "                                                 min_weight_fraction_leaf=0.0,\n",
              "                                                 n_estimators=110,\n",
              "                                                 n_iter_no_change=None,\n",
              "                                                 presort='auto',\n",
              "                                                 random_state=10, subsample=0.8,\n",
              "                                                 tol=0.0001,\n",
              "                                                 validation_fraction=0.1,\n",
              "                                                 verbose=0, warm_start=False),\n",
              "             iid=False, n_jobs=4,\n",
              "             param_grid={'min_samples_leaf': range(10, 71, 10)},\n",
              "             pre_dispatch='2*n_jobs', refit=True, return_train_score=False,\n",
              "             scoring=None, verbose=0)"
            ]
          },
          "metadata": {
            "tags": []
          },
          "execution_count": 190
        }
      ]
    },
    {
      "cell_type": "code",
      "metadata": {
        "id": "P9aYmpx4tgps",
        "colab_type": "code",
        "outputId": "fb4d0ac8-9c12-4d93-8900-528f784e930e",
        "colab": {
          "base_uri": "https://localhost:8080/",
          "height": 34
        }
      },
      "source": [
        "gsearch3.best_params_, gsearch3.best_score_"
      ],
      "execution_count": 0,
      "outputs": [
        {
          "output_type": "execute_result",
          "data": {
            "text/plain": [
              "({'min_samples_leaf': 40}, 0.5976561529061934)"
            ]
          },
          "metadata": {
            "tags": []
          },
          "execution_count": 191
        }
      ]
    },
    {
      "cell_type": "code",
      "metadata": {
        "id": "vtOesLtmtgXP",
        "colab_type": "code",
        "outputId": "3ec7fa6e-080c-4087-d1c4-9e2839ba9dc1",
        "colab": {
          "base_uri": "https://localhost:8080/",
          "height": 34
        }
      },
      "source": [
        "print(\"Residual sum of squares: %.2f\"\n",
        "              % np.mean((gsearch3.predict(xtest_scaled) - ytest) ** 2))"
      ],
      "execution_count": 0,
      "outputs": [
        {
          "output_type": "stream",
          "text": [
            "Residual sum of squares: 22286.11\n"
          ],
          "name": "stdout"
        }
      ]
    },
    {
      "cell_type": "code",
      "metadata": {
        "id": "fcHJAAzJsXl7",
        "colab_type": "code",
        "outputId": "70871086-9ecc-4fc6-d345-c5d195fab4a0",
        "colab": {
          "base_uri": "https://localhost:8080/",
          "height": 391
        }
      },
      "source": [
        "param_test4 = {'max_features':range(4,12,2)}\n",
        "gsearch4 = GridSearchCV(estimator = GradientBoostingRegressor(learning_rate=0.05, n_estimators=110,max_depth=5, min_samples_split=450, min_samples_leaf=40, subsample=0.8, random_state=10),\n",
        "param_grid = param_test4,n_jobs=4,iid=False, cv=5)\n",
        "gsearch4.fit(xtrain_scaled,ytrain)"
      ],
      "execution_count": 0,
      "outputs": [
        {
          "output_type": "execute_result",
          "data": {
            "text/plain": [
              "GridSearchCV(cv=5, error_score='raise-deprecating',\n",
              "             estimator=GradientBoostingRegressor(alpha=0.9,\n",
              "                                                 criterion='friedman_mse',\n",
              "                                                 init=None, learning_rate=0.05,\n",
              "                                                 loss='ls', max_depth=5,\n",
              "                                                 max_features=None,\n",
              "                                                 max_leaf_nodes=None,\n",
              "                                                 min_impurity_decrease=0.0,\n",
              "                                                 min_impurity_split=None,\n",
              "                                                 min_samples_leaf=40,\n",
              "                                                 min_samples_split=450,\n",
              "                                                 min_weight_fraction_leaf=0.0,\n",
              "                                                 n_estimators=110,\n",
              "                                                 n_iter_no_change=None,\n",
              "                                                 presort='auto',\n",
              "                                                 random_state=10, subsample=0.8,\n",
              "                                                 tol=0.0001,\n",
              "                                                 validation_fraction=0.1,\n",
              "                                                 verbose=0, warm_start=False),\n",
              "             iid=False, n_jobs=4, param_grid={'max_features': range(4, 12, 2)},\n",
              "             pre_dispatch='2*n_jobs', refit=True, return_train_score=False,\n",
              "             scoring=None, verbose=0)"
            ]
          },
          "metadata": {
            "tags": []
          },
          "execution_count": 193
        }
      ]
    },
    {
      "cell_type": "code",
      "metadata": {
        "id": "R7myC3e1tZYp",
        "colab_type": "code",
        "outputId": "143cd404-844f-4e0c-cc0c-524c0b5dd4cd",
        "colab": {
          "base_uri": "https://localhost:8080/",
          "height": 34
        }
      },
      "source": [
        "gsearch4.best_params_, gsearch4.best_score_"
      ],
      "execution_count": 0,
      "outputs": [
        {
          "output_type": "execute_result",
          "data": {
            "text/plain": [
              "({'max_features': 10}, 0.6003178413260735)"
            ]
          },
          "metadata": {
            "tags": []
          },
          "execution_count": 194
        }
      ]
    },
    {
      "cell_type": "code",
      "metadata": {
        "id": "2BXLNAHTtenL",
        "colab_type": "code",
        "outputId": "f032f3e2-285a-44f1-ae16-803d18a5d906",
        "colab": {
          "base_uri": "https://localhost:8080/",
          "height": 34
        }
      },
      "source": [
        "print(\"Residual sum of squares: %.2f\"\n",
        "              % np.mean((gsearch4.predict(xtest_scaled) - ytest) ** 2))"
      ],
      "execution_count": 0,
      "outputs": [
        {
          "output_type": "stream",
          "text": [
            "Residual sum of squares: 18032.03\n"
          ],
          "name": "stdout"
        }
      ]
    },
    {
      "cell_type": "code",
      "metadata": {
        "id": "QvLpmKHPsXfl",
        "colab_type": "code",
        "outputId": "0dd1ae3f-4bf2-4d5b-b22a-696ac2a011d7",
        "colab": {
          "base_uri": "https://localhost:8080/",
          "height": 408
        }
      },
      "source": [
        "param_test5 = {'subsample':[0.6,0.7,0.75,0.8,0.85,0.9]}\n",
        "gsearch5 = GridSearchCV(estimator = GradientBoostingRegressor(learning_rate=0.05, n_estimators=110,max_depth=5, min_samples_split=450, min_samples_leaf=40,  random_state=10,max_features=10),\n",
        "param_grid = param_test5,n_jobs=4,iid=False, cv=5)\n",
        "gsearch5.fit(xtrain_scaled,ytrain)\n"
      ],
      "execution_count": 0,
      "outputs": [
        {
          "output_type": "execute_result",
          "data": {
            "text/plain": [
              "GridSearchCV(cv=5, error_score='raise-deprecating',\n",
              "             estimator=GradientBoostingRegressor(alpha=0.9,\n",
              "                                                 criterion='friedman_mse',\n",
              "                                                 init=None, learning_rate=0.05,\n",
              "                                                 loss='ls', max_depth=5,\n",
              "                                                 max_features=10,\n",
              "                                                 max_leaf_nodes=None,\n",
              "                                                 min_impurity_decrease=0.0,\n",
              "                                                 min_impurity_split=None,\n",
              "                                                 min_samples_leaf=40,\n",
              "                                                 min_samples_split=450,\n",
              "                                                 min_weight_fraction_leaf=0.0,\n",
              "                                                 n_estimators=110,\n",
              "                                                 n_iter_no_change=None,\n",
              "                                                 presort='auto',\n",
              "                                                 random_state=10, subsample=1.0,\n",
              "                                                 tol=0.0001,\n",
              "                                                 validation_fraction=0.1,\n",
              "                                                 verbose=0, warm_start=False),\n",
              "             iid=False, n_jobs=4,\n",
              "             param_grid={'subsample': [0.6, 0.7, 0.75, 0.8, 0.85, 0.9]},\n",
              "             pre_dispatch='2*n_jobs', refit=True, return_train_score=False,\n",
              "             scoring=None, verbose=0)"
            ]
          },
          "metadata": {
            "tags": []
          },
          "execution_count": 196
        }
      ]
    },
    {
      "cell_type": "code",
      "metadata": {
        "id": "AIokEpE5tP8q",
        "colab_type": "code",
        "outputId": "de107ca0-3475-432c-e9f5-43fa1e49be30",
        "colab": {
          "base_uri": "https://localhost:8080/",
          "height": 34
        }
      },
      "source": [
        "gsearch5.best_params_, gsearch5.best_score_\n"
      ],
      "execution_count": 0,
      "outputs": [
        {
          "output_type": "execute_result",
          "data": {
            "text/plain": [
              "({'subsample': 0.8}, 0.6003178413260735)"
            ]
          },
          "metadata": {
            "tags": []
          },
          "execution_count": 197
        }
      ]
    },
    {
      "cell_type": "code",
      "metadata": {
        "id": "o9sHbnHNtP22",
        "colab_type": "code",
        "outputId": "ae4af0bc-f201-4a16-ce90-3f404fe21a2b",
        "colab": {
          "base_uri": "https://localhost:8080/",
          "height": 34
        }
      },
      "source": [
        "print(\"Residual sum of squares: %.2f\"\n",
        "              % np.mean((gsearch5.predict(xtest_scaled) - ytest) ** 2))"
      ],
      "execution_count": 0,
      "outputs": [
        {
          "output_type": "stream",
          "text": [
            "Residual sum of squares: 18032.03\n"
          ],
          "name": "stdout"
        }
      ]
    },
    {
      "cell_type": "code",
      "metadata": {
        "id": "fQ1BB9HbtUCl",
        "colab_type": "code",
        "colab": {}
      },
      "source": [
        ""
      ],
      "execution_count": 0,
      "outputs": []
    },
    {
      "cell_type": "code",
      "metadata": {
        "id": "WwrMQjKisXZQ",
        "colab_type": "code",
        "outputId": "db1468a1-9958-4d9b-ec26-b61335235de4",
        "colab": {
          "base_uri": "https://localhost:8080/",
          "height": 34
        }
      },
      "source": [
        "gbm_tuned_1 = GradientBoostingRegressor(learning_rate=0.025, n_estimators=220,max_depth=5, min_samples_split=450,min_samples_leaf=40, subsample=0.8, random_state=10, max_features=10)\n",
        "gbm_tuned_1.fit(xtrain_scaled,ytrain)\n",
        "print(\"Residual sum of squares: %.2f\"\n",
        "              % np.mean((gbm_tuned_1.predict(xtest_scaled) - ytest) ** 2))"
      ],
      "execution_count": 0,
      "outputs": [
        {
          "output_type": "stream",
          "text": [
            "Residual sum of squares: 17178.44\n"
          ],
          "name": "stdout"
        }
      ]
    },
    {
      "cell_type": "code",
      "metadata": {
        "id": "O87ub2iJtHK3",
        "colab_type": "code",
        "outputId": "1dee0b51-0f85-40e5-9af1-2f979263464c",
        "colab": {
          "base_uri": "https://localhost:8080/",
          "height": 34
        }
      },
      "source": [
        "gbm_tuned_2 = GradientBoostingRegressor(learning_rate=0.005, n_estimators=725,max_depth=5, min_samples_split=450,min_samples_leaf=40, subsample=0.7, random_state=10, max_features=8)\n",
        "gbm_tuned_2.fit(xtrain_scaled,ytrain)\n",
        "print(\"Residual sum of squares: %.2f\"\n",
        "              % np.mean((gbm_tuned_2.predict(xtest_scaled) - ytest) ** 2))"
      ],
      "execution_count": 0,
      "outputs": [
        {
          "output_type": "stream",
          "text": [
            "Residual sum of squares: 11456.13\n"
          ],
          "name": "stdout"
        }
      ]
    },
    {
      "cell_type": "code",
      "metadata": {
        "id": "ZrbkUTAIlA1q",
        "colab_type": "code",
        "outputId": "a05dd5ff-273e-4001-becb-05169144e4c8",
        "colab": {
          "base_uri": "https://localhost:8080/",
          "height": 34
        }
      },
      "source": [
        "gbm_tuned_3 = GradientBoostingRegressor(learning_rate=0.00166, n_estimators=2200,max_depth=5, min_samples_split=450,min_samples_leaf=40, subsample=0.7, random_state=10, max_features=8)\n",
        "gbm_tuned_3.fit(xtrain_scaled,ytrain)\n",
        "# print(\"Residual sum of squares: %.2f\"\n",
        "#               % np.mean((gbm_tuned_3.predict(xtest_scaled) - ytest) ** 2))\n",
        "mean_squared_error(ytest, gbm_tuned_3.predict(xtest_scaled))"
      ],
      "execution_count": 0,
      "outputs": [
        {
          "output_type": "execute_result",
          "data": {
            "text/plain": [
              "11126.600531881742"
            ]
          },
          "metadata": {
            "tags": []
          },
          "execution_count": 201
        }
      ]
    },
    {
      "cell_type": "code",
      "metadata": {
        "id": "eJDIxm_f9Wr1",
        "colab_type": "code",
        "outputId": "b169107e-23e3-4178-b3d8-b779d2c1674a",
        "colab": {
          "base_uri": "https://localhost:8080/",
          "height": 34
        }
      },
      "source": [
        "mean_absolute_error(ytest, gbm_tuned_3.predict(xtest_scaled))"
      ],
      "execution_count": 0,
      "outputs": [
        {
          "output_type": "execute_result",
          "data": {
            "text/plain": [
              "80.6640367945749"
            ]
          },
          "metadata": {
            "tags": []
          },
          "execution_count": 202
        }
      ]
    },
    {
      "cell_type": "code",
      "metadata": {
        "id": "fbAYZxoiB7EE",
        "colab_type": "code",
        "colab": {}
      },
      "source": [
        "gbm_3t=gbm_tuned_3.predict(xtest_scaled)"
      ],
      "execution_count": 0,
      "outputs": []
    },
    {
      "cell_type": "code",
      "metadata": {
        "id": "OnBp_gVRCBsb",
        "colab_type": "code",
        "outputId": "3acc59fb-fbdd-4dc0-d873-7b680615d7f7",
        "colab": {
          "base_uri": "https://localhost:8080/",
          "height": 51
        }
      },
      "source": [
        "gbm_3t"
      ],
      "execution_count": 0,
      "outputs": [
        {
          "output_type": "execute_result",
          "data": {
            "text/plain": [
              "array([1625.10099999, 1415.02792733,  646.90858958, ..., 1867.57991052,\n",
              "       3549.50013504, 1324.72050107])"
            ]
          },
          "metadata": {
            "tags": []
          },
          "execution_count": 204
        }
      ]
    },
    {
      "cell_type": "code",
      "metadata": {
        "id": "SHMVPZwTTEGF",
        "colab_type": "code",
        "colab": {}
      },
      "source": [
        "ytest"
      ],
      "execution_count": 0,
      "outputs": []
    },
    {
      "cell_type": "code",
      "metadata": {
        "id": "wMuj9k-LJq11",
        "colab_type": "code",
        "colab": {}
      },
      "source": [
        "from sklearn.model_selection import KFold \n",
        "  \n",
        "kf = KFold(n_splits=5,  random_state=None) \n",
        "gbm1_lvl1_train=[]\n",
        "gbm1_lvl1_y=[]\n",
        "for train_index, test_index in kf.split(xtrain_scaled):\n",
        "#       print(\"Train:\", train_index, \"Validation:\",test_index)\n",
        "    X_train, X_test = xtrain_scaled[train_index], xtrain_scaled[test_index] \n",
        "    y_train, y_test = ytrain[train_index], ytrain[test_index]\n",
        "    gbm_tuned_3.fit(X_train, y_train) \n",
        "    gbm1_lvl1_train.extend(gbm_tuned_3.predict(X_test))\n",
        "    gbm1_lvl1_y.extend(y_test)"
      ],
      "execution_count": 0,
      "outputs": []
    },
    {
      "cell_type": "code",
      "metadata": {
        "id": "hjxifoeEL56V",
        "colab_type": "code",
        "outputId": "2d050008-53d1-4dd2-a44a-985d2d429f10",
        "colab": {
          "base_uri": "https://localhost:8080/",
          "height": 272
        }
      },
      "source": [
        "gbm1_lvl1_train[:15]"
      ],
      "execution_count": 0,
      "outputs": [
        {
          "output_type": "execute_result",
          "data": {
            "text/plain": [
              "[4072.049900774553,\n",
              " 743.7387978801863,\n",
              " 2242.3040913804084,\n",
              " 577.0709489168071,\n",
              " 882.602684760209,\n",
              " 796.0308463904023,\n",
              " 896.036374254139,\n",
              " 2635.427330058064,\n",
              " 1562.1343280901895,\n",
              " 3086.593299936462,\n",
              " 763.2712899412392,\n",
              " 2476.878402115896,\n",
              " 2547.6523778524415,\n",
              " 1993.1847895969986,\n",
              " 3201.9161605756244]"
            ]
          },
          "metadata": {
            "tags": []
          },
          "execution_count": 208
        }
      ]
    },
    {
      "cell_type": "code",
      "metadata": {
        "id": "GrKw79GvMA4Z",
        "colab_type": "code",
        "outputId": "8832f1ff-dfa4-4926-d7e6-5413a5e930be",
        "colab": {
          "base_uri": "https://localhost:8080/",
          "height": 272
        }
      },
      "source": [
        "gbm1_lvl1_y[:15]"
      ],
      "execution_count": 0,
      "outputs": [
        {
          "output_type": "execute_result",
          "data": {
            "text/plain": [
              "[3735.138,\n",
              " 443.4228,\n",
              " 2097.27,\n",
              " 732.38,\n",
              " 994.7052,\n",
              " 556.6088,\n",
              " 343.5528,\n",
              " 4022.7636,\n",
              " 1076.5986,\n",
              " 4710.535,\n",
              " 1516.0266,\n",
              " 2187.153,\n",
              " 1589.2646,\n",
              " 2145.2076,\n",
              " 1977.4260000000002]"
            ]
          },
          "metadata": {
            "tags": []
          },
          "execution_count": 209
        }
      ]
    },
    {
      "cell_type": "markdown",
      "metadata": {
        "id": "fbD0NDjNxyrD",
        "colab_type": "text"
      },
      "source": [
        "gboost_2"
      ]
    },
    {
      "cell_type": "code",
      "metadata": {
        "id": "3lAZYLA5MACg",
        "colab_type": "code",
        "colab": {}
      },
      "source": [
        ""
      ],
      "execution_count": 0,
      "outputs": []
    },
    {
      "cell_type": "code",
      "metadata": {
        "id": "O1U-cFRgL_6l",
        "colab_type": "code",
        "colab": {}
      },
      "source": [
        ""
      ],
      "execution_count": 0,
      "outputs": []
    },
    {
      "cell_type": "code",
      "metadata": {
        "id": "gL714r6ps6ao",
        "colab_type": "code",
        "outputId": "771b7616-5c7c-41e6-ef3d-ba976d63b704",
        "colab": {
          "base_uri": "https://localhost:8080/",
          "height": 34
        }
      },
      "source": [
        "from sklearn.ensemble import GradientBoostingRegressor\n",
        "model_gb= GradientBoostingRegressor(n_estimators=82, learning_rate=0.049)\n",
        "model_gb.fit(xtrain_scaled,ytrain)\n",
        "xtest_scaled = StandardScaler().fit_transform(xtest.values)\n",
        "# model.score(x_test,y_test)\n",
        "pred_GBR = model_gb.predict(xtest_scaled)\n",
        "MSE=mean_squared_error(ytest, pred_GBR)\n",
        "RMSE=(MSE)**0.5\n",
        "RMSE"
      ],
      "execution_count": 0,
      "outputs": [
        {
          "output_type": "execute_result",
          "data": {
            "text/plain": [
              "108.58716858633296"
            ]
          },
          "metadata": {
            "tags": []
          },
          "execution_count": 210
        }
      ]
    },
    {
      "cell_type": "code",
      "metadata": {
        "id": "2eir3OtM5kSS",
        "colab_type": "code",
        "outputId": "9056e422-42aa-43b1-f697-20a0a409ba90",
        "colab": {
          "base_uri": "https://localhost:8080/",
          "height": 34
        }
      },
      "source": [
        "mean_absolute_error(ytest, pred_GBR)\n"
      ],
      "execution_count": 0,
      "outputs": [
        {
          "output_type": "execute_result",
          "data": {
            "text/plain": [
              "83.14751389461712"
            ]
          },
          "metadata": {
            "tags": []
          },
          "execution_count": 211
        }
      ]
    },
    {
      "cell_type": "code",
      "metadata": {
        "id": "dpeMpPMpMIW4",
        "colab_type": "code",
        "colab": {}
      },
      "source": [
        "from sklearn.model_selection import KFold \n",
        "  \n",
        "kf = KFold(n_splits=5,  random_state=None) \n",
        "gbm2_lvl1_train=[]\n",
        "gbm2_lvl1_y=[]\n",
        "for train_index, test_index in kf.split(xtrain_scaled):\n",
        "#       print(\"Train:\", train_index, \"Validation:\",test_index)\n",
        "    X_train, X_test = xtrain_scaled[train_index], xtrain_scaled[test_index] \n",
        "    y_train, y_test = ytrain[train_index], ytrain[test_index]\n",
        "    model_gb.fit(X_train, y_train) \n",
        "    gbm2_lvl1_train.extend(model_gb.predict(X_test))\n",
        "    gbm2_lvl1_y.extend(y_test)"
      ],
      "execution_count": 0,
      "outputs": []
    },
    {
      "cell_type": "code",
      "metadata": {
        "id": "7BkUlZFhMTZ1",
        "colab_type": "code",
        "outputId": "f4523e9d-672a-4e03-def2-e1de24c7e26f",
        "colab": {
          "base_uri": "https://localhost:8080/",
          "height": 272
        }
      },
      "source": [
        "gbm2_lvl1_train[:15]"
      ],
      "execution_count": 0,
      "outputs": [
        {
          "output_type": "execute_result",
          "data": {
            "text/plain": [
              "[4042.7030522509417,\n",
              " 761.1063026750265,\n",
              " 2137.2457083182417,\n",
              " 514.607000894178,\n",
              " 928.5755989719332,\n",
              " 802.4439958562147,\n",
              " 928.5755989719332,\n",
              " 2607.937427515023,\n",
              " 1551.9010200701714,\n",
              " 3125.3242588986886,\n",
              " 823.4042111411491,\n",
              " 2505.2196302100806,\n",
              " 2505.2196302100806,\n",
              " 1932.0687166878818,\n",
              " 3127.501453029315]"
            ]
          },
          "metadata": {
            "tags": []
          },
          "execution_count": 213
        }
      ]
    },
    {
      "cell_type": "code",
      "metadata": {
        "id": "s6e_CjOEMTxb",
        "colab_type": "code",
        "outputId": "08af6ae1-308b-4d51-85ea-ff7b8ec28db9",
        "colab": {
          "base_uri": "https://localhost:8080/",
          "height": 272
        }
      },
      "source": [
        "gbm2_lvl1_y[:15]"
      ],
      "execution_count": 0,
      "outputs": [
        {
          "output_type": "execute_result",
          "data": {
            "text/plain": [
              "[3735.138,\n",
              " 443.4228,\n",
              " 2097.27,\n",
              " 732.38,\n",
              " 994.7052,\n",
              " 556.6088,\n",
              " 343.5528,\n",
              " 4022.7636,\n",
              " 1076.5986,\n",
              " 4710.535,\n",
              " 1516.0266,\n",
              " 2187.153,\n",
              " 1589.2646,\n",
              " 2145.2076,\n",
              " 1977.4260000000002]"
            ]
          },
          "metadata": {
            "tags": []
          },
          "execution_count": 214
        }
      ]
    },
    {
      "cell_type": "markdown",
      "metadata": {
        "id": "UB0_nQMRCQY7",
        "colab_type": "text"
      },
      "source": [
        "####  XGBoost from cambridge spark"
      ]
    },
    {
      "cell_type": "markdown",
      "metadata": {
        "id": "4mb4ZVD1LMi6",
        "colab_type": "text"
      },
      "source": [
        "xgboost_1"
      ]
    },
    {
      "cell_type": "code",
      "metadata": {
        "id": "k35epydKD3Bl",
        "colab_type": "code",
        "colab": {}
      },
      "source": [
        ""
      ],
      "execution_count": 0,
      "outputs": []
    },
    {
      "cell_type": "code",
      "metadata": {
        "id": "EkKDdMK1Fn_T",
        "colab_type": "code",
        "colab": {}
      },
      "source": [
        "dtrain = xgb.DMatrix(xtrain, label=ytrain)\n",
        "dtest = xgb.DMatrix(xtest, label=ytest)"
      ],
      "execution_count": 0,
      "outputs": []
    },
    {
      "cell_type": "code",
      "metadata": {
        "id": "OdHaOxnvCPl5",
        "colab_type": "code",
        "outputId": "a606e15e-65f3-4ce0-d708-9efc23699780",
        "colab": {
          "base_uri": "https://localhost:8080/",
          "height": 34
        }
      },
      "source": [
        "mean_train=np.mean(ytrain)\n",
        "baseline_prediction=np.ones(ytest.shape)*(mean_train)\n",
        "mae_baseline=mean_absolute_error(ytest,baseline_prediction)\n",
        "mae_baseline"
      ],
      "execution_count": 0,
      "outputs": [
        {
          "output_type": "execute_result",
          "data": {
            "text/plain": [
              "1076.9063292494282"
            ]
          },
          "metadata": {
            "tags": []
          },
          "execution_count": 402
        }
      ]
    },
    {
      "cell_type": "code",
      "metadata": {
        "id": "XzEEti4OCOdJ",
        "colab_type": "code",
        "colab": {}
      },
      "source": [
        "params = {\n",
        "    # Parameters that we are going to tune.\n",
        "#     'max_depth':6,\n",
        "#     'min_child_weight': 1,\n",
        "#     'eta':.3,\n",
        "#     'subsample': 1,\n",
        "#     'colsample_bytree': 1,\n",
        "#     # Other parameters\n",
        "#     'objective':'reg:linear',\n",
        "    \n",
        "    'base_score':0.5, \n",
        "    'booster':'gbtree', \n",
        "    'colsample_bylevel':1,\n",
        "    'colsample_bynode':1, \n",
        "    'colsample_bytree':1,\n",
        "    'gamma':0,\n",
        "    'importance_type':'gain',\n",
        "    'learning_rate' :0.047, \n",
        "    'max_delta_step':0,\n",
        "    'max_depth' :2,\n",
        "    'min_child_weight':8,\n",
        "    'missing':None, \n",
        "    'n_estimators':98,\n",
        "    'n_jobs':1, \n",
        "    'objective':'reg:linear', \n",
        "    'random_state':0,\n",
        "    'reg_alpha':0, \n",
        "    'reg_lambda':1,\n",
        "    'scale_pos_weight':1, \n",
        "    'subsample':1, \n",
        "    'verbosity':1\n",
        "    \n",
        "}"
      ],
      "execution_count": 0,
      "outputs": []
    },
    {
      "cell_type": "code",
      "metadata": {
        "id": "UNlOjJ_RCOUd",
        "colab_type": "code",
        "colab": {}
      },
      "source": [
        "params['eval_metric'] = \"mae\"\n",
        "num_boost_round = 1500"
      ],
      "execution_count": 0,
      "outputs": []
    },
    {
      "cell_type": "code",
      "metadata": {
        "id": "Ksqq64E1COIw",
        "colab_type": "code",
        "outputId": "d34d6761-9011-48e6-8c0f-e8694d16f48c",
        "colab": {
          "base_uri": "https://localhost:8080/",
          "height": 1000
        }
      },
      "source": [
        "model = xgb.train(\n",
        "    params,\n",
        "    dtrain,\n",
        "    num_boost_round=num_boost_round,\n",
        "    evals=[(dtest, \"Test\")],\n",
        "    early_stopping_rounds=30\n",
        ")"
      ],
      "execution_count": 0,
      "outputs": [
        {
          "output_type": "stream",
          "text": [
            "[19:20:04] WARNING: /workspace/src/objective/regression_obj.cu:152: reg:linear is now deprecated in favor of reg:squarederror.\n",
            "[0]\tTest-mae:2077.12\n",
            "Will train until Test-mae hasn't improved in 30 rounds.\n",
            "[1]\tTest-mae:1980.5\n",
            "[2]\tTest-mae:1887.92\n",
            "[3]\tTest-mae:1800.3\n",
            "[4]\tTest-mae:1715.99\n",
            "[5]\tTest-mae:1636.52\n",
            "[6]\tTest-mae:1561.73\n",
            "[7]\tTest-mae:1488.81\n",
            "[8]\tTest-mae:1422.41\n",
            "[9]\tTest-mae:1356.35\n",
            "[10]\tTest-mae:1293.07\n",
            "[11]\tTest-mae:1235.52\n",
            "[12]\tTest-mae:1182.01\n",
            "[13]\tTest-mae:1132.07\n",
            "[14]\tTest-mae:1079.15\n",
            "[15]\tTest-mae:1031.14\n",
            "[16]\tTest-mae:988.317\n",
            "[17]\tTest-mae:950.068\n",
            "[18]\tTest-mae:913.171\n",
            "[19]\tTest-mae:872.934\n",
            "[20]\tTest-mae:839.645\n",
            "[21]\tTest-mae:804.644\n",
            "[22]\tTest-mae:769.07\n",
            "[23]\tTest-mae:741.339\n",
            "[24]\tTest-mae:714.516\n",
            "[25]\tTest-mae:683.193\n",
            "[26]\tTest-mae:651.95\n",
            "[27]\tTest-mae:630.018\n",
            "[28]\tTest-mae:602.58\n",
            "[29]\tTest-mae:583.154\n",
            "[30]\tTest-mae:559.72\n",
            "[31]\tTest-mae:533.735\n",
            "[32]\tTest-mae:517.391\n",
            "[33]\tTest-mae:499.961\n",
            "[34]\tTest-mae:480.104\n",
            "[35]\tTest-mae:457.751\n",
            "[36]\tTest-mae:444.93\n",
            "[37]\tTest-mae:430.772\n",
            "[38]\tTest-mae:411.23\n",
            "[39]\tTest-mae:400.369\n",
            "[40]\tTest-mae:384.671\n",
            "[41]\tTest-mae:370.731\n",
            "[42]\tTest-mae:359.281\n",
            "[43]\tTest-mae:349.188\n",
            "[44]\tTest-mae:335.687\n",
            "[45]\tTest-mae:327.669\n",
            "[46]\tTest-mae:313.629\n",
            "[47]\tTest-mae:300.398\n",
            "[48]\tTest-mae:293.243\n",
            "[49]\tTest-mae:285.119\n",
            "[50]\tTest-mae:275.533\n",
            "[51]\tTest-mae:266.277\n",
            "[52]\tTest-mae:258.754\n",
            "[53]\tTest-mae:252.242\n",
            "[54]\tTest-mae:242.357\n",
            "[55]\tTest-mae:236.03\n",
            "[56]\tTest-mae:227.139\n",
            "[57]\tTest-mae:222.533\n",
            "[58]\tTest-mae:215.79\n",
            "[59]\tTest-mae:209.28\n",
            "[60]\tTest-mae:203.869\n",
            "[61]\tTest-mae:198.873\n",
            "[62]\tTest-mae:191.925\n",
            "[63]\tTest-mae:188.342\n",
            "[64]\tTest-mae:183.735\n",
            "[65]\tTest-mae:177.475\n",
            "[66]\tTest-mae:173.441\n",
            "[67]\tTest-mae:169.755\n",
            "[68]\tTest-mae:164.661\n",
            "[69]\tTest-mae:161.675\n",
            "[70]\tTest-mae:157.208\n",
            "[71]\tTest-mae:153.936\n",
            "[72]\tTest-mae:150.953\n",
            "[73]\tTest-mae:146.488\n",
            "[74]\tTest-mae:144.158\n",
            "[75]\tTest-mae:140.241\n",
            "[76]\tTest-mae:136.484\n",
            "[77]\tTest-mae:134.194\n",
            "[78]\tTest-mae:132.18\n",
            "[79]\tTest-mae:128.478\n",
            "[80]\tTest-mae:125.307\n",
            "[81]\tTest-mae:122.786\n",
            "[82]\tTest-mae:119.968\n",
            "[83]\tTest-mae:117.832\n",
            "[84]\tTest-mae:114.991\n",
            "[85]\tTest-mae:113.305\n",
            "[86]\tTest-mae:111.774\n",
            "[87]\tTest-mae:109.654\n",
            "[88]\tTest-mae:107.791\n",
            "[89]\tTest-mae:106.442\n",
            "[90]\tTest-mae:104.628\n",
            "[91]\tTest-mae:103.58\n",
            "[92]\tTest-mae:101.369\n",
            "[93]\tTest-mae:99.9837\n",
            "[94]\tTest-mae:98.3618\n",
            "[95]\tTest-mae:96.5627\n",
            "[96]\tTest-mae:95.7265\n",
            "[97]\tTest-mae:94.626\n",
            "[98]\tTest-mae:93.273\n",
            "[99]\tTest-mae:91.6169\n",
            "[100]\tTest-mae:90.4026\n",
            "[101]\tTest-mae:89.5278\n",
            "[102]\tTest-mae:88.5318\n",
            "[103]\tTest-mae:87.084\n",
            "[104]\tTest-mae:86.7627\n",
            "[105]\tTest-mae:85.9595\n",
            "[106]\tTest-mae:84.939\n",
            "[107]\tTest-mae:84.3656\n",
            "[108]\tTest-mae:83.4204\n",
            "[109]\tTest-mae:82.6204\n",
            "[110]\tTest-mae:82.3551\n",
            "[111]\tTest-mae:81.9857\n",
            "[112]\tTest-mae:81.3953\n",
            "[113]\tTest-mae:80.8186\n",
            "[114]\tTest-mae:80.9063\n",
            "[115]\tTest-mae:80.4365\n",
            "[116]\tTest-mae:79.7705\n",
            "[117]\tTest-mae:80.1035\n",
            "[118]\tTest-mae:79.7596\n",
            "[119]\tTest-mae:79.4927\n",
            "[120]\tTest-mae:79.6976\n",
            "[121]\tTest-mae:79.129\n",
            "[122]\tTest-mae:79.4678\n",
            "[123]\tTest-mae:79.262\n",
            "[124]\tTest-mae:79.0602\n",
            "[125]\tTest-mae:78.5565\n",
            "[126]\tTest-mae:78.4694\n",
            "[127]\tTest-mae:78.3387\n",
            "[128]\tTest-mae:78.0637\n",
            "[129]\tTest-mae:77.3987\n",
            "[130]\tTest-mae:77.7906\n",
            "[131]\tTest-mae:77.9128\n",
            "[132]\tTest-mae:77.5191\n",
            "[133]\tTest-mae:77.2028\n",
            "[134]\tTest-mae:77.4494\n",
            "[135]\tTest-mae:77.148\n",
            "[136]\tTest-mae:76.9157\n",
            "[137]\tTest-mae:76.6858\n",
            "[138]\tTest-mae:76.6765\n",
            "[139]\tTest-mae:76.9553\n",
            "[140]\tTest-mae:77.1162\n",
            "[141]\tTest-mae:77.0101\n",
            "[142]\tTest-mae:77.1653\n",
            "[143]\tTest-mae:77.0175\n",
            "[144]\tTest-mae:77.2081\n",
            "[145]\tTest-mae:77.1329\n",
            "[146]\tTest-mae:77.4582\n",
            "[147]\tTest-mae:77.7086\n",
            "[148]\tTest-mae:77.6162\n",
            "[149]\tTest-mae:77.8013\n",
            "[150]\tTest-mae:77.5698\n",
            "[151]\tTest-mae:77.4738\n",
            "[152]\tTest-mae:77.6343\n",
            "[153]\tTest-mae:77.8391\n",
            "[154]\tTest-mae:77.7103\n",
            "[155]\tTest-mae:77.5659\n",
            "[156]\tTest-mae:77.7728\n",
            "[157]\tTest-mae:77.7115\n",
            "[158]\tTest-mae:77.8647\n",
            "[159]\tTest-mae:77.8366\n",
            "[160]\tTest-mae:77.8559\n",
            "[161]\tTest-mae:77.7947\n",
            "[162]\tTest-mae:77.9797\n",
            "[163]\tTest-mae:78.2228\n",
            "[164]\tTest-mae:78.4813\n",
            "[165]\tTest-mae:78.442\n",
            "[166]\tTest-mae:78.679\n",
            "[167]\tTest-mae:78.6512\n",
            "[168]\tTest-mae:78.9016\n",
            "Stopping. Best iteration:\n",
            "[138]\tTest-mae:76.6765\n",
            "\n"
          ],
          "name": "stdout"
        }
      ]
    },
    {
      "cell_type": "code",
      "metadata": {
        "id": "VboBwsMkCOO2",
        "colab_type": "code",
        "colab": {}
      },
      "source": [
        ""
      ],
      "execution_count": 0,
      "outputs": []
    },
    {
      "cell_type": "code",
      "metadata": {
        "id": "u8Yh4_F78Bto",
        "colab_type": "code",
        "colab": {}
      },
      "source": [
        "final=model.predict(dtest)"
      ],
      "execution_count": 0,
      "outputs": []
    },
    {
      "cell_type": "code",
      "metadata": {
        "id": "srJMUBXvCOC5",
        "colab_type": "code",
        "colab": {}
      },
      "source": [
        "cv_results = xgb.cv(\n",
        "    params,\n",
        "    dtrain,\n",
        "    num_boost_round=num_boost_round,\n",
        "    seed=42,\n",
        "    nfold=10,\n",
        "    metrics={'mae'},\n",
        "    early_stopping_rounds=30\n",
        ")\n",
        "cv_results"
      ],
      "execution_count": 0,
      "outputs": []
    },
    {
      "cell_type": "code",
      "metadata": {
        "id": "Op3cHXB3CN81",
        "colab_type": "code",
        "outputId": "eeeb4695-25f5-469e-9de8-dcd09400c9e9",
        "colab": {
          "base_uri": "https://localhost:8080/",
          "height": 34
        }
      },
      "source": [
        "cv_results['test-mae-mean'].min()"
      ],
      "execution_count": 0,
      "outputs": [
        {
          "output_type": "execute_result",
          "data": {
            "text/plain": [
              "757.0870728999998"
            ]
          },
          "metadata": {
            "tags": []
          },
          "execution_count": 290
        }
      ]
    },
    {
      "cell_type": "code",
      "metadata": {
        "id": "5H2f4BOLCN3G",
        "colab_type": "code",
        "colab": {}
      },
      "source": [
        "gridsearch_params = [\n",
        "    (max_depth, min_child_weight)\n",
        "    for max_depth in range(1,12)\n",
        "    for min_child_weight in range(0,10)\n",
        "]"
      ],
      "execution_count": 0,
      "outputs": []
    },
    {
      "cell_type": "code",
      "metadata": {
        "id": "hDkg1fN4InSC",
        "colab_type": "code",
        "colab": {}
      },
      "source": [
        "# Define initial best params and MAE\n",
        "min_mae = float(\"Inf\")\n",
        "best_params = None\n",
        "for max_depth, min_child_weight in gridsearch_params:\n",
        "    print(\"CV with max_depth={}, min_child_weight={}\".format(\n",
        "                             max_depth,\n",
        "                             min_child_weight))\n",
        "    # Update our parameters\n",
        "    params['max_depth'] = max_depth\n",
        "    params['min_child_weight'] = min_child_weight\n",
        "    # Run CV\n",
        "    cv_results = xgb.cv(\n",
        "        params,\n",
        "        dtrain,\n",
        "        num_boost_round=num_boost_round,\n",
        "        seed=4,\n",
        "        nfold=10,\n",
        "        metrics={'mae'},\n",
        "        early_stopping_rounds=30\n",
        "    )\n",
        "    # Update best MAE\n",
        "    mean_mae = cv_results['test-mae-mean'].min()\n",
        "    boost_rounds = cv_results['test-mae-mean'].argmin()\n",
        "    print(\"\\tMAE {} for {} rounds\".format(mean_mae, boost_rounds))\n",
        "    if mean_mae < min_mae:\n",
        "        min_mae = mean_mae\n",
        "        best_params = (max_depth,min_child_weight)\n",
        "print(\"Best params: {}, {}, MAE: {}\".format(best_params[0], best_params[1], min_mae))"
      ],
      "execution_count": 0,
      "outputs": []
    },
    {
      "cell_type": "code",
      "metadata": {
        "id": "ZGxNU3AqInMm",
        "colab_type": "code",
        "colab": {}
      },
      "source": [
        "params['max_depth'] = 4\n",
        "params['min_child_weight'] = 5"
      ],
      "execution_count": 0,
      "outputs": []
    },
    {
      "cell_type": "code",
      "metadata": {
        "id": "CANTYqza74e-",
        "colab_type": "code",
        "colab": {}
      },
      "source": [
        "model = xgb.train(\n",
        "    params,\n",
        "    dtrain,\n",
        "    num_boost_round=num_boost_round,\n",
        "    evals=[(dtest, \"Test\")],\n",
        "    early_stopping_rounds=30\n",
        ")"
      ],
      "execution_count": 0,
      "outputs": []
    },
    {
      "cell_type": "code",
      "metadata": {
        "id": "7v-rnUfzInHX",
        "colab_type": "code",
        "colab": {}
      },
      "source": [
        "gridsearch_params = [\n",
        "    (subsample, colsample)\n",
        "    for subsample in [i/10. for i in range(1,11)]\n",
        "    for colsample in [i/10. for i in range(1,11)]\n",
        "]"
      ],
      "execution_count": 0,
      "outputs": []
    },
    {
      "cell_type": "code",
      "metadata": {
        "id": "no0ijX4YInB3",
        "colab_type": "code",
        "colab": {}
      },
      "source": [
        "min_mae = float(\"Inf\")\n",
        "best_params = None\n",
        "# We start by the largest values and go down to the smallest\n",
        "for subsample, colsample in reversed(gridsearch_params):\n",
        "    print(\"CV with subsample={}, colsample={}\".format(\n",
        "                             subsample,\n",
        "                             colsample))\n",
        "    # We update our parameters\n",
        "    params['subsample'] = subsample\n",
        "    params['colsample_bytree'] = colsample\n",
        "    # Run CV\n",
        "    cv_results = xgb.cv(\n",
        "        params,\n",
        "        dtrain,\n",
        "        num_boost_round=num_boost_round,\n",
        "        seed=42,\n",
        "        nfold=5,\n",
        "        metrics={'mae'},\n",
        "        early_stopping_rounds=10\n",
        "    )\n",
        "    # Update best score\n",
        "    mean_mae = cv_results['test-mae-mean'].min()\n",
        "    boost_rounds = cv_results['test-mae-mean'].argmin()\n",
        "    print(\"\\tMAE {} for {} rounds\".format(mean_mae, boost_rounds))\n",
        "    if mean_mae < min_mae:\n",
        "        min_mae = mean_mae\n",
        "        best_params = (subsample,colsample)\n",
        "print(\"Best params: {}, {}, MAE: {}\".format(best_params[0], best_params[1], min_mae))"
      ],
      "execution_count": 0,
      "outputs": []
    },
    {
      "cell_type": "code",
      "metadata": {
        "id": "AoiFl7nqI1CR",
        "colab_type": "code",
        "colab": {}
      },
      "source": [
        "params['subsample'] = 0.7\n",
        "params['colsample_bytree'] = 1.0"
      ],
      "execution_count": 0,
      "outputs": []
    },
    {
      "cell_type": "code",
      "metadata": {
        "id": "L7OFqZ__I0tW",
        "colab_type": "code",
        "colab": {}
      },
      "source": [
        ""
      ],
      "execution_count": 0,
      "outputs": []
    },
    {
      "cell_type": "code",
      "metadata": {
        "id": "KaW59XCufD9U",
        "colab_type": "code",
        "colab": {}
      },
      "source": [
        "# %time\n",
        "# # This can take some time…\n",
        "# min_mae = float(\"Inf\")\n",
        "# best_params = None\n",
        "# for eta in [.3, .2, .1 ,.05, .01, .005,0.049,0.0001, 0.001]:\n",
        "#     print(\"CV with eta={}\".format(eta))\n",
        "#     # We update our parameters\n",
        "#     params['eta'] = eta\n",
        "#     # Run and time CV\n",
        "#     %time cv_results = xgb.cv(params,dtrain,num_boost_round=num_boost_round,seed=42, nfold=5,metrics=['mae'],early_stopping_rounds=10)\n",
        "#     # Update best score\n",
        "#     mean_mae = cv_results['test-mae-mean'].min()\n",
        "#     boost_rounds = cv_results['test-mae-mean'].argmin()\n",
        "#     print(\"\\tMAE {} for {} rounds\\n\".format(mean_mae, boost_rounds))\n",
        "#     if mean_mae < min_mae:\n",
        "#         min_mae = mean_mae\n",
        "#         best_params = eta\n",
        "# print(\"Best params: {}, MAE: {}\".format(best_params, min_mae))"
      ],
      "execution_count": 0,
      "outputs": []
    },
    {
      "cell_type": "code",
      "metadata": {
        "id": "v-nuvVFFfD2W",
        "colab_type": "code",
        "colab": {}
      },
      "source": [
        "# params['eta'] = 0.3"
      ],
      "execution_count": 0,
      "outputs": []
    },
    {
      "cell_type": "code",
      "metadata": {
        "id": "m3Lxfp9-fDwE",
        "colab_type": "code",
        "colab": {}
      },
      "source": [
        "params"
      ],
      "execution_count": 0,
      "outputs": []
    },
    {
      "cell_type": "code",
      "metadata": {
        "id": "XehKKFzCfDpj",
        "colab_type": "code",
        "colab": {}
      },
      "source": [
        "model = xgb.train(\n",
        "    params,\n",
        "    dtrain,\n",
        "    num_boost_round=num_boost_round,\n",
        "    evals=[(dtest, \"Test\")],\n",
        "    early_stopping_rounds=10\n",
        ")"
      ],
      "execution_count": 0,
      "outputs": []
    },
    {
      "cell_type": "code",
      "metadata": {
        "id": "RYgN6H7vfDjM",
        "colab_type": "code",
        "colab": {}
      },
      "source": [
        "xgt=model.predict(dtest)"
      ],
      "execution_count": 0,
      "outputs": []
    },
    {
      "cell_type": "code",
      "metadata": {
        "id": "WYCBKLpGIf7f",
        "colab_type": "code",
        "colab": {}
      },
      "source": [
        "ytest"
      ],
      "execution_count": 0,
      "outputs": []
    },
    {
      "cell_type": "code",
      "metadata": {
        "id": "Og_2Mg-NIm2i",
        "colab_type": "code",
        "colab": {}
      },
      "source": [
        "xgt"
      ],
      "execution_count": 0,
      "outputs": []
    },
    {
      "cell_type": "code",
      "metadata": {
        "id": "aYtHwXCLKyVA",
        "colab_type": "code",
        "colab": {}
      },
      "source": [
        "ytest[120]"
      ],
      "execution_count": 0,
      "outputs": []
    },
    {
      "cell_type": "code",
      "metadata": {
        "id": "kweZVkT4xOoA",
        "colab_type": "code",
        "colab": {}
      },
      "source": [
        "xgt[120]"
      ],
      "execution_count": 0,
      "outputs": []
    },
    {
      "cell_type": "code",
      "metadata": {
        "id": "sVfEa1BaMwV2",
        "colab_type": "code",
        "colab": {}
      },
      "source": [
        "# from sklearn.model_selection import KFold \n",
        "  \n",
        "# kf = KFold(n_splits=5,  random_state=None) \n",
        "# xgt1_lvl1_train=[]\n",
        "# xgt1_lvl1_y=[]\n",
        "# for train_index, test_index in kf.split(xtrain_scaled):\n",
        "# #       print(\"Train:\", train_index, \"Validation:\",test_index)\n",
        "#     X_train, X_test = xtrain_scaled[train_index], xtrain_scaled[test_index] \n",
        "#     y_train, y_test = ytrain[train_index], ytrain[test_index]\n",
        "#     model.fit(X_train, y_train) \n",
        "#     xgt1_lvl1_train.extend(model.predict(X_test))\n",
        "#     xgt1_lvl1_y.extend(y_test)"
      ],
      "execution_count": 0,
      "outputs": []
    },
    {
      "cell_type": "code",
      "metadata": {
        "id": "aLvBdbUkMXPL",
        "colab_type": "code",
        "colab": {}
      },
      "source": [
        "xgt1_lvl1_train[:15]"
      ],
      "execution_count": 0,
      "outputs": []
    },
    {
      "cell_type": "code",
      "metadata": {
        "id": "W0PS2NdsFxEF",
        "colab_type": "code",
        "colab": {}
      },
      "source": [
        "xgt1_lvl1_y[:15]"
      ],
      "execution_count": 0,
      "outputs": []
    },
    {
      "cell_type": "markdown",
      "metadata": {
        "id": "MoHh43g0LCry",
        "colab_type": "text"
      },
      "source": [
        "xgboost_2"
      ]
    },
    {
      "cell_type": "code",
      "metadata": {
        "id": "EZFjrdCULB2H",
        "colab_type": "code",
        "colab": {}
      },
      "source": [
        ""
      ],
      "execution_count": 0,
      "outputs": []
    },
    {
      "cell_type": "code",
      "metadata": {
        "id": "WWmhPnnZFwv2",
        "colab_type": "code",
        "colab": {}
      },
      "source": [
        "from xgboost import XGBRegressor\n",
        "model_XB1 = XGBRegressor(n_estimators=98, learning_rate=0.049)\n",
        "model_XB1.fit(xtrain_scaled,ytrain)\n",
        "xtest_scaled = StandardScaler().fit_transform(xtest.values)\n",
        "pred_XB1= model_XB1.predict(xtest_scaled)\n",
        "MSE=mean_squared_error(ytest, pred_XB1)\n",
        "RMSE=(MSE)**0.5\n",
        "RMSE\n"
      ],
      "execution_count": 0,
      "outputs": []
    },
    {
      "cell_type": "code",
      "metadata": {
        "id": "YzgTb9kwLb8L",
        "colab_type": "code",
        "colab": {}
      },
      "source": [
        "mean_absolute_error(ytest, pred_XB1)"
      ],
      "execution_count": 0,
      "outputs": []
    },
    {
      "cell_type": "code",
      "metadata": {
        "id": "XSnnhJ81QNzA",
        "colab_type": "code",
        "colab": {}
      },
      "source": [
        "from sklearn.model_selection import KFold \n",
        "  \n",
        "kf = KFold(n_splits=5,  random_state=None) \n",
        "xgt2_lvl1_train=[]\n",
        "xgt2_lvl1_y=[]\n",
        "for train_index, test_index in kf.split(xtrain_scaled):\n",
        "#       print(\"Train:\", train_index, \"Validation:\",test_index)\n",
        "    X_train, X_test = xtrain_scaled[train_index], xtrain_scaled[test_index] \n",
        "    y_train, y_test = ytrain[train_index], ytrain[test_index]\n",
        "    model_XB1.fit(X_train, y_train) \n",
        "    xgt2_lvl1_train.extend(model_XB1.predict(X_test))\n",
        "    xgt2_lvl1_y.extend(y_test)"
      ],
      "execution_count": 0,
      "outputs": []
    },
    {
      "cell_type": "code",
      "metadata": {
        "id": "SWPD3nAmRBiQ",
        "colab_type": "code",
        "colab": {}
      },
      "source": [
        "xgt2_lvl1_train[:15]"
      ],
      "execution_count": 0,
      "outputs": []
    },
    {
      "cell_type": "code",
      "metadata": {
        "id": "jJ8hYgcIRBHK",
        "colab_type": "code",
        "colab": {}
      },
      "source": [
        "xgt2_lvl1_y[:15]"
      ],
      "execution_count": 0,
      "outputs": []
    },
    {
      "cell_type": "markdown",
      "metadata": {
        "id": "oAavomAjLcyP",
        "colab_type": "text"
      },
      "source": [
        "xgboost_3"
      ]
    },
    {
      "cell_type": "code",
      "metadata": {
        "id": "tETmOT5JLGuH",
        "colab_type": "code",
        "colab": {}
      },
      "source": [
        ""
      ],
      "execution_count": 0,
      "outputs": []
    },
    {
      "cell_type": "code",
      "metadata": {
        "id": "xEduNYXSK-PB",
        "colab_type": "code",
        "colab": {}
      },
      "source": [
        "from xgboost import XGBRegressor\n",
        "model_XB = XGBRegressor(n_estimators=92, learning_rate=0.049)\n",
        "model_XB.fit(xtrain_scaled,ytrain)\n",
        "xtest_scaled = StandardScaler().fit_transform(xtest.values)\n",
        "pred_XB2 = model_XB.predict(xtest_scaled)\n",
        "MSE=mean_squared_error(ytest, pred_XB2)\n",
        "RMSE=(MSE)**0.5\n",
        "RMSE"
      ],
      "execution_count": 0,
      "outputs": []
    },
    {
      "cell_type": "code",
      "metadata": {
        "id": "ZHATCzulvHiP",
        "colab_type": "code",
        "colab": {}
      },
      "source": [
        "mean_absolute_error(ytest, pred_XB2)"
      ],
      "execution_count": 0,
      "outputs": []
    },
    {
      "cell_type": "code",
      "metadata": {
        "id": "YHCfezSPQi_Q",
        "colab_type": "code",
        "colab": {}
      },
      "source": [
        "from sklearn.model_selection import KFold \n",
        "  \n",
        "kf = KFold(n_splits=5,  random_state=None) \n",
        "xgt3_lvl1_train=[]\n",
        "xgt3_lvl1_y=[]\n",
        "for train_index, test_index in kf.split(xtrain_scaled):\n",
        "#       print(\"Train:\", train_index, \"Validation:\",test_index)\n",
        "    X_train, X_test = xtrain_scaled[train_index], xtrain_scaled[test_index] \n",
        "    y_train, y_test = ytrain[train_index], ytrain[test_index]\n",
        "    model_XB.fit(X_train, y_train) \n",
        "    xgt3_lvl1_train.extend(model_XB.predict(X_test))\n",
        "    xgt3_lvl1_y.extend(y_test)"
      ],
      "execution_count": 0,
      "outputs": []
    },
    {
      "cell_type": "code",
      "metadata": {
        "id": "PWlHuRiiRMb2",
        "colab_type": "code",
        "colab": {}
      },
      "source": [
        "xgt3_lvl1_train[:15]"
      ],
      "execution_count": 0,
      "outputs": []
    },
    {
      "cell_type": "code",
      "metadata": {
        "id": "DkE1pJAERMIV",
        "colab_type": "code",
        "colab": {}
      },
      "source": [
        "xgt3_lvl1_y[:15]"
      ],
      "execution_count": 0,
      "outputs": []
    },
    {
      "cell_type": "markdown",
      "metadata": {
        "id": "zUHGrEFs_J6Y",
        "colab_type": "text"
      },
      "source": [
        "XGBoost_4"
      ]
    },
    {
      "cell_type": "code",
      "metadata": {
        "id": "wT6sQgvl8JzU",
        "colab_type": "code",
        "colab": {}
      },
      "source": [
        "xgb1 = XGBRegressor(learning_rate =0.049, n_estimators=1000, max_depth=5,objective= 'reg:linear', min_child_weight=1, gamma=0, subsample=0.8, colsample_bytree=0.8, nthread=4, scale_pos_weight=1, seed=27)\n"
      ],
      "execution_count": 0,
      "outputs": []
    },
    {
      "cell_type": "code",
      "metadata": {
        "id": "pOOXDqoCVHVC",
        "colab_type": "code",
        "colab": {}
      },
      "source": [
        "xgb_param =xgb1.get_xgb_params()\n",
        "xgtrain = xgb.DMatrix(xtrain_scaled, label=ytrain)\n",
        "cvresult = xgb.cv(xgb_param, xgtrain, num_boost_round=xgb1.get_params()['n_estimators'], nfold=5, early_stopping_rounds=50)\n",
        "xgb1.set_params(n_estimators=cvresult.shape[0])"
      ],
      "execution_count": 0,
      "outputs": []
    },
    {
      "cell_type": "code",
      "metadata": {
        "id": "O-hUACc-l3PD",
        "colab_type": "code",
        "colab": {}
      },
      "source": [
        "xgb1.fit(xtrain_scaled,ytrain)\n",
        "xtest_scaled = StandardScaler().fit_transform(xtest.values)\n",
        "pred_XB =xgb1.predict(xtest_scaled)\n",
        "MSE=mean_squared_error(ytest, pred_XB)\n",
        "MSE"
      ],
      "execution_count": 0,
      "outputs": []
    },
    {
      "cell_type": "code",
      "metadata": {
        "id": "PZyNfFh_U2H3",
        "colab_type": "code",
        "colab": {}
      },
      "source": [
        ""
      ],
      "execution_count": 0,
      "outputs": []
    },
    {
      "cell_type": "code",
      "metadata": {
        "id": "3rdWV39VwQ01",
        "colab_type": "code",
        "colab": {}
      },
      "source": [
        "param_test1 = {\n",
        " 'max_depth':range(1,10,2),\n",
        " 'min_child_weight':range(0,8,2)\n",
        "}\n",
        "Gsearch1 = GridSearchCV(estimator = XGBRegressor(learning_rate =0.049, n_estimators=82,objective= 'reg:linear',  gamma=0, subsample=0.8, colsample_bytree=0.8, nthread=4, scale_pos_weight=1, seed=27), \n",
        " param_grid = param_test1,n_jobs=4,iid=False,cv=5)\n",
        "Gsearch1.fit(xtrain_scaled,ytrain)"
      ],
      "execution_count": 0,
      "outputs": []
    },
    {
      "cell_type": "code",
      "metadata": {
        "id": "pjOQ3oM6wQnU",
        "colab_type": "code",
        "colab": {}
      },
      "source": [
        "Gsearch1.best_params_, Gsearch1.best_score_"
      ],
      "execution_count": 0,
      "outputs": []
    },
    {
      "cell_type": "code",
      "metadata": {
        "id": "W6zRt-4R3hlt",
        "colab_type": "code",
        "colab": {}
      },
      "source": [
        "print(\"Residual sum of squares: %.2f\"\n",
        "              % np.mean((Gsearch1.predict(xtest_scaled) - ytest) ** 2))"
      ],
      "execution_count": 0,
      "outputs": []
    },
    {
      "cell_type": "code",
      "metadata": {
        "id": "PO9S6-q13f3h",
        "colab_type": "code",
        "colab": {}
      },
      "source": [
        "param_test2 = {\n",
        " 'max_depth':[2,3,4],\n",
        " 'min_child_weight':[2,3,4,5,6]\n",
        "}\n",
        "Gsearch2= GridSearchCV(estimator = XGBRegressor(learning_rate =0.049,n_estimators=87,objective= 'reg:linear',  gamma=0, subsample=0.8, colsample_bytree=0.8, nthread=4, scale_pos_weight=1, seed=27), \n",
        " param_grid = param_test2,n_jobs=4,iid=False, cv=5)\n",
        "Gsearch2.fit(xtrain_scaled,ytrain)"
      ],
      "execution_count": 0,
      "outputs": []
    },
    {
      "cell_type": "code",
      "metadata": {
        "id": "UTTMF76HAeUJ",
        "colab_type": "code",
        "colab": {}
      },
      "source": [
        "Gsearch2.best_params_, Gsearch2.best_score_"
      ],
      "execution_count": 0,
      "outputs": []
    },
    {
      "cell_type": "code",
      "metadata": {
        "id": "6HsGbP_VAeO5",
        "colab_type": "code",
        "colab": {}
      },
      "source": [
        "print(\"Residual sum of squares: %.2f\"\n",
        "              % np.mean((Gsearch2.predict(xtest_scaled) - ytest) ** 2))"
      ],
      "execution_count": 0,
      "outputs": []
    },
    {
      "cell_type": "code",
      "metadata": {
        "id": "RIOimEYpAvLA",
        "colab_type": "code",
        "colab": {}
      },
      "source": [
        ""
      ],
      "execution_count": 0,
      "outputs": []
    },
    {
      "cell_type": "code",
      "metadata": {
        "id": "bBxWV2gywQcw",
        "colab_type": "code",
        "colab": {}
      },
      "source": [
        "param_test3 = {\n",
        " 'gamma':[i/10.0 for i in range(0,5)]\n",
        "}\n",
        "Gsearch3 = GridSearchCV(estimator = XGBRegressor(learning_rate =0.049, n_estimators=87,objective= 'reg:linear',  max_depth=4,min_child_weight=5, subsample=0.8, colsample_bytree=0.8, nthread=4, scale_pos_weight=1, seed=27), \n",
        " param_grid = param_test3,n_jobs=4,iid=False, cv=5)\n",
        "Gsearch3.fit(xtrain_scaled,ytrain)"
      ],
      "execution_count": 0,
      "outputs": []
    },
    {
      "cell_type": "code",
      "metadata": {
        "id": "fmKLIDpC3EPr",
        "colab_type": "code",
        "colab": {}
      },
      "source": [
        "Gsearch3.best_params_,Gsearch3.best_score_"
      ],
      "execution_count": 0,
      "outputs": []
    },
    {
      "cell_type": "code",
      "metadata": {
        "id": "vWjblU0nQbXd",
        "colab_type": "code",
        "colab": {}
      },
      "source": [
        "xgb2 = XGBRegressor(learning_rate =0.049, n_estimators=1000, max_depth=4,objective= 'reg:linear', min_child_weight=5, gamma=0, subsample=0.8, colsample_bytree=0.8, nthread=4, scale_pos_weight=1, seed=27)\n"
      ],
      "execution_count": 0,
      "outputs": []
    },
    {
      "cell_type": "code",
      "metadata": {
        "id": "6m2glY6vQyW0",
        "colab_type": "code",
        "colab": {}
      },
      "source": [
        "xgb_param =xgb2.get_xgb_params()\n",
        "xgtrain = xgb.DMatrix(xtrain_scaled, label=ytrain)\n",
        "cvresult = xgb.cv(xgb_param, xgtrain, num_boost_round=xgb2.get_params()['n_estimators'], nfold=5, early_stopping_rounds=50)\n",
        "xgb2.set_params(n_estimators=cvresult.shape[0])"
      ],
      "execution_count": 0,
      "outputs": []
    },
    {
      "cell_type": "code",
      "metadata": {
        "id": "yVK8sO5JQyHA",
        "colab_type": "code",
        "colab": {}
      },
      "source": [
        ""
      ],
      "execution_count": 0,
      "outputs": []
    },
    {
      "cell_type": "code",
      "metadata": {
        "id": "-7GMhsha3EBn",
        "colab_type": "code",
        "colab": {}
      },
      "source": [
        "param_test4 = {\n",
        " 'subsample':[i/10.0 for i in range(1,10)],\n",
        " 'colsample_bytree':[i/10.0 for i in range(4,10)]\n",
        "}\n",
        "Gsearch4 = GridSearchCV(estimator = XGBRegressor(learning_rate =0.049, n_estimators=89,gamma=0,objective= 'reg:linear',  max_depth=4,min_child_weight=5, nthread=4, scale_pos_weight=1, seed=27), \n",
        "param_grid = param_test4,n_jobs=4,iid=False, cv=5)\n",
        "Gsearch4.fit(xtrain_scaled,ytrain)"
      ],
      "execution_count": 0,
      "outputs": []
    },
    {
      "cell_type": "code",
      "metadata": {
        "id": "QuwPsUXK3Dxd",
        "colab_type": "code",
        "colab": {}
      },
      "source": [
        "Gsearch4.best_params_,Gsearch4.best_score_"
      ],
      "execution_count": 0,
      "outputs": []
    },
    {
      "cell_type": "code",
      "metadata": {
        "id": "dt5gAaFaqmjG",
        "colab_type": "code",
        "colab": {}
      },
      "source": [
        "print(\"Residual sum of squares: %.2f\"\n",
        "              % np.mean((Gsearch4.predict(xtest_scaled) - ytest) ** 2))"
      ],
      "execution_count": 0,
      "outputs": []
    },
    {
      "cell_type": "code",
      "metadata": {
        "id": "G2J1SEIX3Dm1",
        "colab_type": "code",
        "colab": {}
      },
      "source": [
        "param_test5 = {\n",
        " 'subsample':[i/100.0 for i in range(55,65)],\n",
        " 'colsample_bytree':[i/100.0 for i in range(85,100)]\n",
        "}\n",
        "Gsearch5 = GridSearchCV(estimator = XGBRegressor(learning_rate =0.049,colsample_bytree=0.9,subsample=0.6, n_estimators=89,gamma=0,objective= 'reg:linear',  max_depth=4,min_child_weight=5, nthread=4, scale_pos_weight=1, seed=27), \n",
        "param_grid = param_test5,n_jobs=4,iid=False, cv=5)\n",
        "Gsearch5.fit(xtrain_scaled,ytrain)"
      ],
      "execution_count": 0,
      "outputs": []
    },
    {
      "cell_type": "code",
      "metadata": {
        "id": "b3R7eb5o3Dgn",
        "colab_type": "code",
        "colab": {}
      },
      "source": [
        "Gsearch5.best_params_,Gsearch5.best_score_"
      ],
      "execution_count": 0,
      "outputs": []
    },
    {
      "cell_type": "code",
      "metadata": {
        "id": "yQBcvK-RqgbV",
        "colab_type": "code",
        "colab": {}
      },
      "source": [
        "print(\"Residual sum of squares: %.2f\"\n",
        "              % np.mean((Gsearch5.predict(xtest_scaled) - ytest) ** 2))"
      ],
      "execution_count": 0,
      "outputs": []
    },
    {
      "cell_type": "code",
      "metadata": {
        "id": "wy849nnTAM2m",
        "colab_type": "code",
        "colab": {}
      },
      "source": [
        "param_test6 = {\n",
        "    \n",
        " 'reg_alpha':[1e-5, 1e-2, 0.1, 1,25,50,75, 100,125,150,175,200]\n",
        "\n",
        "}\n",
        "Gsearch6 = GridSearchCV(estimator = XGBRegressor(learning_rate =0.049,colsample_bytree=0.85,subsample=0.58, n_estimators=89,gamma=0,objective= 'reg:linear',  max_depth=4,min_child_weight=5, nthread=4, scale_pos_weight=1, seed=27), \n",
        "param_grid = param_test6,n_jobs=4,iid=False, cv=5)\n",
        "Gsearch6.fit(xtrain_scaled,ytrain)"
      ],
      "execution_count": 0,
      "outputs": []
    },
    {
      "cell_type": "code",
      "metadata": {
        "id": "Q9kUiNnjAMxt",
        "colab_type": "code",
        "colab": {}
      },
      "source": [
        "Gsearch6.best_params_,Gsearch6.best_score_"
      ],
      "execution_count": 0,
      "outputs": []
    },
    {
      "cell_type": "code",
      "metadata": {
        "id": "Qu3iJXYFAMtA",
        "colab_type": "code",
        "colab": {}
      },
      "source": [
        "print(\"Residual sum of squares: %.2f\"\n",
        "              % np.mean((Gsearch6.predict(xtest_scaled) - ytest) ** 2))"
      ],
      "execution_count": 0,
      "outputs": []
    },
    {
      "cell_type": "code",
      "metadata": {
        "id": "ypYVSfhH5Wiw",
        "colab_type": "code",
        "colab": {}
      },
      "source": [
        "param_test7 = {\n",
        " 'reg_alpha':[198,199,200,201,202]\n",
        "}\n",
        "Gsearch7 = GridSearchCV(estimator = XGBRegressor(learning_rate =0.049,colsample_bytree=0.85,subsample=0.58, n_estimators=89,gamma=0,objective= 'reg:linear',  max_depth=4,min_child_weight=5, nthread=4, scale_pos_weight=1, seed=27), \n",
        "param_grid = param_test7,n_jobs=4,iid=False, cv=5)\n",
        "Gsearch7.fit(xtrain_scaled,ytrain)"
      ],
      "execution_count": 0,
      "outputs": []
    },
    {
      "cell_type": "code",
      "metadata": {
        "id": "24C_5zZ3AMeV",
        "colab_type": "code",
        "colab": {}
      },
      "source": [
        "Gsearch7.best_params_,Gsearch7.best_score_"
      ],
      "execution_count": 0,
      "outputs": []
    },
    {
      "cell_type": "code",
      "metadata": {
        "id": "T4by2GSyr1Hn",
        "colab_type": "code",
        "colab": {}
      },
      "source": [
        "xgb3 = XGBRegressor(learning_rate =0.049, n_estimators=1000, max_depth=4,objective= 'reg:linear', min_child_weight=5,reg_alpha=200, gamma=0, subsample=0.58, colsample_bytree=0.85, nthread=4, scale_pos_weight=1, seed=27)\n"
      ],
      "execution_count": 0,
      "outputs": []
    },
    {
      "cell_type": "code",
      "metadata": {
        "id": "Zw0j6EEcr1CI",
        "colab_type": "code",
        "colab": {}
      },
      "source": [
        "xgb_param =xgb3.get_xgb_params()\n",
        "xgtrain = xgb.DMatrix(xtrain_scaled, label=ytrain)\n",
        "cvresult = xgb.cv(xgb_param, xgtrain, num_boost_round=xgb3.get_params()['n_estimators'], nfold=5, early_stopping_rounds=50)\n",
        "xgb3.set_params(n_estimators=cvresult.shape[0])"
      ],
      "execution_count": 0,
      "outputs": []
    },
    {
      "cell_type": "code",
      "metadata": {
        "id": "O4jF4GAUJQap",
        "colab_type": "code",
        "colab": {}
      },
      "source": [
        "xgb3.fit(xtrain_scaled,ytrain)"
      ],
      "execution_count": 0,
      "outputs": []
    },
    {
      "cell_type": "code",
      "metadata": {
        "id": "0yb8b0cxJaoq",
        "colab_type": "code",
        "colab": {}
      },
      "source": [
        "\n",
        "print(\"Residual sum of squares: %.2f\"\n",
        "              % np.mean((xgb3.predict(xtest_scaled) - ytest) ** 2))"
      ],
      "execution_count": 0,
      "outputs": []
    },
    {
      "cell_type": "code",
      "metadata": {
        "id": "q-mFmfSJ21GK",
        "colab_type": "code",
        "colab": {}
      },
      "source": [
        ""
      ],
      "execution_count": 0,
      "outputs": []
    },
    {
      "cell_type": "code",
      "metadata": {
        "id": "JGeoY1sor08c",
        "colab_type": "code",
        "colab": {}
      },
      "source": [
        "xgb4 = XGBRegressor(learning_rate =0.01, n_estimators=5000, max_depth=4,objective= 'reg:linear', min_child_weight=5,reg_alpha=200, gamma=0, subsample=0.58, colsample_bytree=0.85, nthread=4, scale_pos_weight=1, seed=27)\n"
      ],
      "execution_count": 0,
      "outputs": []
    },
    {
      "cell_type": "code",
      "metadata": {
        "id": "idM03xJbr01d",
        "colab_type": "code",
        "colab": {}
      },
      "source": [
        "xgb_param =xgb4.get_xgb_params()\n",
        "xgtrain = xgb.DMatrix(xtrain_scaled, label=ytrain)\n",
        "cvresult = xgb.cv(xgb_param, xgtrain, num_boost_round=xgb4.get_params()['n_estimators'], nfold=5, early_stopping_rounds=50)\n",
        "xgb4.set_params(n_estimators=cvresult.shape[0])"
      ],
      "execution_count": 0,
      "outputs": []
    },
    {
      "cell_type": "code",
      "metadata": {
        "id": "oKSTJV9_7ngG",
        "colab_type": "code",
        "colab": {}
      },
      "source": [
        "xgb4.fit(xtrain_scaled,ytrain)"
      ],
      "execution_count": 0,
      "outputs": []
    },
    {
      "cell_type": "code",
      "metadata": {
        "id": "epkvLC8m7I7_",
        "colab_type": "code",
        "colab": {}
      },
      "source": [
        "\n",
        "print(\"Residual sum of squares: %.2f\"\n",
        "              % np.mean((xgb4.predict(xtest_scaled) - ytest) ** 2))"
      ],
      "execution_count": 0,
      "outputs": []
    },
    {
      "cell_type": "code",
      "metadata": {
        "id": "frvHcZ9u7I2X",
        "colab_type": "code",
        "colab": {}
      },
      "source": [
        "mean_absolute_error(xgb4.predict(xtest_scaled),ytest)"
      ],
      "execution_count": 0,
      "outputs": []
    },
    {
      "cell_type": "code",
      "metadata": {
        "id": "FuaMWZ947IxX",
        "colab_type": "code",
        "colab": {}
      },
      "source": [
        "xgb_4=xgb4.predict(xtest_scaled)"
      ],
      "execution_count": 0,
      "outputs": []
    },
    {
      "cell_type": "code",
      "metadata": {
        "id": "wYqhe6O97IrC",
        "colab_type": "code",
        "colab": {}
      },
      "source": [
        "from sklearn.model_selection import KFold \n",
        "  \n",
        "kf = KFold(n_splits=5,  random_state=None) \n",
        "xgt4_lvl1_train=[]\n",
        "xgt4_lvl1_y=[]\n",
        "for train_index, test_index in kf.split(xtrain_scaled):\n",
        "#       print(\"Train:\", train_index, \"Validation:\",test_index)\n",
        "    X_train, X_test = xtrain_scaled[train_index], xtrain_scaled[test_index] \n",
        "    y_train, y_test = ytrain[train_index], ytrain[test_index]\n",
        "    xgb4.fit(X_train, y_train) \n",
        "    xgt4_lvl1_train.extend(xgb4.predict(X_test))\n",
        "    xgt4_lvl1_y.extend(y_test)"
      ],
      "execution_count": 0,
      "outputs": []
    },
    {
      "cell_type": "code",
      "metadata": {
        "id": "XLwuxPFzUwDb",
        "colab_type": "code",
        "colab": {}
      },
      "source": [
        ""
      ],
      "execution_count": 0,
      "outputs": []
    },
    {
      "cell_type": "code",
      "metadata": {
        "id": "1tisangAUv7d",
        "colab_type": "code",
        "colab": {}
      },
      "source": [
        ""
      ],
      "execution_count": 0,
      "outputs": []
    },
    {
      "cell_type": "code",
      "metadata": {
        "id": "FWr06axhTyph",
        "colab_type": "code",
        "colab": {}
      },
      "source": [
        "data_lvl1_train = {'Light_GBM_Pred':lgb_lvl1_train,'pred_LR':LR_lvl1_train,'R_F_Pred':RF_lvl1_train,'gbm_3t':gbm1_lvl1_train,'pred_GBR':gbm2_lvl1_train,'xgt':xgt1_lvl1_train,'pred_XB1':xgt2_lvl1_train,'pred_XB2':xgt3_lvl1_train,'xgb_4':xgt4_lvl1_train,'ynn':nn2_lvl1_train,'prediction_nn':nn_lvl1_train}"
      ],
      "execution_count": 0,
      "outputs": []
    },
    {
      "cell_type": "code",
      "metadata": {
        "id": "Lun0-deTTyee",
        "colab_type": "code",
        "colab": {}
      },
      "source": [
        "data_lvl1_train=pd.DataFrame(data=data_lvl1_train)"
      ],
      "execution_count": 0,
      "outputs": []
    },
    {
      "cell_type": "code",
      "metadata": {
        "id": "hCWJZa8JYqQC",
        "colab_type": "code",
        "colab": {}
      },
      "source": [
        "data_lvl1_train=data_lvl1_train.astype('float32')"
      ],
      "execution_count": 0,
      "outputs": []
    },
    {
      "cell_type": "code",
      "metadata": {
        "id": "irUfHewHXhAN",
        "colab_type": "code",
        "colab": {}
      },
      "source": [
        "data_lvl1_train.head()"
      ],
      "execution_count": 0,
      "outputs": []
    },
    {
      "cell_type": "code",
      "metadata": {
        "id": "aqvW7ki8kmTc",
        "colab_type": "code",
        "colab": {}
      },
      "source": [
        "ytrain.head()"
      ],
      "execution_count": 0,
      "outputs": []
    },
    {
      "cell_type": "code",
      "metadata": {
        "id": "f_PRaadBef4M",
        "colab_type": "code",
        "colab": {}
      },
      "source": [
        "\n",
        "# import lightgbm as lgb\n",
        "# train_data=lgb.Dataset(xtrain_scaled,label=ytrain)\n",
        "# params = {'learning_rate':0.029}\n",
        "# model= lgb.train(params, train_data, 100)\n",
        "# xtest_scaled = StandardScaler().fit_transform(xtest.values)\n",
        "# y_pred_lgb=model.predict(xtest_scaled)\n",
        "# from sklearn.metrics import mean_squared_error\n",
        "# rmse=mean_squared_error(y_pred_lgb,ytest)**0.5\n",
        "# rmse"
      ],
      "execution_count": 0,
      "outputs": []
    },
    {
      "cell_type": "code",
      "metadata": {
        "id": "t_zUN1mgzvpK",
        "colab_type": "code",
        "colab": {}
      },
      "source": [
        "# mean_absolute_error(y_pred_lgb,ytest)"
      ],
      "execution_count": 0,
      "outputs": []
    },
    {
      "cell_type": "code",
      "metadata": {
        "id": "AHXISyUOiXUY",
        "colab_type": "code",
        "colab": {}
      },
      "source": [
        ""
      ],
      "execution_count": 0,
      "outputs": []
    },
    {
      "cell_type": "code",
      "metadata": {
        "id": "jR84y7POdLsf",
        "colab_type": "code",
        "colab": {}
      },
      "source": [
        ""
      ],
      "execution_count": 0,
      "outputs": []
    },
    {
      "cell_type": "code",
      "metadata": {
        "id": "dvIeBi14dLYs",
        "colab_type": "code",
        "colab": {}
      },
      "source": [
        ""
      ],
      "execution_count": 0,
      "outputs": []
    },
    {
      "cell_type": "code",
      "metadata": {
        "id": "bfi_Pa89Ndr7",
        "colab_type": "code",
        "colab": {}
      },
      "source": [
        "# Light_GBM_Pred=Light_GBM_Pred.reshape((5681,1))\n",
        "# pred_LR=pred_LR.reshape((5681,1))\n",
        "# R_F_Pred=R_F_Pred.reshape((5681,1))\n",
        "# prediction_nn=prediction_nn.reshape((5681,1))\n",
        "# ynn=ynn.reshape((5681,1))\n",
        "# gbm_3t=gbm_3t.reshape((5681,1))\n",
        "# pred_GBR=pred_GBR.reshape((5681,1))\n",
        "# xgt=xgt.reshape((5681,1))\n",
        "# pred_XB1=pred_XB1.reshape((5681,1))\n",
        "# pred_XB2=pred_XB2.reshape((5681,1))\n",
        "# xgb_4=xgb_4.reshape((5681,1))"
      ],
      "execution_count": 0,
      "outputs": []
    },
    {
      "cell_type": "code",
      "metadata": {
        "id": "SqlTThJkdpR4",
        "colab_type": "code",
        "colab": {}
      },
      "source": [
        "dataset_final = {'Light_GBM_Pred':Light_GBM_Pred,'pred_LR':pred_LR,'R_F_Pred':R_F_Pred,'gbm_3t':gbm_3t,'pred_GBR':pred_GBR,'xgt':xgt,'pred_XB1':pred_XB1,'pred_XB2':pred_XB2,'xgb_4':xgb_4,'ynn':ynn,'prediction_nn':prediction_nn}"
      ],
      "execution_count": 0,
      "outputs": []
    },
    {
      "cell_type": "code",
      "metadata": {
        "id": "RfFPX0O3rbDS",
        "colab_type": "code",
        "colab": {}
      },
      "source": [
        "dataset_final=pd.DataFrame(data=dataset_final)"
      ],
      "execution_count": 0,
      "outputs": []
    },
    {
      "cell_type": "code",
      "metadata": {
        "id": "0tSGbeMchOo0",
        "colab_type": "code",
        "colab": {}
      },
      "source": [
        "dataset_final.head()"
      ],
      "execution_count": 0,
      "outputs": []
    },
    {
      "cell_type": "code",
      "metadata": {
        "id": "-958ikQ2i76a",
        "colab_type": "code",
        "colab": {}
      },
      "source": [
        "from xgboost import XGBRegressor\n",
        "model_XB = XGBRegressor(n_estimators=85, learning_rate=0.056)\n",
        "model_XB.fit(data_lvl1_train,ytrain)\n",
        "# train_pred= model_XB.predict(data_lvl1_train)\n",
        "final= model_XB.predict(dataset_final)\n",
        "MSE=mean_squared_error(ytest, final)\n",
        "RMSE=(MSE)**0.5\n",
        "RMSE"
      ],
      "execution_count": 0,
      "outputs": []
    },
    {
      "cell_type": "code",
      "metadata": {
        "id": "lb1dJO9bjrLc",
        "colab_type": "code",
        "colab": {}
      },
      "source": [
        "mean_absolute_error(ytest, final)"
      ],
      "execution_count": 0,
      "outputs": []
    },
    {
      "cell_type": "code",
      "metadata": {
        "id": "uzOatYcOdyo6",
        "colab_type": "code",
        "colab": {}
      },
      "source": [
        "ytrain[:15]"
      ],
      "execution_count": 0,
      "outputs": []
    },
    {
      "cell_type": "code",
      "metadata": {
        "id": "b0L0lrgedyT8",
        "colab_type": "code",
        "colab": {}
      },
      "source": [
        "train_pred[:15]"
      ],
      "execution_count": 0,
      "outputs": []
    },
    {
      "cell_type": "code",
      "metadata": {
        "id": "yV33_bTesFmi",
        "colab_type": "code",
        "colab": {}
      },
      "source": [
        "ysub=dataset_final.mean(axis=1)"
      ],
      "execution_count": 0,
      "outputs": []
    },
    {
      "cell_type": "code",
      "metadata": {
        "id": "EqUvHnCMi7a4",
        "colab_type": "code",
        "colab": {}
      },
      "source": [
        "mean_absolute_error(ysub,ytest)"
      ],
      "execution_count": 0,
      "outputs": []
    },
    {
      "cell_type": "code",
      "metadata": {
        "id": "WaWZbK0YlKJo",
        "colab_type": "code",
        "colab": {}
      },
      "source": [
        ""
      ],
      "execution_count": 0,
      "outputs": []
    },
    {
      "cell_type": "code",
      "metadata": {
        "id": "9RQhe7GDlKBH",
        "colab_type": "code",
        "colab": {}
      },
      "source": [
        ""
      ],
      "execution_count": 0,
      "outputs": []
    },
    {
      "cell_type": "code",
      "metadata": {
        "id": "vf28Qwo7z_3V",
        "colab_type": "code",
        "colab": {}
      },
      "source": [
        ""
      ],
      "execution_count": 0,
      "outputs": []
    },
    {
      "cell_type": "code",
      "metadata": {
        "id": "_UJZEUgiz_tm",
        "colab_type": "code",
        "colab": {}
      },
      "source": [
        ""
      ],
      "execution_count": 0,
      "outputs": []
    },
    {
      "cell_type": "code",
      "metadata": {
        "id": "yetCft9mz_k3",
        "colab_type": "code",
        "colab": {}
      },
      "source": [
        "\n",
        "#build our model\n",
        "model_nn_final = Sequential()\n",
        "\n",
        "model_nn_final.add(Dense(40, activation='relu'))\n",
        "model_nn_final.add(Dense(50, activation='relu'))\n",
        "model_nn_final.add(Dense(50, activation='relu'))\n",
        "model_nn_final.add(Dense(1))\n",
        "\n",
        "model_nn_final.compile(loss='mean_squared_error', optimizer='adam',metrics=['accuracy'])\n",
        "\n",
        "\n",
        "\n",
        "\n",
        "\n",
        "\n",
        "hist=model_nn_final.fit(\n",
        "    data_lvl1_train.values,\n",
        "    ytrain.values,\n",
        "    batch_size=50,\n",
        "    epochs=60,\n",
        "    shuffle=True,\n",
        "   \n",
        "    \n",
        "    \n",
        ")\n",
        "final_out=model_nn_final.predict(dataset_final)\n",
        "mean_absolute_error(final_out,ytest)\n"
      ],
      "execution_count": 0,
      "outputs": []
    },
    {
      "cell_type": "code",
      "metadata": {
        "id": "E_kBwd9rz_c8",
        "colab_type": "code",
        "colab": {}
      },
      "source": [
        ""
      ],
      "execution_count": 0,
      "outputs": []
    },
    {
      "cell_type": "code",
      "metadata": {
        "id": "Sj_Q96ljkmyf",
        "colab_type": "code",
        "colab": {}
      },
      "source": [
        ""
      ],
      "execution_count": 0,
      "outputs": []
    },
    {
      "cell_type": "code",
      "metadata": {
        "id": "fiMWhX7cz_U5",
        "colab_type": "code",
        "outputId": "32c78812-cea9-4350-a897-7134efb205fd",
        "colab": {
          "base_uri": "https://localhost:8080/",
          "height": 51
        }
      },
      "source": [
        "from xgboost import XGBRegressor\n",
        "model_XB1 = XGBRegressor(base_score=0.5, booster='gbtree', colsample_bylevel=1,colsample_bynode=1, colsample_bytree=1,gamma=0,importance_type='gain',learning_rate =0.049, max_delta_step=0,max_depth =3,min_child_weight=4,missing=None, n_estimators=98,n_jobs=1, objective='reg:linear', random_state=0,reg_alpha=0, reg_lambda=1,scale_pos_weight=1,subsample=1, verbosity=1)\n",
        "model_XB1.fit(xtrain_scaled,ytrain)\n",
        "xtest_scaled = StandardScaler().fit_transform(xtest.values)\n",
        "pred= model_XB1.predict(xtest_scaled)\n",
        "MSE=mean_absolute_error(ytest, pred)\n",
        "# RMSE=(MSE)**0.5\n",
        "MSE\n"
      ],
      "execution_count": 0,
      "outputs": [
        {
          "output_type": "stream",
          "text": [
            "[16:21:35] WARNING: /workspace/src/objective/regression_obj.cu:152: reg:linear is now deprecated in favor of reg:squarederror.\n"
          ],
          "name": "stdout"
        },
        {
          "output_type": "execute_result",
          "data": {
            "text/plain": [
              "82.48871536229045"
            ]
          },
          "metadata": {
            "tags": []
          },
          "execution_count": 333
        }
      ]
    },
    {
      "cell_type": "code",
      "metadata": {
        "id": "eWcQYlfyz_M4",
        "colab_type": "code",
        "colab": {}
      },
      "source": [
        ""
      ],
      "execution_count": 0,
      "outputs": []
    },
    {
      "cell_type": "code",
      "metadata": {
        "id": "mP-BgMgMz_Fu",
        "colab_type": "code",
        "outputId": "e707de72-7945-450c-f168-07e9ec408af9",
        "colab": {
          "base_uri": "https://localhost:8080/",
          "height": 85
        }
      },
      "source": [
        "final[:15]"
      ],
      "execution_count": 0,
      "outputs": [
        {
          "output_type": "execute_result",
          "data": {
            "text/plain": [
              "array([1467.4524 , 1414.3921 ,  741.31323, 2505.1042 , 5863.0503 ,\n",
              "       1886.5448 ,  585.94055, 2157.8801 , 1502.3824 , 3162.6836 ,\n",
              "       1918.0828 , 1359.5903 ,  741.31323, 2060.765  ,  824.30994],\n",
              "      dtype=float32)"
            ]
          },
          "metadata": {
            "tags": []
          },
          "execution_count": 341
        }
      ]
    },
    {
      "cell_type": "code",
      "metadata": {
        "id": "Uf-DPdmA8QAd",
        "colab_type": "code",
        "outputId": "1f2b3f99-25fc-43a3-c259-1338e6902d7e",
        "colab": {
          "base_uri": "https://localhost:8080/",
          "height": 289
        }
      },
      "source": [
        "ytest[:15]"
      ],
      "execution_count": 0,
      "outputs": [
        {
          "output_type": "execute_result",
          "data": {
            "text/plain": [
              "0     1636.244023\n",
              "1     1409.355910\n",
              "2      710.594286\n",
              "3     2355.184955\n",
              "4     5857.916205\n",
              "5     1853.228827\n",
              "6      733.598282\n",
              "7     2273.425151\n",
              "8     1499.740111\n",
              "9     3203.582302\n",
              "10    1901.548073\n",
              "11    1360.758086\n",
              "12     744.934675\n",
              "13    2041.953121\n",
              "14     867.471557\n",
              "Name: Item_Outlet_Sales, dtype: float64"
            ]
          },
          "metadata": {
            "tags": []
          },
          "execution_count": 342
        }
      ]
    },
    {
      "cell_type": "code",
      "metadata": {
        "id": "yt6CmFq2-kM7",
        "colab_type": "code",
        "colab": {}
      },
      "source": [
        "target_submission=Data_submission"
      ],
      "execution_count": 0,
      "outputs": []
    },
    {
      "cell_type": "code",
      "metadata": {
        "id": "yc5U3jW__N4X",
        "colab_type": "code",
        "colab": {}
      },
      "source": [
        "target_submission.Item_Outlet_Sales=final"
      ],
      "execution_count": 0,
      "outputs": []
    },
    {
      "cell_type": "code",
      "metadata": {
        "id": "yKfu_Kvv_ZCY",
        "colab_type": "code",
        "outputId": "fe64185b-7c97-4b90-adec-73730a2a9f31",
        "colab": {
          "base_uri": "https://localhost:8080/",
          "height": 204
        }
      },
      "source": [
        "target_submission.head()"
      ],
      "execution_count": 0,
      "outputs": [
        {
          "output_type": "execute_result",
          "data": {
            "text/html": [
              "<div>\n",
              "<style scoped>\n",
              "    .dataframe tbody tr th:only-of-type {\n",
              "        vertical-align: middle;\n",
              "    }\n",
              "\n",
              "    .dataframe tbody tr th {\n",
              "        vertical-align: top;\n",
              "    }\n",
              "\n",
              "    .dataframe thead th {\n",
              "        text-align: right;\n",
              "    }\n",
              "</style>\n",
              "<table border=\"1\" class=\"dataframe\">\n",
              "  <thead>\n",
              "    <tr style=\"text-align: right;\">\n",
              "      <th></th>\n",
              "      <th>Unnamed: 0</th>\n",
              "      <th>Item_Identifier</th>\n",
              "      <th>Outlet_Identifier</th>\n",
              "      <th>Item_Outlet_Sales</th>\n",
              "    </tr>\n",
              "  </thead>\n",
              "  <tbody>\n",
              "    <tr>\n",
              "      <th>0</th>\n",
              "      <td>0</td>\n",
              "      <td>FDW58</td>\n",
              "      <td>OUT049</td>\n",
              "      <td>1573.061768</td>\n",
              "    </tr>\n",
              "    <tr>\n",
              "      <th>1</th>\n",
              "      <td>1</td>\n",
              "      <td>FDW14</td>\n",
              "      <td>OUT017</td>\n",
              "      <td>1401.270142</td>\n",
              "    </tr>\n",
              "    <tr>\n",
              "      <th>2</th>\n",
              "      <td>2</td>\n",
              "      <td>NCN55</td>\n",
              "      <td>OUT010</td>\n",
              "      <td>761.030457</td>\n",
              "    </tr>\n",
              "    <tr>\n",
              "      <th>3</th>\n",
              "      <td>3</td>\n",
              "      <td>FDQ58</td>\n",
              "      <td>OUT017</td>\n",
              "      <td>2488.246582</td>\n",
              "    </tr>\n",
              "    <tr>\n",
              "      <th>4</th>\n",
              "      <td>4</td>\n",
              "      <td>FDY38</td>\n",
              "      <td>OUT027</td>\n",
              "      <td>5898.828613</td>\n",
              "    </tr>\n",
              "  </tbody>\n",
              "</table>\n",
              "</div>"
            ],
            "text/plain": [
              "   Unnamed: 0 Item_Identifier Outlet_Identifier  Item_Outlet_Sales\n",
              "0           0           FDW58            OUT049        1573.061768\n",
              "1           1           FDW14            OUT017        1401.270142\n",
              "2           2           NCN55            OUT010         761.030457\n",
              "3           3           FDQ58            OUT017        2488.246582\n",
              "4           4           FDY38            OUT027        5898.828613"
            ]
          },
          "metadata": {
            "tags": []
          },
          "execution_count": 529
        }
      ]
    },
    {
      "cell_type": "code",
      "metadata": {
        "id": "Q3BIFA3zS2zC",
        "colab_type": "code",
        "colab": {}
      },
      "source": [
        "target_submission.to_csv('final_sub.csv')"
      ],
      "execution_count": 0,
      "outputs": []
    },
    {
      "cell_type": "code",
      "metadata": {
        "id": "GlHdI01j8bwH",
        "colab_type": "code",
        "colab": {}
      },
      "source": [
        ""
      ],
      "execution_count": 0,
      "outputs": []
    }
  ]
}